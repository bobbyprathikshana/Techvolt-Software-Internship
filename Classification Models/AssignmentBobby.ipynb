{
 "cells": [
  {
   "cell_type": "markdown",
   "metadata": {},
   "source": [
    "# Importing the Libraries"
   ]
  },
  {
   "cell_type": "code",
   "execution_count": 1,
   "metadata": {},
   "outputs": [],
   "source": [
    "import pandas as pd \n",
    "import numpy as np\n",
    "import warnings\n",
    "from scipy.stats import mode\n",
    "from sklearn.preprocessing import RobustScaler\n",
    "from sklearn.preprocessing import LabelEncoder\n",
    "from sklearn import model_selection\n",
    "from sklearn.model_selection import train_test_split\n",
    "from sklearn.linear_model import LogisticRegression\n",
    "from sklearn.neighbors import KNeighborsClassifier\n",
    "from sklearn.svm import SVC\n",
    "from sklearn.naive_bayes import GaussianNB\n",
    "from sklearn.tree import DecisionTreeClassifier\n",
    "from xgboost import XGBClassifier\n",
    "from sklearn.ensemble import AdaBoostClassifier\n",
    "from sklearn.ensemble import RandomForestClassifier\n",
    "from sklearn.feature_selection import SelectFromModel\n",
    "from sklearn import metrics\n",
    "from sklearn.metrics import confusion_matrix, classification_report,accuracy_score\n",
    "from sklearn.model_selection import GridSearchCV\n",
    "import matplotlib.pyplot as plt\n",
    "import seaborn as sns\n",
    "\n",
    "%matplotlib inline"
   ]
  },
  {
   "cell_type": "markdown",
   "metadata": {},
   "source": [
    "# Loading the Dataset"
   ]
  },
  {
   "cell_type": "code",
   "execution_count": 2,
   "metadata": {},
   "outputs": [
    {
     "data": {
      "text/html": [
       "<div>\n",
       "<style scoped>\n",
       "    .dataframe tbody tr th:only-of-type {\n",
       "        vertical-align: middle;\n",
       "    }\n",
       "\n",
       "    .dataframe tbody tr th {\n",
       "        vertical-align: top;\n",
       "    }\n",
       "\n",
       "    .dataframe thead th {\n",
       "        text-align: right;\n",
       "    }\n",
       "</style>\n",
       "<table border=\"1\" class=\"dataframe\">\n",
       "  <thead>\n",
       "    <tr style=\"text-align: right;\">\n",
       "      <th></th>\n",
       "      <th>Loan_ID</th>\n",
       "      <th>Gender</th>\n",
       "      <th>Married</th>\n",
       "      <th>Dependents</th>\n",
       "      <th>Education</th>\n",
       "      <th>Self_Employed</th>\n",
       "      <th>ApplicantIncome</th>\n",
       "      <th>CoapplicantIncome</th>\n",
       "      <th>LoanAmount</th>\n",
       "      <th>Loan_Amount_Term</th>\n",
       "      <th>Credit_History</th>\n",
       "      <th>Property_Area</th>\n",
       "      <th>Loan_Status</th>\n",
       "      <th>source</th>\n",
       "    </tr>\n",
       "  </thead>\n",
       "  <tbody>\n",
       "    <tr>\n",
       "      <th>0</th>\n",
       "      <td>LP001002</td>\n",
       "      <td>Male</td>\n",
       "      <td>No</td>\n",
       "      <td>0</td>\n",
       "      <td>Graduate</td>\n",
       "      <td>No</td>\n",
       "      <td>5849</td>\n",
       "      <td>0.0</td>\n",
       "      <td>NaN</td>\n",
       "      <td>360.0</td>\n",
       "      <td>1.0</td>\n",
       "      <td>Urban</td>\n",
       "      <td>Y</td>\n",
       "      <td>train</td>\n",
       "    </tr>\n",
       "    <tr>\n",
       "      <th>1</th>\n",
       "      <td>LP001003</td>\n",
       "      <td>Male</td>\n",
       "      <td>Yes</td>\n",
       "      <td>1</td>\n",
       "      <td>Graduate</td>\n",
       "      <td>No</td>\n",
       "      <td>4583</td>\n",
       "      <td>1508.0</td>\n",
       "      <td>128.0</td>\n",
       "      <td>360.0</td>\n",
       "      <td>1.0</td>\n",
       "      <td>Rural</td>\n",
       "      <td>N</td>\n",
       "      <td>train</td>\n",
       "    </tr>\n",
       "    <tr>\n",
       "      <th>2</th>\n",
       "      <td>LP001005</td>\n",
       "      <td>Male</td>\n",
       "      <td>Yes</td>\n",
       "      <td>0</td>\n",
       "      <td>Graduate</td>\n",
       "      <td>Yes</td>\n",
       "      <td>3000</td>\n",
       "      <td>0.0</td>\n",
       "      <td>66.0</td>\n",
       "      <td>360.0</td>\n",
       "      <td>1.0</td>\n",
       "      <td>Urban</td>\n",
       "      <td>Y</td>\n",
       "      <td>train</td>\n",
       "    </tr>\n",
       "    <tr>\n",
       "      <th>3</th>\n",
       "      <td>LP001006</td>\n",
       "      <td>Male</td>\n",
       "      <td>Yes</td>\n",
       "      <td>0</td>\n",
       "      <td>Not Graduate</td>\n",
       "      <td>No</td>\n",
       "      <td>2583</td>\n",
       "      <td>2358.0</td>\n",
       "      <td>120.0</td>\n",
       "      <td>360.0</td>\n",
       "      <td>1.0</td>\n",
       "      <td>Urban</td>\n",
       "      <td>Y</td>\n",
       "      <td>train</td>\n",
       "    </tr>\n",
       "    <tr>\n",
       "      <th>4</th>\n",
       "      <td>LP001008</td>\n",
       "      <td>Male</td>\n",
       "      <td>No</td>\n",
       "      <td>0</td>\n",
       "      <td>Graduate</td>\n",
       "      <td>No</td>\n",
       "      <td>6000</td>\n",
       "      <td>0.0</td>\n",
       "      <td>141.0</td>\n",
       "      <td>360.0</td>\n",
       "      <td>1.0</td>\n",
       "      <td>Urban</td>\n",
       "      <td>Y</td>\n",
       "      <td>train</td>\n",
       "    </tr>\n",
       "  </tbody>\n",
       "</table>\n",
       "</div>"
      ],
      "text/plain": [
       "    Loan_ID Gender Married Dependents     Education Self_Employed  \\\n",
       "0  LP001002   Male      No          0      Graduate            No   \n",
       "1  LP001003   Male     Yes          1      Graduate            No   \n",
       "2  LP001005   Male     Yes          0      Graduate           Yes   \n",
       "3  LP001006   Male     Yes          0  Not Graduate            No   \n",
       "4  LP001008   Male      No          0      Graduate            No   \n",
       "\n",
       "   ApplicantIncome  CoapplicantIncome  LoanAmount  Loan_Amount_Term  \\\n",
       "0             5849                0.0         NaN             360.0   \n",
       "1             4583             1508.0       128.0             360.0   \n",
       "2             3000                0.0        66.0             360.0   \n",
       "3             2583             2358.0       120.0             360.0   \n",
       "4             6000                0.0       141.0             360.0   \n",
       "\n",
       "   Credit_History Property_Area Loan_Status source  \n",
       "0             1.0         Urban           Y  train  \n",
       "1             1.0         Rural           N  train  \n",
       "2             1.0         Urban           Y  train  \n",
       "3             1.0         Urban           Y  train  \n",
       "4             1.0         Urban           Y  train  "
      ]
     },
     "execution_count": 2,
     "metadata": {},
     "output_type": "execute_result"
    }
   ],
   "source": [
    "train=pd.read_csv('Train.csv')\n",
    "test=pd.read_csv('Test.csv')\n",
    "\n",
    "train['source'] = 'train'\n",
    "test['source'] = 'test'\n",
    "\n",
    "# combining the test and train datasets\n",
    "data = pd.concat([train, test], ignore_index=True)\n",
    "data.head()"
   ]
  },
  {
   "cell_type": "code",
   "execution_count": 3,
   "metadata": {},
   "outputs": [
    {
     "name": "stdout",
     "output_type": "stream",
     "text": [
      "<class 'pandas.core.frame.DataFrame'>\n",
      "RangeIndex: 614 entries, 0 to 613\n",
      "Data columns (total 14 columns):\n",
      " #   Column             Non-Null Count  Dtype  \n",
      "---  ------             --------------  -----  \n",
      " 0   Loan_ID            614 non-null    object \n",
      " 1   Gender             601 non-null    object \n",
      " 2   Married            611 non-null    object \n",
      " 3   Dependents         599 non-null    object \n",
      " 4   Education          614 non-null    object \n",
      " 5   Self_Employed      582 non-null    object \n",
      " 6   ApplicantIncome    614 non-null    int64  \n",
      " 7   CoapplicantIncome  614 non-null    float64\n",
      " 8   LoanAmount         592 non-null    float64\n",
      " 9   Loan_Amount_Term   600 non-null    float64\n",
      " 10  Credit_History     564 non-null    float64\n",
      " 11  Property_Area      614 non-null    object \n",
      " 12  Loan_Status        614 non-null    object \n",
      " 13  source             614 non-null    object \n",
      "dtypes: float64(4), int64(1), object(9)\n",
      "memory usage: 67.3+ KB\n"
     ]
    }
   ],
   "source": [
    "train.info()"
   ]
  },
  {
   "cell_type": "code",
   "execution_count": 4,
   "metadata": {},
   "outputs": [
    {
     "name": "stdout",
     "output_type": "stream",
     "text": [
      "<class 'pandas.core.frame.DataFrame'>\n",
      "RangeIndex: 367 entries, 0 to 366\n",
      "Data columns (total 13 columns):\n",
      " #   Column             Non-Null Count  Dtype  \n",
      "---  ------             --------------  -----  \n",
      " 0   Loan_ID            367 non-null    object \n",
      " 1   Gender             356 non-null    object \n",
      " 2   Married            367 non-null    object \n",
      " 3   Dependents         357 non-null    object \n",
      " 4   Education          367 non-null    object \n",
      " 5   Self_Employed      344 non-null    object \n",
      " 6   ApplicantIncome    367 non-null    int64  \n",
      " 7   CoapplicantIncome  367 non-null    int64  \n",
      " 8   LoanAmount         362 non-null    float64\n",
      " 9   Loan_Amount_Term   361 non-null    float64\n",
      " 10  Credit_History     338 non-null    float64\n",
      " 11  Property_Area      367 non-null    object \n",
      " 12  source             367 non-null    object \n",
      "dtypes: float64(3), int64(2), object(8)\n",
      "memory usage: 37.4+ KB\n"
     ]
    }
   ],
   "source": [
    "test.info()"
   ]
  },
  {
   "cell_type": "code",
   "execution_count": 5,
   "metadata": {},
   "outputs": [
    {
     "name": "stdout",
     "output_type": "stream",
     "text": [
      "<class 'pandas.core.frame.DataFrame'>\n",
      "RangeIndex: 981 entries, 0 to 980\n",
      "Data columns (total 14 columns):\n",
      " #   Column             Non-Null Count  Dtype  \n",
      "---  ------             --------------  -----  \n",
      " 0   Loan_ID            981 non-null    object \n",
      " 1   Gender             957 non-null    object \n",
      " 2   Married            978 non-null    object \n",
      " 3   Dependents         956 non-null    object \n",
      " 4   Education          981 non-null    object \n",
      " 5   Self_Employed      926 non-null    object \n",
      " 6   ApplicantIncome    981 non-null    int64  \n",
      " 7   CoapplicantIncome  981 non-null    float64\n",
      " 8   LoanAmount         954 non-null    float64\n",
      " 9   Loan_Amount_Term   961 non-null    float64\n",
      " 10  Credit_History     902 non-null    float64\n",
      " 11  Property_Area      981 non-null    object \n",
      " 12  Loan_Status        614 non-null    object \n",
      " 13  source             981 non-null    object \n",
      "dtypes: float64(4), int64(1), object(9)\n",
      "memory usage: 107.4+ KB\n"
     ]
    }
   ],
   "source": [
    "data.info()"
   ]
  },
  {
   "cell_type": "raw",
   "metadata": {},
   "source": [
    "Inference:\n",
    "1. The dataset contains 12 columns out of which 11 are independent variables and Loan_Status is the dependent variable.\n",
    "2. Loan_Id, Gender, Married, Dependents, Education, Self_Employed, Property_Area and Loan_Status contain non numerical values and ApplicantIncome, CoapplicantIncome, LoanAmount, Loan_Amount_Term, Credit_History contain numerical values.\n",
    "3. The columns Gender, Married, Dependents, Self_Employed, LoanAmount and Credit_History contain missing values and needs to be imputed.\n",
    "4. The Loan_Status variable contains missing values that belong to the test dataset and need not be imputed.\n",
    "5. The columns Gender, Married, Dependents, Education, Self_Employed, Property_Area and Loan_Status contain categorical data and needs to be converted into numerical data.\n",
    "6. Loan_ID does not provide any significant information, so it can be removed."
   ]
  },
  {
   "cell_type": "code",
   "execution_count": 6,
   "metadata": {},
   "outputs": [
    {
     "data": {
      "text/html": [
       "<div>\n",
       "<style scoped>\n",
       "    .dataframe tbody tr th:only-of-type {\n",
       "        vertical-align: middle;\n",
       "    }\n",
       "\n",
       "    .dataframe tbody tr th {\n",
       "        vertical-align: top;\n",
       "    }\n",
       "\n",
       "    .dataframe thead th {\n",
       "        text-align: right;\n",
       "    }\n",
       "</style>\n",
       "<table border=\"1\" class=\"dataframe\">\n",
       "  <thead>\n",
       "    <tr style=\"text-align: right;\">\n",
       "      <th></th>\n",
       "      <th>ApplicantIncome</th>\n",
       "      <th>CoapplicantIncome</th>\n",
       "      <th>LoanAmount</th>\n",
       "      <th>Loan_Amount_Term</th>\n",
       "      <th>Credit_History</th>\n",
       "    </tr>\n",
       "  </thead>\n",
       "  <tbody>\n",
       "    <tr>\n",
       "      <th>count</th>\n",
       "      <td>981.000000</td>\n",
       "      <td>981.000000</td>\n",
       "      <td>954.000000</td>\n",
       "      <td>961.000000</td>\n",
       "      <td>902.000000</td>\n",
       "    </tr>\n",
       "    <tr>\n",
       "      <th>mean</th>\n",
       "      <td>5179.795107</td>\n",
       "      <td>1601.916330</td>\n",
       "      <td>142.511530</td>\n",
       "      <td>342.201873</td>\n",
       "      <td>0.835920</td>\n",
       "    </tr>\n",
       "    <tr>\n",
       "      <th>std</th>\n",
       "      <td>5695.104533</td>\n",
       "      <td>2718.772806</td>\n",
       "      <td>77.421743</td>\n",
       "      <td>65.100602</td>\n",
       "      <td>0.370553</td>\n",
       "    </tr>\n",
       "    <tr>\n",
       "      <th>min</th>\n",
       "      <td>0.000000</td>\n",
       "      <td>0.000000</td>\n",
       "      <td>9.000000</td>\n",
       "      <td>6.000000</td>\n",
       "      <td>0.000000</td>\n",
       "    </tr>\n",
       "    <tr>\n",
       "      <th>25%</th>\n",
       "      <td>2875.000000</td>\n",
       "      <td>0.000000</td>\n",
       "      <td>100.000000</td>\n",
       "      <td>360.000000</td>\n",
       "      <td>1.000000</td>\n",
       "    </tr>\n",
       "    <tr>\n",
       "      <th>50%</th>\n",
       "      <td>3800.000000</td>\n",
       "      <td>1110.000000</td>\n",
       "      <td>126.000000</td>\n",
       "      <td>360.000000</td>\n",
       "      <td>1.000000</td>\n",
       "    </tr>\n",
       "    <tr>\n",
       "      <th>75%</th>\n",
       "      <td>5516.000000</td>\n",
       "      <td>2365.000000</td>\n",
       "      <td>162.000000</td>\n",
       "      <td>360.000000</td>\n",
       "      <td>1.000000</td>\n",
       "    </tr>\n",
       "    <tr>\n",
       "      <th>max</th>\n",
       "      <td>81000.000000</td>\n",
       "      <td>41667.000000</td>\n",
       "      <td>700.000000</td>\n",
       "      <td>480.000000</td>\n",
       "      <td>1.000000</td>\n",
       "    </tr>\n",
       "  </tbody>\n",
       "</table>\n",
       "</div>"
      ],
      "text/plain": [
       "       ApplicantIncome  CoapplicantIncome  LoanAmount  Loan_Amount_Term  \\\n",
       "count       981.000000         981.000000  954.000000        961.000000   \n",
       "mean       5179.795107        1601.916330  142.511530        342.201873   \n",
       "std        5695.104533        2718.772806   77.421743         65.100602   \n",
       "min           0.000000           0.000000    9.000000          6.000000   \n",
       "25%        2875.000000           0.000000  100.000000        360.000000   \n",
       "50%        3800.000000        1110.000000  126.000000        360.000000   \n",
       "75%        5516.000000        2365.000000  162.000000        360.000000   \n",
       "max       81000.000000       41667.000000  700.000000        480.000000   \n",
       "\n",
       "       Credit_History  \n",
       "count      902.000000  \n",
       "mean         0.835920  \n",
       "std          0.370553  \n",
       "min          0.000000  \n",
       "25%          1.000000  \n",
       "50%          1.000000  \n",
       "75%          1.000000  \n",
       "max          1.000000  "
      ]
     },
     "execution_count": 6,
     "metadata": {},
     "output_type": "execute_result"
    }
   ],
   "source": [
    "data.describe()"
   ]
  },
  {
   "cell_type": "raw",
   "metadata": {},
   "source": [
    "Inference:\n",
    "The income of the Applicant and Co-applicant are found to be as low as 0."
   ]
  },
  {
   "cell_type": "markdown",
   "metadata": {},
   "source": [
    "# Data Preprocessing"
   ]
  },
  {
   "cell_type": "code",
   "execution_count": 7,
   "metadata": {},
   "outputs": [
    {
     "data": {
      "text/plain": [
       "Loan_ID                0\n",
       "Gender                24\n",
       "Married                3\n",
       "Dependents            25\n",
       "Education              0\n",
       "Self_Employed         55\n",
       "ApplicantIncome        0\n",
       "CoapplicantIncome      0\n",
       "LoanAmount            27\n",
       "Loan_Amount_Term      20\n",
       "Credit_History        79\n",
       "Property_Area          0\n",
       "Loan_Status          367\n",
       "source                 0\n",
       "dtype: int64"
      ]
     },
     "execution_count": 7,
     "metadata": {},
     "output_type": "execute_result"
    }
   ],
   "source": [
    "# checking for the presence of null values\n",
    "data.isnull().sum()"
   ]
  },
  {
   "cell_type": "code",
   "execution_count": 8,
   "metadata": {},
   "outputs": [
    {
     "data": {
      "text/plain": [
       "Text(0.5, 1, 'Correlation plot')"
      ]
     },
     "execution_count": 8,
     "metadata": {},
     "output_type": "execute_result"
    },
    {
     "data": {
      "image/png": "[encoded data removed]",
      "text/plain": [
       "<Figure size 720x576 with 2 Axes>"
      ]
     },
     "metadata": {
      "needs_background": "light"
     },
     "output_type": "display_data"
    }
   ],
   "source": [
    "# correlation plot\n",
    "f, ax = plt.subplots(figsize=(10, 8))\n",
    "sns.heatmap(train.corr(),yticklabels=True,annot=True,cmap=\"PuRd\")\n",
    "plt.title(\"Correlation plot\")"
   ]
  },
  {
   "cell_type": "raw",
   "metadata": {},
   "source": [
    "Inference:\n",
    "1. ApplicantIncome  and LoanAmount shows an average positive correlation of 0.57\n",
    "2. CoApplicantIncome  and LoanAmount Shows a weak positive correlation of 0.19\n",
    "3. All other variables exhibit a very weak correlation with each other and with the target variable."
   ]
  },
  {
   "cell_type": "code",
   "execution_count": 9,
   "metadata": {},
   "outputs": [
    {
     "name": "stdout",
     "output_type": "stream",
     "text": [
      "\n",
      "Frequency of Categories for Gender\n",
      "Male      775\n",
      "Female    182\n",
      "Name: Gender, dtype: int64\n",
      "\n",
      "Frequency of Categories for Married\n",
      "Yes    631\n",
      "No     347\n",
      "Name: Married, dtype: int64\n",
      "\n",
      "Frequency of Categories for Dependents\n",
      "0     545\n",
      "2     160\n",
      "1     160\n",
      "3+     91\n",
      "Name: Dependents, dtype: int64\n",
      "\n",
      "Frequency of Categories for Education\n",
      "Graduate        763\n",
      "Not Graduate    218\n",
      "Name: Education, dtype: int64\n",
      "\n",
      "Frequency of Categories for Self_Employed\n",
      "No     807\n",
      "Yes    119\n",
      "Name: Self_Employed, dtype: int64\n",
      "\n",
      "Frequency of Categories for Property_Area\n",
      "Semiurban    349\n",
      "Urban        342\n",
      "Rural        290\n",
      "Name: Property_Area, dtype: int64\n",
      "\n",
      "Frequency of Categories for Loan_Status\n",
      "Y    422\n",
      "N    192\n",
      "Name: Loan_Status, dtype: int64\n"
     ]
    }
   ],
   "source": [
    "# filter the categorical variables\n",
    "categorical_columns = [x for x in data.dtypes.index if data.dtypes[x]=='object']\n",
    "\n",
    "# exclude the loan_id and source columns\n",
    "categorical_columns = [x for x in categorical_columns if x not in ['Loan_ID', 'source']]\n",
    "\n",
    "# print the frequency of categories\n",
    "for col in categorical_columns:\n",
    "    print('\\nFrequency of Categories for %s'%(col))\n",
    "    print(data[col].value_counts())"
   ]
  },
  {
   "cell_type": "raw",
   "metadata": {},
   "source": [
    "Inference:\n",
    "1. Maximum number of applicants for home loan are Men.\n",
    "2. Most of those who applied for home loan are married. \n",
    "3. Also a good number of unmarried applicants can be seen.\n",
    "4. More than half of the home loan applicants do not have any dependents.\n",
    "5. A low number of applicants can only be seen having more than 3 dependents.\n",
    "6. Only a less number of Non Graduates have applied for the home loan.\n",
    "7. Loan seekers are mostly graduates and not self employed.\n",
    "8. The Property area  interests of home loan seekers are more or less equally distributed in semiurban , urban and rural areas.\n",
    "9. Most of the home loan applicants have been sanctioned with the loan amount and more analysis is required to understand the reason why a few loan applications have been rejected."
   ]
  },
  {
   "cell_type": "code",
   "execution_count": 10,
   "metadata": {},
   "outputs": [
    {
     "data": {
      "text/plain": [
       "Loan_ID                0\n",
       "Gender                 0\n",
       "Married                0\n",
       "Dependents             0\n",
       "Education              0\n",
       "Self_Employed          0\n",
       "ApplicantIncome        0\n",
       "CoapplicantIncome      0\n",
       "LoanAmount             0\n",
       "Loan_Amount_Term       0\n",
       "Credit_History         0\n",
       "Property_Area          0\n",
       "Loan_Status          367\n",
       "source                 0\n",
       "dtype: int64"
      ]
     },
     "execution_count": 10,
     "metadata": {},
     "output_type": "execute_result"
    }
   ],
   "source": [
    "# replacing missing values\n",
    "data['Gender'] = data.groupby('Education')['Gender'].transform(\n",
    "    lambda group: group.fillna(mode(group).mode[0]))\n",
    "data['Married'] = data.groupby('Education')['Married'].transform(\n",
    "    lambda group: group.fillna(mode(group).mode[0]))\n",
    "data['Dependents'] = data.groupby('Education')['Dependents'].transform(\n",
    "    lambda group: group.fillna(mode(group).mode[0]))\n",
    "data['Self_Employed'] = data.groupby('Gender')['Self_Employed'].transform(\n",
    "    lambda group: group.fillna(mode(group).mode[0]))\n",
    "data['LoanAmount'] = data.groupby('ApplicantIncome')['LoanAmount'].transform(\n",
    "    lambda grp: grp.replace(0,np.mean(grp)))\n",
    "data['LoanAmount'].fillna((data['LoanAmount'].mean()), inplace = True)\n",
    "data['Loan_Amount_Term'] = data.groupby('LoanAmount')['Loan_Amount_Term'].transform(\n",
    "    lambda grp: grp.fillna(np.mean(grp)))\n",
    "data['Credit_History'].fillna(1, inplace = True)\n",
    "data.isnull().sum()"
   ]
  },
  {
   "cell_type": "code",
   "execution_count": 11,
   "metadata": {},
   "outputs": [
    {
     "data": {
      "text/plain": [
       "0    570\n",
       "2    160\n",
       "1    160\n",
       "3     91\n",
       "Name: Dependents, dtype: int64"
      ]
     },
     "execution_count": 11,
     "metadata": {},
     "output_type": "execute_result"
    }
   ],
   "source": [
    "# removing + from dependents variable values\n",
    "data.Dependents=data.Dependents.apply(lambda x: x.strip('+'))\n",
    "data.Dependents.value_counts()"
   ]
  },
  {
   "cell_type": "code",
   "execution_count": 12,
   "metadata": {},
   "outputs": [
    {
     "name": "stdout",
     "output_type": "stream",
     "text": [
      "<class 'pandas.core.frame.DataFrame'>\n",
      "RangeIndex: 981 entries, 0 to 980\n",
      "Data columns (total 14 columns):\n",
      " #   Column             Non-Null Count  Dtype  \n",
      "---  ------             --------------  -----  \n",
      " 0   Loan_ID            981 non-null    object \n",
      " 1   Gender             981 non-null    object \n",
      " 2   Married            981 non-null    object \n",
      " 3   Dependents         981 non-null    object \n",
      " 4   Education          981 non-null    object \n",
      " 5   Self_Employed      981 non-null    object \n",
      " 6   ApplicantIncome    981 non-null    int64  \n",
      " 7   CoapplicantIncome  981 non-null    float64\n",
      " 8   LoanAmount         981 non-null    float64\n",
      " 9   Loan_Amount_Term   981 non-null    float64\n",
      " 10  Credit_History     981 non-null    float64\n",
      " 11  Property_Area      981 non-null    object \n",
      " 12  Loan_Status        614 non-null    object \n",
      " 13  source             981 non-null    object \n",
      "dtypes: float64(4), int64(1), object(9)\n",
      "memory usage: 107.4+ KB\n"
     ]
    }
   ],
   "source": [
    "data.info()"
   ]
  },
  {
   "cell_type": "markdown",
   "metadata": {},
   "source": [
    "# Exploratory Data Analysis"
   ]
  },
  {
   "cell_type": "code",
   "execution_count": 13,
   "metadata": {},
   "outputs": [],
   "source": [
    "plt.rcParams[\"figure.figsize\"] = (10,7)"
   ]
  },
  {
   "cell_type": "code",
   "execution_count": 14,
   "metadata": {},
   "outputs": [
    {
     "data": {
      "text/plain": [
       "Text(0.5, 1.0, 'Fig:0.1 Distribution of Applicant Income')"
      ]
     },
     "execution_count": 14,
     "metadata": {},
     "output_type": "execute_result"
    },
    {
     "data": {
      "image/png": "[encoded data removed]",
      "text/plain": [
       "<Figure size 720x504 with 1 Axes>"
      ]
     },
     "metadata": {
      "needs_background": "light"
     },
     "output_type": "display_data"
    }
   ],
   "source": [
    "sns.kdeplot(train['ApplicantIncome']);\n",
    "plt.title(\"Fig:0.1 Distribution of Applicant Income\")"
   ]
  },
  {
   "cell_type": "raw",
   "metadata": {},
   "source": [
    "Inference:\n",
    "1. The distribution of Applicant income is mostly left skewed.\n",
    "2. Most of the Applicant's income ranges between 0 and 10,000 and could belong to the lower income category."
   ]
  },
  {
   "cell_type": "code",
   "execution_count": 15,
   "metadata": {},
   "outputs": [
    {
     "data": {
      "text/plain": [
       "Text(0.5, 1.0, 'Fig:0.2 Distribution of Co applicant Income')"
      ]
     },
     "execution_count": 15,
     "metadata": {},
     "output_type": "execute_result"
    },
    {
     "data": {
      "image/png": "[encoded data removed]",
      "text/plain": [
       "<Figure size 720x504 with 1 Axes>"
      ]
     },
     "metadata": {
      "needs_background": "light"
     },
     "output_type": "display_data"
    }
   ],
   "source": [
    "sns.kdeplot(train['CoapplicantIncome']);\n",
    "plt.title(\"Fig:0.2 Distribution of Co applicant Income\")"
   ]
  },
  {
   "cell_type": "raw",
   "metadata": {},
   "source": [
    "Inference:\n",
    "1. The distribution of Co applicant's income is similar to that of applicant's income which are mostly left skewed.\n",
    "2. Here, the income ranges from 0 to 5,000 mostly, which is again the lower income category."
   ]
  },
  {
   "cell_type": "code",
   "execution_count": 16,
   "metadata": {},
   "outputs": [
    {
     "data": {
      "text/plain": [
       "Text(0.5, 1.0, 'Fig:0.3 Distribution of Loan Amount')"
      ]
     },
     "execution_count": 16,
     "metadata": {},
     "output_type": "execute_result"
    },
    {
     "data": {
      "image/png": "[encoded data removed]",
      "text/plain": [
       "<Figure size 720x504 with 1 Axes>"
      ]
     },
     "metadata": {
      "needs_background": "light"
     },
     "output_type": "display_data"
    }
   ],
   "source": [
    "sns.kdeplot(train['LoanAmount'].dropna());\n",
    "plt.title(\"Fig:0.3 Distribution of Loan Amount\")"
   ]
  },
  {
   "cell_type": "raw",
   "metadata": {},
   "source": [
    "Inference:\n",
    "1. The distribution of Loan Amount is also left skewed.\n",
    "2. Here, the Loan amount sought by applicants mostly ranges from 50 to 200.\n",
    "3. Applicants don't prefer higher loan amounts."
   ]
  },
  {
   "cell_type": "code",
   "execution_count": 17,
   "metadata": {},
   "outputs": [
    {
     "data": {
      "text/plain": [
       "Text(0.5, 1.0, 'Fig:0.4 Distribution of Loan Amount Term')"
      ]
     },
     "execution_count": 17,
     "metadata": {},
     "output_type": "execute_result"
    },
    {
     "data": {
      "image/png": "[encoded data removed]",
      "text/plain": [
       "<Figure size 720x504 with 1 Axes>"
      ]
     },
     "metadata": {
      "needs_background": "light"
     },
     "output_type": "display_data"
    }
   ],
   "source": [
    "sns.kdeplot(train['Loan_Amount_Term'], cumulative=True, bw=1)\n",
    "plt.title(\"Fig:0.4 Distribution of Loan Amount Term\")"
   ]
  },
  {
   "cell_type": "raw",
   "metadata": {},
   "source": [
    "Inference:\n",
    "1. The distribution of Loan Amount Term is aligned more towards the right.\n",
    "2. Majority of the Loan Applicants prefer longer Loan Amount term."
   ]
  },
  {
   "cell_type": "code",
   "execution_count": 18,
   "metadata": {},
   "outputs": [
    {
     "data": {
      "image/png": "[encoded data removed]",
      "text/plain": [
       "<Figure size 720x504 with 1 Axes>"
      ]
     },
     "metadata": {
      "needs_background": "light"
     },
     "output_type": "display_data"
    },
    {
     "data": {
      "text/html": [
       "<div>\n",
       "<style scoped>\n",
       "    .dataframe tbody tr th:only-of-type {\n",
       "        vertical-align: middle;\n",
       "    }\n",
       "\n",
       "    .dataframe tbody tr th {\n",
       "        vertical-align: top;\n",
       "    }\n",
       "\n",
       "    .dataframe thead th {\n",
       "        text-align: right;\n",
       "    }\n",
       "</style>\n",
       "<table border=\"1\" class=\"dataframe\">\n",
       "  <thead>\n",
       "    <tr style=\"text-align: right;\">\n",
       "      <th>Loan_Status</th>\n",
       "      <th>N</th>\n",
       "      <th>Y</th>\n",
       "    </tr>\n",
       "    <tr>\n",
       "      <th>Gender</th>\n",
       "      <th></th>\n",
       "      <th></th>\n",
       "    </tr>\n",
       "  </thead>\n",
       "  <tbody>\n",
       "    <tr>\n",
       "      <th>Female</th>\n",
       "      <td>37</td>\n",
       "      <td>75</td>\n",
       "    </tr>\n",
       "    <tr>\n",
       "      <th>Male</th>\n",
       "      <td>150</td>\n",
       "      <td>339</td>\n",
       "    </tr>\n",
       "  </tbody>\n",
       "</table>\n",
       "</div>"
      ],
      "text/plain": [
       "Loan_Status    N    Y\n",
       "Gender               \n",
       "Female        37   75\n",
       "Male         150  339"
      ]
     },
     "execution_count": 18,
     "metadata": {},
     "output_type": "execute_result"
    }
   ],
   "source": [
    "# plotting  Loan Status vs Gender graph\n",
    "gender_graph= pd.crosstab(train[\"Gender\"],train[\"Loan_Status\"])\n",
    "gender_graph.div(gender_graph.sum(1).astype(int),axis=0).plot(kind=\"bar\")\n",
    "plt.xlabel(\"Gender\")\n",
    "plt.ylabel(\"Loan Status\")\n",
    "plt.title(\"Fig:1.1 Loan Status vs Gender\")\n",
    "plt.show()\n",
    "gender_graph"
   ]
  },
  {
   "cell_type": "raw",
   "metadata": {},
   "source": [
    "Inference:\n",
    "1. Almost equal proportions of loan sanction status can be seen amoung both the genders.\n",
    "2. Since more men have applied for the home loan, positive sanction status of men are nearly 4 to 5 times than that of women.\n",
    "3. More than a quater portion of both men and women have received a rejected loan sanction status."
   ]
  },
  {
   "cell_type": "code",
   "execution_count": 19,
   "metadata": {},
   "outputs": [
    {
     "data": {
      "image/png": "[encoded data removed]",
      "text/plain": [
       "<Figure size 720x504 with 1 Axes>"
      ]
     },
     "metadata": {
      "needs_background": "light"
     },
     "output_type": "display_data"
    },
    {
     "data": {
      "text/html": [
       "<div>\n",
       "<style scoped>\n",
       "    .dataframe tbody tr th:only-of-type {\n",
       "        vertical-align: middle;\n",
       "    }\n",
       "\n",
       "    .dataframe tbody tr th {\n",
       "        vertical-align: top;\n",
       "    }\n",
       "\n",
       "    .dataframe thead th {\n",
       "        text-align: right;\n",
       "    }\n",
       "</style>\n",
       "<table border=\"1\" class=\"dataframe\">\n",
       "  <thead>\n",
       "    <tr style=\"text-align: right;\">\n",
       "      <th>Loan_Status</th>\n",
       "      <th>N</th>\n",
       "      <th>Y</th>\n",
       "    </tr>\n",
       "    <tr>\n",
       "      <th>Married</th>\n",
       "      <th></th>\n",
       "      <th></th>\n",
       "    </tr>\n",
       "  </thead>\n",
       "  <tbody>\n",
       "    <tr>\n",
       "      <th>No</th>\n",
       "      <td>79</td>\n",
       "      <td>134</td>\n",
       "    </tr>\n",
       "    <tr>\n",
       "      <th>Yes</th>\n",
       "      <td>113</td>\n",
       "      <td>285</td>\n",
       "    </tr>\n",
       "  </tbody>\n",
       "</table>\n",
       "</div>"
      ],
      "text/plain": [
       "Loan_Status    N    Y\n",
       "Married              \n",
       "No            79  134\n",
       "Yes          113  285"
      ]
     },
     "execution_count": 19,
     "metadata": {},
     "output_type": "execute_result"
    }
   ],
   "source": [
    "# plotting Loan Status vs Married graph\n",
    "married_graph = pd.crosstab(train[\"Married\"],train[\"Loan_Status\"])\n",
    "married_graph.plot(kind=\"bar\")\n",
    "plt.xlabel(\"Married\")\n",
    "plt.ylabel(\"Loan Status\")\n",
    "plt.title(\"Fig:1.2 Loan Status vs Married\")\n",
    "plt.show()\n",
    "married_graph\n"
   ]
  },
  {
   "cell_type": "code",
   "execution_count": 20,
   "metadata": {},
   "outputs": [
    {
     "data": {
      "image/png": "[encoded data removed]",
      "text/plain": [
       "<Figure size 720x504 with 1 Axes>"
      ]
     },
     "metadata": {
      "needs_background": "light"
     },
     "output_type": "display_data"
    },
    {
     "data": {
      "text/html": [
       "<div>\n",
       "<style scoped>\n",
       "    .dataframe tbody tr th:only-of-type {\n",
       "        vertical-align: middle;\n",
       "    }\n",
       "\n",
       "    .dataframe tbody tr th {\n",
       "        vertical-align: top;\n",
       "    }\n",
       "\n",
       "    .dataframe thead th {\n",
       "        text-align: right;\n",
       "    }\n",
       "</style>\n",
       "<table border=\"1\" class=\"dataframe\">\n",
       "  <thead>\n",
       "    <tr style=\"text-align: right;\">\n",
       "      <th></th>\n",
       "      <th>ApplicantIncome</th>\n",
       "    </tr>\n",
       "    <tr>\n",
       "      <th>Married</th>\n",
       "      <th></th>\n",
       "    </tr>\n",
       "  </thead>\n",
       "  <tbody>\n",
       "    <tr>\n",
       "      <th>No</th>\n",
       "      <td>1058692</td>\n",
       "    </tr>\n",
       "    <tr>\n",
       "      <th>Yes</th>\n",
       "      <td>2240411</td>\n",
       "    </tr>\n",
       "  </tbody>\n",
       "</table>\n",
       "</div>"
      ],
      "text/plain": [
       "         ApplicantIncome\n",
       "Married                 \n",
       "No               1058692\n",
       "Yes              2240411"
      ]
     },
     "execution_count": 20,
     "metadata": {},
     "output_type": "execute_result"
    }
   ],
   "source": [
    "# plotting Applicant Income  vs Married graph\n",
    "married_graph1 =train.pivot_table(index = 'Married',values = 'ApplicantIncome',aggfunc = np.sum)\n",
    "\n",
    "married_graph1.plot(kind=\"bar\")\n",
    "plt.xlabel(\"Married\")\n",
    "plt.ylabel(\"Applicant Income \")\n",
    "plt.title(\"Fig:1.21 Applicant Income vs Married\")\n",
    "plt.show()\n",
    "married_graph1\n",
    "\n"
   ]
  },
  {
   "cell_type": "code",
   "execution_count": 21,
   "metadata": {},
   "outputs": [
    {
     "data": {
      "image/png": "[encoded data removed]",
      "text/plain": [
       "<Figure size 720x504 with 1 Axes>"
      ]
     },
     "metadata": {
      "needs_background": "light"
     },
     "output_type": "display_data"
    },
    {
     "data": {
      "text/html": [
       "<div>\n",
       "<style scoped>\n",
       "    .dataframe tbody tr th:only-of-type {\n",
       "        vertical-align: middle;\n",
       "    }\n",
       "\n",
       "    .dataframe tbody tr th {\n",
       "        vertical-align: top;\n",
       "    }\n",
       "\n",
       "    .dataframe thead th {\n",
       "        text-align: right;\n",
       "    }\n",
       "</style>\n",
       "<table border=\"1\" class=\"dataframe\">\n",
       "  <thead>\n",
       "    <tr style=\"text-align: right;\">\n",
       "      <th>Credit_History</th>\n",
       "      <th>0.0</th>\n",
       "      <th>1.0</th>\n",
       "    </tr>\n",
       "    <tr>\n",
       "      <th>Married</th>\n",
       "      <th></th>\n",
       "      <th></th>\n",
       "    </tr>\n",
       "  </thead>\n",
       "  <tbody>\n",
       "    <tr>\n",
       "      <th>No</th>\n",
       "      <td>32</td>\n",
       "      <td>167</td>\n",
       "    </tr>\n",
       "    <tr>\n",
       "      <th>Yes</th>\n",
       "      <td>57</td>\n",
       "      <td>305</td>\n",
       "    </tr>\n",
       "  </tbody>\n",
       "</table>\n",
       "</div>"
      ],
      "text/plain": [
       "Credit_History  0.0  1.0\n",
       "Married                 \n",
       "No               32  167\n",
       "Yes              57  305"
      ]
     },
     "execution_count": 21,
     "metadata": {},
     "output_type": "execute_result"
    }
   ],
   "source": [
    "# plotting Credit History vs Married graph\n",
    "married_graph2 =pd.crosstab(train[\"Married\"],train[\"Credit_History\"])\n",
    "\n",
    "married_graph2.plot(kind=\"bar\")\n",
    "plt.xlabel(\"Married\")\n",
    "plt.ylabel(\"Credit History\")\n",
    "plt.title(\"Fig:1.22 Credit History vs Married\")\n",
    "plt.show()\n",
    "married_graph2\n"
   ]
  },
  {
   "cell_type": "raw",
   "metadata": {},
   "source": [
    "Inference:\n",
    "1. Most of the married applicants are seen to have a postive response.\n",
    "2. Only a few married applicants are seen to be rejected when compared to the unmarried applicants.\n",
    "3. This could be because married applicants can be seen as more reliable and responsible applicants which is evident in the next 2 graphs where both income and credit history is higher for the married applicants.\n",
    "4. Quite a large proportion of unmarried applications for home loan have been turned down due to the reason that they have a very low income when compared to the married applicants and also have a bad credit history."
   ]
  },
  {
   "cell_type": "code",
   "execution_count": 22,
   "metadata": {},
   "outputs": [
    {
     "data": {
      "image/png": "[encoded data removed]",
      "text/plain": [
       "<Figure size 720x504 with 1 Axes>"
      ]
     },
     "metadata": {
      "needs_background": "light"
     },
     "output_type": "display_data"
    },
    {
     "data": {
      "text/html": [
       "<div>\n",
       "<style scoped>\n",
       "    .dataframe tbody tr th:only-of-type {\n",
       "        vertical-align: middle;\n",
       "    }\n",
       "\n",
       "    .dataframe tbody tr th {\n",
       "        vertical-align: top;\n",
       "    }\n",
       "\n",
       "    .dataframe thead th {\n",
       "        text-align: right;\n",
       "    }\n",
       "</style>\n",
       "<table border=\"1\" class=\"dataframe\">\n",
       "  <thead>\n",
       "    <tr style=\"text-align: right;\">\n",
       "      <th>Loan_Status</th>\n",
       "      <th>N</th>\n",
       "      <th>Y</th>\n",
       "    </tr>\n",
       "    <tr>\n",
       "      <th>Dependents</th>\n",
       "      <th></th>\n",
       "      <th></th>\n",
       "    </tr>\n",
       "  </thead>\n",
       "  <tbody>\n",
       "    <tr>\n",
       "      <th>0</th>\n",
       "      <td>107</td>\n",
       "      <td>238</td>\n",
       "    </tr>\n",
       "    <tr>\n",
       "      <th>1</th>\n",
       "      <td>36</td>\n",
       "      <td>66</td>\n",
       "    </tr>\n",
       "    <tr>\n",
       "      <th>2</th>\n",
       "      <td>25</td>\n",
       "      <td>76</td>\n",
       "    </tr>\n",
       "    <tr>\n",
       "      <th>3+</th>\n",
       "      <td>18</td>\n",
       "      <td>33</td>\n",
       "    </tr>\n",
       "  </tbody>\n",
       "</table>\n",
       "</div>"
      ],
      "text/plain": [
       "Loan_Status    N    Y\n",
       "Dependents           \n",
       "0            107  238\n",
       "1             36   66\n",
       "2             25   76\n",
       "3+            18   33"
      ]
     },
     "execution_count": 22,
     "metadata": {},
     "output_type": "execute_result"
    }
   ],
   "source": [
    "# plotting Loan Status vs Dependents graph\n",
    "dependent_graph = pd.crosstab(train[\"Dependents\"],train[\"Loan_Status\"])\n",
    "dependent_graph.div(dependent_graph.sum(1).astype(int),axis=0).plot(kind=\"bar\")\n",
    "plt.xlabel(\"Dependents\")\n",
    "plt.ylabel(\"Loan Status\")\n",
    "plt.title(\"Fig:1.3 Loan Status vs Dependents\")\n",
    "plt.show()\n",
    "dependent_graph"
   ]
  },
  {
   "cell_type": "raw",
   "metadata": {},
   "source": [
    "Inference:\n",
    "1. Higher proportion of positive response can be seen in case of Applicants with 2 dependents.\n",
    "2. Applicants with 1 and 3+ dependents share a similar proportion of Loan Status.\n",
    "3. More number of Applicants belong to the 0 dependent category.\n",
    "4. Sanctioned loan status applications can seen nearly twice that of not sanctioned applications in almost all the dependents categories."
   ]
  },
  {
   "cell_type": "code",
   "execution_count": 23,
   "metadata": {},
   "outputs": [
    {
     "data": {
      "image/png": "[encoded data removed]",
      "text/plain": [
       "<Figure size 720x504 with 1 Axes>"
      ]
     },
     "metadata": {
      "needs_background": "light"
     },
     "output_type": "display_data"
    },
    {
     "data": {
      "text/html": [
       "<div>\n",
       "<style scoped>\n",
       "    .dataframe tbody tr th:only-of-type {\n",
       "        vertical-align: middle;\n",
       "    }\n",
       "\n",
       "    .dataframe tbody tr th {\n",
       "        vertical-align: top;\n",
       "    }\n",
       "\n",
       "    .dataframe thead th {\n",
       "        text-align: right;\n",
       "    }\n",
       "</style>\n",
       "<table border=\"1\" class=\"dataframe\">\n",
       "  <thead>\n",
       "    <tr style=\"text-align: right;\">\n",
       "      <th>Loan_Status</th>\n",
       "      <th>N</th>\n",
       "      <th>Y</th>\n",
       "    </tr>\n",
       "    <tr>\n",
       "      <th>Education</th>\n",
       "      <th></th>\n",
       "      <th></th>\n",
       "    </tr>\n",
       "  </thead>\n",
       "  <tbody>\n",
       "    <tr>\n",
       "      <th>Graduate</th>\n",
       "      <td>140</td>\n",
       "      <td>340</td>\n",
       "    </tr>\n",
       "    <tr>\n",
       "      <th>Not Graduate</th>\n",
       "      <td>52</td>\n",
       "      <td>82</td>\n",
       "    </tr>\n",
       "  </tbody>\n",
       "</table>\n",
       "</div>"
      ],
      "text/plain": [
       "Loan_Status     N    Y\n",
       "Education             \n",
       "Graduate      140  340\n",
       "Not Graduate   52   82"
      ]
     },
     "execution_count": 23,
     "metadata": {},
     "output_type": "execute_result"
    }
   ],
   "source": [
    "# plotting Loan Status vs Education graph\n",
    "education_graph = pd.crosstab(train[\"Education\"],train[\"Loan_Status\"])\n",
    "education_graph.plot(kind=\"bar\")\n",
    "plt.xlabel(\"Education\")\n",
    "plt.ylabel(\"Loan Status\")\n",
    "plt.title(\"Fig:1.4 Loan Status vs Education \")\n",
    "plt.show()\n",
    "education_graph\n",
    " "
   ]
  },
  {
   "cell_type": "code",
   "execution_count": 24,
   "metadata": {},
   "outputs": [
    {
     "data": {
      "image/png": "[encoded data removed]",
      "text/plain": [
       "<Figure size 720x504 with 1 Axes>"
      ]
     },
     "metadata": {
      "needs_background": "light"
     },
     "output_type": "display_data"
    },
    {
     "data": {
      "text/html": [
       "<div>\n",
       "<style scoped>\n",
       "    .dataframe tbody tr th:only-of-type {\n",
       "        vertical-align: middle;\n",
       "    }\n",
       "\n",
       "    .dataframe tbody tr th {\n",
       "        vertical-align: top;\n",
       "    }\n",
       "\n",
       "    .dataframe thead th {\n",
       "        text-align: right;\n",
       "    }\n",
       "</style>\n",
       "<table border=\"1\" class=\"dataframe\">\n",
       "  <thead>\n",
       "    <tr style=\"text-align: right;\">\n",
       "      <th>Credit_History</th>\n",
       "      <th>0.0</th>\n",
       "      <th>1.0</th>\n",
       "    </tr>\n",
       "    <tr>\n",
       "      <th>Education</th>\n",
       "      <th></th>\n",
       "      <th></th>\n",
       "    </tr>\n",
       "  </thead>\n",
       "  <tbody>\n",
       "    <tr>\n",
       "      <th>Graduate</th>\n",
       "      <td>63</td>\n",
       "      <td>380</td>\n",
       "    </tr>\n",
       "    <tr>\n",
       "      <th>Not Graduate</th>\n",
       "      <td>26</td>\n",
       "      <td>95</td>\n",
       "    </tr>\n",
       "  </tbody>\n",
       "</table>\n",
       "</div>"
      ],
      "text/plain": [
       "Credit_History  0.0  1.0\n",
       "Education               \n",
       "Graduate         63  380\n",
       "Not Graduate     26   95"
      ]
     },
     "execution_count": 24,
     "metadata": {},
     "output_type": "execute_result"
    }
   ],
   "source": [
    "# plotting Credit History vs Education graph\n",
    "education_graph1 = pd.crosstab(train[\"Education\"],train[\"Credit_History\"])\n",
    "education_graph1.div(education_graph1.sum(1).astype(int),axis=0).plot(kind=\"bar\")\n",
    "plt.xlabel(\"Education\")\n",
    "plt.ylabel(\"Credit History\")\n",
    "plt.title(\"Fig:1.41 Credit History vs Education \")\n",
    "plt.show()\n",
    "education_graph1\n"
   ]
  },
  {
   "cell_type": "raw",
   "metadata": {},
   "source": [
    "Inference:\n",
    "1. A significant proportion of graduates are given the loan approval.\n",
    "2. This can be a sign that Graduates are more cautious in having a better credit history which is evident in the second graph.\n",
    "3. Very less proportion of the Graduate Loan seekers have a bad credit history.\n",
    "4. Higher proportion of non graduate applicants are not the approved with loan amount because they have a poor credit history."
   ]
  },
  {
   "cell_type": "code",
   "execution_count": 25,
   "metadata": {},
   "outputs": [
    {
     "data": {
      "image/png": "[encoded data removed]",
      "text/plain": [
       "<Figure size 720x504 with 1 Axes>"
      ]
     },
     "metadata": {
      "needs_background": "light"
     },
     "output_type": "display_data"
    },
    {
     "data": {
      "text/html": [
       "<div>\n",
       "<style scoped>\n",
       "    .dataframe tbody tr th:only-of-type {\n",
       "        vertical-align: middle;\n",
       "    }\n",
       "\n",
       "    .dataframe tbody tr th {\n",
       "        vertical-align: top;\n",
       "    }\n",
       "\n",
       "    .dataframe thead th {\n",
       "        text-align: right;\n",
       "    }\n",
       "</style>\n",
       "<table border=\"1\" class=\"dataframe\">\n",
       "  <thead>\n",
       "    <tr style=\"text-align: right;\">\n",
       "      <th>Loan_Status</th>\n",
       "      <th>N</th>\n",
       "      <th>Y</th>\n",
       "    </tr>\n",
       "    <tr>\n",
       "      <th>Self_Employed</th>\n",
       "      <th></th>\n",
       "      <th></th>\n",
       "    </tr>\n",
       "  </thead>\n",
       "  <tbody>\n",
       "    <tr>\n",
       "      <th>No</th>\n",
       "      <td>157</td>\n",
       "      <td>343</td>\n",
       "    </tr>\n",
       "    <tr>\n",
       "      <th>Yes</th>\n",
       "      <td>26</td>\n",
       "      <td>56</td>\n",
       "    </tr>\n",
       "  </tbody>\n",
       "</table>\n",
       "</div>"
      ],
      "text/plain": [
       "Loan_Status      N    Y\n",
       "Self_Employed          \n",
       "No             157  343\n",
       "Yes             26   56"
      ]
     },
     "execution_count": 25,
     "metadata": {},
     "output_type": "execute_result"
    }
   ],
   "source": [
    "# plotting Loan Status vs Self Employed graph\n",
    "selfemployed_graph = pd.crosstab(train[\"Self_Employed\"],train[\"Loan_Status\"])\n",
    "selfemployed_graph.div(selfemployed_graph.sum(1).astype(int),axis=0).plot(kind=\"bar\")\n",
    "plt.xlabel(\"Self Employed\")\n",
    "plt.ylabel(\"Loan Status\")\n",
    "plt.title(\"Fig:1.5 Loan Status vs Self Employed\")\n",
    "plt.show()\n",
    "selfemployed_graph\n"
   ]
  },
  {
   "cell_type": "code",
   "execution_count": 26,
   "metadata": {},
   "outputs": [
    {
     "data": {
      "image/png": "[encoded data removed]",
      "text/plain": [
       "<Figure size 720x504 with 1 Axes>"
      ]
     },
     "metadata": {
      "needs_background": "light"
     },
     "output_type": "display_data"
    },
    {
     "data": {
      "text/html": [
       "<div>\n",
       "<style scoped>\n",
       "    .dataframe tbody tr th:only-of-type {\n",
       "        vertical-align: middle;\n",
       "    }\n",
       "\n",
       "    .dataframe tbody tr th {\n",
       "        vertical-align: top;\n",
       "    }\n",
       "\n",
       "    .dataframe thead th {\n",
       "        text-align: right;\n",
       "    }\n",
       "</style>\n",
       "<table border=\"1\" class=\"dataframe\">\n",
       "  <thead>\n",
       "    <tr style=\"text-align: right;\">\n",
       "      <th></th>\n",
       "      <th>ApplicantIncome</th>\n",
       "    </tr>\n",
       "    <tr>\n",
       "      <th>Self_Employed</th>\n",
       "      <th></th>\n",
       "    </tr>\n",
       "  </thead>\n",
       "  <tbody>\n",
       "    <tr>\n",
       "      <th>No</th>\n",
       "      <td>2524874</td>\n",
       "    </tr>\n",
       "    <tr>\n",
       "      <th>Yes</th>\n",
       "      <td>605227</td>\n",
       "    </tr>\n",
       "  </tbody>\n",
       "</table>\n",
       "</div>"
      ],
      "text/plain": [
       "               ApplicantIncome\n",
       "Self_Employed                 \n",
       "No                     2524874\n",
       "Yes                     605227"
      ]
     },
     "execution_count": 26,
     "metadata": {},
     "output_type": "execute_result"
    }
   ],
   "source": [
    "# plotting Applicant Income vs Self Employed graph\n",
    "selfemployed_graph1 =train.pivot_table(index = 'Self_Employed',values = 'ApplicantIncome',aggfunc = np.sum)\n",
    "selfemployed_graph1.div(selfemployed_graph1.sum(1).astype(int),axis=0).plot(kind=\"bar\")\n",
    "plt.xlabel(\"Self Employed\")\n",
    "plt.ylabel(\"Applicant Income\")\n",
    "plt.title(\"Fig:1.51 Applicant Income vs Self Employed\")\n",
    "plt.show()\n",
    "selfemployed_graph1\n"
   ]
  },
  {
   "cell_type": "code",
   "execution_count": 27,
   "metadata": {},
   "outputs": [
    {
     "data": {
      "image/png": "[encoded data removed]",
      "text/plain": [
       "<Figure size 720x504 with 1 Axes>"
      ]
     },
     "metadata": {
      "needs_background": "light"
     },
     "output_type": "display_data"
    },
    {
     "data": {
      "text/html": [
       "<div>\n",
       "<style scoped>\n",
       "    .dataframe tbody tr th:only-of-type {\n",
       "        vertical-align: middle;\n",
       "    }\n",
       "\n",
       "    .dataframe tbody tr th {\n",
       "        vertical-align: top;\n",
       "    }\n",
       "\n",
       "    .dataframe thead th {\n",
       "        text-align: right;\n",
       "    }\n",
       "</style>\n",
       "<table border=\"1\" class=\"dataframe\">\n",
       "  <thead>\n",
       "    <tr style=\"text-align: right;\">\n",
       "      <th>Credit_History</th>\n",
       "      <th>0.0</th>\n",
       "      <th>1.0</th>\n",
       "    </tr>\n",
       "    <tr>\n",
       "      <th>Self_Employed</th>\n",
       "      <th></th>\n",
       "      <th></th>\n",
       "    </tr>\n",
       "  </thead>\n",
       "  <tbody>\n",
       "    <tr>\n",
       "      <th>No</th>\n",
       "      <td>76</td>\n",
       "      <td>387</td>\n",
       "    </tr>\n",
       "    <tr>\n",
       "      <th>Yes</th>\n",
       "      <td>12</td>\n",
       "      <td>63</td>\n",
       "    </tr>\n",
       "  </tbody>\n",
       "</table>\n",
       "</div>"
      ],
      "text/plain": [
       "Credit_History  0.0  1.0\n",
       "Self_Employed           \n",
       "No               76  387\n",
       "Yes              12   63"
      ]
     },
     "execution_count": 27,
     "metadata": {},
     "output_type": "execute_result"
    }
   ],
   "source": [
    "# plotting Credit History vs Self Employed graph\n",
    "selfemployed_graph2 =pd.crosstab(train[\"Self_Employed\"],train[\"Credit_History\"])\n",
    "selfemployed_graph2.div(selfemployed_graph2.sum(1).astype(int),axis=0).plot(kind=\"bar\")\n",
    "plt.xlabel(\"Self Employed\")\n",
    "plt.ylabel(\"Credit History\")\n",
    "plt.title(\"Fig:1.52 Credit History vs Self Employed\")\n",
    "plt.show()\n",
    "selfemployed_graph2\n"
   ]
  },
  {
   "cell_type": "raw",
   "metadata": {},
   "source": [
    "Inference:\n",
    "1. Applicants who are self-employed and who are not self-employed share a similar Loan status proportion.\n",
    "2. This can be because both the self employed and not self employed applicants have similar credit history background and income status."
   ]
  },
  {
   "cell_type": "code",
   "execution_count": 28,
   "metadata": {},
   "outputs": [
    {
     "data": {
      "image/png": "[encoded data removed]",
      "text/plain": [
       "<Figure size 720x504 with 1 Axes>"
      ]
     },
     "metadata": {
      "needs_background": "light"
     },
     "output_type": "display_data"
    },
    {
     "data": {
      "text/html": [
       "<div>\n",
       "<style scoped>\n",
       "    .dataframe tbody tr th:only-of-type {\n",
       "        vertical-align: middle;\n",
       "    }\n",
       "\n",
       "    .dataframe tbody tr th {\n",
       "        vertical-align: top;\n",
       "    }\n",
       "\n",
       "    .dataframe thead th {\n",
       "        text-align: right;\n",
       "    }\n",
       "</style>\n",
       "<table border=\"1\" class=\"dataframe\">\n",
       "  <thead>\n",
       "    <tr style=\"text-align: right;\">\n",
       "      <th>Loan_Status</th>\n",
       "      <th>N</th>\n",
       "      <th>Y</th>\n",
       "    </tr>\n",
       "    <tr>\n",
       "      <th>Property_Area</th>\n",
       "      <th></th>\n",
       "      <th></th>\n",
       "    </tr>\n",
       "  </thead>\n",
       "  <tbody>\n",
       "    <tr>\n",
       "      <th>Rural</th>\n",
       "      <td>69</td>\n",
       "      <td>110</td>\n",
       "    </tr>\n",
       "    <tr>\n",
       "      <th>Semiurban</th>\n",
       "      <td>54</td>\n",
       "      <td>179</td>\n",
       "    </tr>\n",
       "    <tr>\n",
       "      <th>Urban</th>\n",
       "      <td>69</td>\n",
       "      <td>133</td>\n",
       "    </tr>\n",
       "  </tbody>\n",
       "</table>\n",
       "</div>"
      ],
      "text/plain": [
       "Loan_Status     N    Y\n",
       "Property_Area         \n",
       "Rural          69  110\n",
       "Semiurban      54  179\n",
       "Urban          69  133"
      ]
     },
     "execution_count": 28,
     "metadata": {},
     "output_type": "execute_result"
    }
   ],
   "source": [
    "# plotting Loan Status vs Property Area graph\n",
    "propertyarea_graph = pd.crosstab(train[\"Property_Area\"],train[\"Loan_Status\"])\n",
    "propertyarea_graph.plot(kind=\"bar\")\n",
    "plt.xlabel(\"Property Area\")\n",
    "plt.ylabel(\"Loan Status\")\n",
    "plt.title(\"Fig:1.6 Loan Status vs Property Area\")\n",
    "plt.show()\n",
    "propertyarea_graph"
   ]
  },
  {
   "cell_type": "code",
   "execution_count": 29,
   "metadata": {},
   "outputs": [
    {
     "data": {
      "image/png": "[encoded data removed]",
      "text/plain": [
       "<Figure size 720x504 with 1 Axes>"
      ]
     },
     "metadata": {
      "needs_background": "light"
     },
     "output_type": "display_data"
    },
    {
     "data": {
      "text/html": [
       "<div>\n",
       "<style scoped>\n",
       "    .dataframe tbody tr th:only-of-type {\n",
       "        vertical-align: middle;\n",
       "    }\n",
       "\n",
       "    .dataframe tbody tr th {\n",
       "        vertical-align: top;\n",
       "    }\n",
       "\n",
       "    .dataframe thead th {\n",
       "        text-align: right;\n",
       "    }\n",
       "</style>\n",
       "<table border=\"1\" class=\"dataframe\">\n",
       "  <thead>\n",
       "    <tr style=\"text-align: right;\">\n",
       "      <th></th>\n",
       "      <th>LoanAmount</th>\n",
       "    </tr>\n",
       "    <tr>\n",
       "      <th>Property_Area</th>\n",
       "      <th></th>\n",
       "    </tr>\n",
       "  </thead>\n",
       "  <tbody>\n",
       "    <tr>\n",
       "      <th>Rural</th>\n",
       "      <td>26341.0</td>\n",
       "    </tr>\n",
       "    <tr>\n",
       "      <th>Semiurban</th>\n",
       "      <td>33175.0</td>\n",
       "    </tr>\n",
       "    <tr>\n",
       "      <th>Urban</th>\n",
       "      <td>27160.0</td>\n",
       "    </tr>\n",
       "  </tbody>\n",
       "</table>\n",
       "</div>"
      ],
      "text/plain": [
       "               LoanAmount\n",
       "Property_Area            \n",
       "Rural             26341.0\n",
       "Semiurban         33175.0\n",
       "Urban             27160.0"
      ]
     },
     "execution_count": 29,
     "metadata": {},
     "output_type": "execute_result"
    }
   ],
   "source": [
    "# plotting Loan Amount vs Property Area graph\n",
    "propertyarea_graph1 = train.pivot_table(index = 'Property_Area',values = 'LoanAmount',aggfunc = np.sum)\n",
    "propertyarea_graph1.plot(kind=\"bar\")\n",
    "plt.xlabel(\"Property Area\")\n",
    "plt.ylabel(\"Loan Amount\")\n",
    "plt.title(\"Fig:1.61 Loan Amount vs Property Area\")\n",
    "plt.show()\n",
    "propertyarea_graph1\n",
    "\n"
   ]
  },
  {
   "cell_type": "raw",
   "metadata": {},
   "source": [
    "Inference:\n",
    "1. Applicants who are interested in semi urban property area seek for a higher amount of loan but surprisingly has a good loan approval chance.\n",
    "2. Sanctioned applicants are more for people in urban area when compared to people in rural areas though both urban nad rural area applicants require similar loan amounts."
   ]
  },
  {
   "cell_type": "code",
   "execution_count": 30,
   "metadata": {},
   "outputs": [
    {
     "data": {
      "image/png": "[encoded data removed]",
      "text/plain": [
       "<Figure size 720x504 with 1 Axes>"
      ]
     },
     "metadata": {
      "needs_background": "light"
     },
     "output_type": "display_data"
    },
    {
     "data": {
      "text/html": [
       "<div>\n",
       "<style scoped>\n",
       "    .dataframe tbody tr th:only-of-type {\n",
       "        vertical-align: middle;\n",
       "    }\n",
       "\n",
       "    .dataframe tbody tr th {\n",
       "        vertical-align: top;\n",
       "    }\n",
       "\n",
       "    .dataframe thead th {\n",
       "        text-align: right;\n",
       "    }\n",
       "</style>\n",
       "<table border=\"1\" class=\"dataframe\">\n",
       "  <thead>\n",
       "    <tr style=\"text-align: right;\">\n",
       "      <th>Loan_Status</th>\n",
       "      <th>N</th>\n",
       "      <th>Y</th>\n",
       "    </tr>\n",
       "    <tr>\n",
       "      <th>Credit_History</th>\n",
       "      <th></th>\n",
       "      <th></th>\n",
       "    </tr>\n",
       "  </thead>\n",
       "  <tbody>\n",
       "    <tr>\n",
       "      <th>0.0</th>\n",
       "      <td>82</td>\n",
       "      <td>7</td>\n",
       "    </tr>\n",
       "    <tr>\n",
       "      <th>1.0</th>\n",
       "      <td>97</td>\n",
       "      <td>378</td>\n",
       "    </tr>\n",
       "  </tbody>\n",
       "</table>\n",
       "</div>"
      ],
      "text/plain": [
       "Loan_Status      N    Y\n",
       "Credit_History         \n",
       "0.0             82    7\n",
       "1.0             97  378"
      ]
     },
     "execution_count": 30,
     "metadata": {},
     "output_type": "execute_result"
    }
   ],
   "source": [
    "# plotting Loan Status vs Credit History graph\n",
    "Credit_History_graph = pd.crosstab(train[\"Credit_History\"],train[\"Loan_Status\"])\n",
    "Credit_History_graph.div(Credit_History_graph.sum(1).astype(int),axis=0).plot(kind=\"bar\")\n",
    "plt.xlabel(\"Credit History\")\n",
    "plt.ylabel(\"Loan Status\")\n",
    "plt.title(\"Fig:1.7 Loan Status vs Credit History\")\n",
    "plt.show()\n",
    "Credit_History_graph"
   ]
  },
  {
   "cell_type": "raw",
   "metadata": {},
   "source": [
    "Inference:\n",
    "1. It is very clearly evident that those with a bad credit history are denied the loan sanction.\n",
    "2. The finance company is very sure not to provide loan to the applicants who do not meet the guidelines properly and regularly.\n",
    "3. Those who have a proper credit history are expected to have a positive response from the company."
   ]
  },
  {
   "cell_type": "code",
   "execution_count": 31,
   "metadata": {},
   "outputs": [
    {
     "data": {
      "image/png": "[encoded data removed]",
      "text/plain": [
       "<Figure size 720x504 with 1 Axes>"
      ]
     },
     "metadata": {
      "needs_background": "light"
     },
     "output_type": "display_data"
    },
    {
     "data": {
      "text/html": [
       "<div>\n",
       "<style scoped>\n",
       "    .dataframe tbody tr th:only-of-type {\n",
       "        vertical-align: middle;\n",
       "    }\n",
       "\n",
       "    .dataframe tbody tr th {\n",
       "        vertical-align: top;\n",
       "    }\n",
       "\n",
       "    .dataframe thead th {\n",
       "        text-align: right;\n",
       "    }\n",
       "</style>\n",
       "<table border=\"1\" class=\"dataframe\">\n",
       "  <thead>\n",
       "    <tr style=\"text-align: right;\">\n",
       "      <th>Loan_Status</th>\n",
       "      <th>N</th>\n",
       "      <th>Y</th>\n",
       "    </tr>\n",
       "    <tr>\n",
       "      <th>ApplicantIncome</th>\n",
       "      <th></th>\n",
       "      <th></th>\n",
       "    </tr>\n",
       "  </thead>\n",
       "  <tbody>\n",
       "    <tr>\n",
       "      <th>Low</th>\n",
       "      <td>188</td>\n",
       "      <td>414</td>\n",
       "    </tr>\n",
       "    <tr>\n",
       "      <th>Average</th>\n",
       "      <td>3</td>\n",
       "      <td>6</td>\n",
       "    </tr>\n",
       "    <tr>\n",
       "      <th>High</th>\n",
       "      <td>0</td>\n",
       "      <td>1</td>\n",
       "    </tr>\n",
       "    <tr>\n",
       "      <th>Very High</th>\n",
       "      <td>1</td>\n",
       "      <td>1</td>\n",
       "    </tr>\n",
       "  </tbody>\n",
       "</table>\n",
       "</div>"
      ],
      "text/plain": [
       "Loan_Status        N    Y\n",
       "ApplicantIncome          \n",
       "Low              188  414\n",
       "Average            3    6\n",
       "High               0    1\n",
       "Very High          1    1"
      ]
     },
     "execution_count": 31,
     "metadata": {},
     "output_type": "execute_result"
    }
   ],
   "source": [
    "# plotting Loan Status vs Applicant Income graph\n",
    "ranges =[0,20000,40000,60000,81000]\n",
    "groups=['Low','Average','High','Very High']\n",
    "ApplicantIncome=pd.cut(train[\"ApplicantIncome\"],ranges,labels=groups)\n",
    "\n",
    "ApplicantIncome_graph = pd.crosstab(ApplicantIncome,train[\"Loan_Status\"])\n",
    "ApplicantIncome_graph.div(ApplicantIncome_graph.sum(1).astype(int),axis=0).plot(kind='bar')\n",
    "plt.xlabel(\"Applicant Income\")\n",
    "plt.ylabel(\"Loan Status\")\n",
    "plt.title(\"Fig:1.8 Loan Status vs Applicant Income\")\n",
    "plt.show()\n",
    "ApplicantIncome_graph"
   ]
  },
  {
   "cell_type": "raw",
   "metadata": {},
   "source": [
    "Inference:\n",
    "1. The proportion of approval for applicants belonging to the high income range is very huge.\n",
    "2. Surprisingly, the proportion of approving and rejecting the applications with very high income is so close.\n",
    "3. Those who are having a low and average income stand a equally high chance of loan approval."
   ]
  },
  {
   "cell_type": "code",
   "execution_count": 32,
   "metadata": {},
   "outputs": [
    {
     "data": {
      "image/png": "[encoded data removed]",
      "text/plain": [
       "<Figure size 720x504 with 1 Axes>"
      ]
     },
     "metadata": {
      "needs_background": "light"
     },
     "output_type": "display_data"
    },
    {
     "data": {
      "text/html": [
       "<div>\n",
       "<style scoped>\n",
       "    .dataframe tbody tr th:only-of-type {\n",
       "        vertical-align: middle;\n",
       "    }\n",
       "\n",
       "    .dataframe tbody tr th {\n",
       "        vertical-align: top;\n",
       "    }\n",
       "\n",
       "    .dataframe thead th {\n",
       "        text-align: right;\n",
       "    }\n",
       "</style>\n",
       "<table border=\"1\" class=\"dataframe\">\n",
       "  <thead>\n",
       "    <tr style=\"text-align: right;\">\n",
       "      <th>Loan_Status</th>\n",
       "      <th>N</th>\n",
       "      <th>Y</th>\n",
       "    </tr>\n",
       "    <tr>\n",
       "      <th>CoapplicantIncome</th>\n",
       "      <th></th>\n",
       "      <th></th>\n",
       "    </tr>\n",
       "  </thead>\n",
       "  <tbody>\n",
       "    <tr>\n",
       "      <th>Low</th>\n",
       "      <td>91</td>\n",
       "      <td>244</td>\n",
       "    </tr>\n",
       "    <tr>\n",
       "      <th>Average</th>\n",
       "      <td>3</td>\n",
       "      <td>1</td>\n",
       "    </tr>\n",
       "    <tr>\n",
       "      <th>Very High</th>\n",
       "      <td>2</td>\n",
       "      <td>0</td>\n",
       "    </tr>\n",
       "  </tbody>\n",
       "</table>\n",
       "</div>"
      ],
      "text/plain": [
       "Loan_Status         N    Y\n",
       "CoapplicantIncome         \n",
       "Low                91  244\n",
       "Average             3    1\n",
       "Very High           2    0"
      ]
     },
     "execution_count": 32,
     "metadata": {},
     "output_type": "execute_result"
    }
   ],
   "source": [
    "# plotting Loan Status vs CoApplicant Income graph\n",
    "ranges =[0,10000,20000,30000,42000]\n",
    "groups=['Low','Average','High','Very High']\n",
    "CoapplicantIncome=pd.cut(train[\"CoapplicantIncome\"],ranges,labels=groups)\n",
    "\n",
    "CoapplicantIncome_graph = pd.crosstab(CoapplicantIncome,train[\"Loan_Status\"])\n",
    "CoapplicantIncome_graph.div(CoapplicantIncome_graph.sum(1).astype(int),axis=0).plot(kind='bar')\n",
    "plt.xlabel(\"Coapplicant Income\")\n",
    "plt.ylabel(\"Loan Status\")\n",
    "plt.title(\"Fig:1.9 Loan Status vs CoApplicant Income \")\n",
    "plt.show()\n",
    "CoapplicantIncome_graph"
   ]
  },
  {
   "cell_type": "raw",
   "metadata": {},
   "source": [
    "Inference:\n",
    "1. Although , there are a very few applicants with high co applicant income, they have all been rejected.\n",
    "2. Applicants with Average co applicant income also see a huge rejection proportion.\n",
    "1. Applicants with low income are provided with the loan approval at a higher proportion."
   ]
  },
  {
   "cell_type": "code",
   "execution_count": 33,
   "metadata": {},
   "outputs": [
    {
     "data": {
      "image/png": "[encoded data removed]",
      "text/plain": [
       "<Figure size 720x504 with 1 Axes>"
      ]
     },
     "metadata": {
      "needs_background": "light"
     },
     "output_type": "display_data"
    },
    {
     "data": {
      "text/html": [
       "<div>\n",
       "<style scoped>\n",
       "    .dataframe tbody tr th:only-of-type {\n",
       "        vertical-align: middle;\n",
       "    }\n",
       "\n",
       "    .dataframe tbody tr th {\n",
       "        vertical-align: top;\n",
       "    }\n",
       "\n",
       "    .dataframe thead th {\n",
       "        text-align: right;\n",
       "    }\n",
       "</style>\n",
       "<table border=\"1\" class=\"dataframe\">\n",
       "  <thead>\n",
       "    <tr style=\"text-align: right;\">\n",
       "      <th>Loan_Status</th>\n",
       "      <th>N</th>\n",
       "      <th>Y</th>\n",
       "    </tr>\n",
       "    <tr>\n",
       "      <th>LoanAmount</th>\n",
       "      <th></th>\n",
       "      <th></th>\n",
       "    </tr>\n",
       "  </thead>\n",
       "  <tbody>\n",
       "    <tr>\n",
       "      <th>Low</th>\n",
       "      <td>47</td>\n",
       "      <td>107</td>\n",
       "    </tr>\n",
       "    <tr>\n",
       "      <th>Average</th>\n",
       "      <td>122</td>\n",
       "      <td>287</td>\n",
       "    </tr>\n",
       "    <tr>\n",
       "      <th>High</th>\n",
       "      <td>11</td>\n",
       "      <td>13</td>\n",
       "    </tr>\n",
       "    <tr>\n",
       "      <th>Very High</th>\n",
       "      <td>1</td>\n",
       "      <td>4</td>\n",
       "    </tr>\n",
       "  </tbody>\n",
       "</table>\n",
       "</div>"
      ],
      "text/plain": [
       "Loan_Status    N    Y\n",
       "LoanAmount           \n",
       "Low           47  107\n",
       "Average      122  287\n",
       "High          11   13\n",
       "Very High      1    4"
      ]
     },
     "execution_count": 33,
     "metadata": {},
     "output_type": "execute_result"
    }
   ],
   "source": [
    "# plotting Loan Status vs Loan Amount graph\n",
    "ranges =[0,100,300,500,700]\n",
    "groups=['Low','Average','High','Very High']\n",
    "LoanAmount=pd.cut(train[\"LoanAmount\"],ranges,labels=groups)\n",
    "\n",
    "LoanAmount_graph = pd.crosstab(LoanAmount,train[\"Loan_Status\"])\n",
    "LoanAmount_graph.div(LoanAmount_graph.sum(1).astype(int),axis=0).plot(kind='bar')\n",
    "plt.xlabel(\"Loan Amount\")\n",
    "plt.ylabel(\"Loan Status\")\n",
    "plt.title(\"Fig:1.10 Loan Status vs Loan Amount\")\n",
    "plt.show()\n",
    "LoanAmount_graph"
   ]
  },
  {
   "cell_type": "raw",
   "metadata": {},
   "source": [
    "Inference:\n",
    "1. Applications requiring very high loan amounts are approved at a higher proportion when compared to the other categories of loan amount.\n",
    "2. Applications requiring high loan amounts see more or less similar proportion for approval and rejection.\n",
    "3. Both low and average loan amount requirement categories are granted loan approval twice as much as getting rejected."
   ]
  },
  {
   "cell_type": "markdown",
   "metadata": {},
   "source": [
    "# Categorical Data Encoding and Feature Scaling"
   ]
  },
  {
   "cell_type": "code",
   "execution_count": 34,
   "metadata": {},
   "outputs": [
    {
     "data": {
      "text/html": [
       "<div>\n",
       "<style scoped>\n",
       "    .dataframe tbody tr th:only-of-type {\n",
       "        vertical-align: middle;\n",
       "    }\n",
       "\n",
       "    .dataframe tbody tr th {\n",
       "        vertical-align: top;\n",
       "    }\n",
       "\n",
       "    .dataframe thead th {\n",
       "        text-align: right;\n",
       "    }\n",
       "</style>\n",
       "<table border=\"1\" class=\"dataframe\">\n",
       "  <thead>\n",
       "    <tr style=\"text-align: right;\">\n",
       "      <th></th>\n",
       "      <th>Loan_ID</th>\n",
       "      <th>Dependents</th>\n",
       "      <th>ApplicantIncome</th>\n",
       "      <th>CoapplicantIncome</th>\n",
       "      <th>LoanAmount</th>\n",
       "      <th>Loan_Amount_Term</th>\n",
       "      <th>Credit_History</th>\n",
       "      <th>Loan_Status</th>\n",
       "      <th>source</th>\n",
       "      <th>Gender_Male</th>\n",
       "      <th>Married_Yes</th>\n",
       "      <th>Education_Not Graduate</th>\n",
       "      <th>Self_Employed_Yes</th>\n",
       "      <th>Property_Area_Semiurban</th>\n",
       "      <th>Property_Area_Urban</th>\n",
       "    </tr>\n",
       "  </thead>\n",
       "  <tbody>\n",
       "    <tr>\n",
       "      <th>0</th>\n",
       "      <td>LP001002</td>\n",
       "      <td>0</td>\n",
       "      <td>5849</td>\n",
       "      <td>0.0</td>\n",
       "      <td>142.51153</td>\n",
       "      <td>360.0</td>\n",
       "      <td>1.0</td>\n",
       "      <td>Y</td>\n",
       "      <td>train</td>\n",
       "      <td>1</td>\n",
       "      <td>0</td>\n",
       "      <td>0</td>\n",
       "      <td>0</td>\n",
       "      <td>0</td>\n",
       "      <td>1</td>\n",
       "    </tr>\n",
       "    <tr>\n",
       "      <th>1</th>\n",
       "      <td>LP001003</td>\n",
       "      <td>1</td>\n",
       "      <td>4583</td>\n",
       "      <td>1508.0</td>\n",
       "      <td>128.00000</td>\n",
       "      <td>360.0</td>\n",
       "      <td>1.0</td>\n",
       "      <td>N</td>\n",
       "      <td>train</td>\n",
       "      <td>1</td>\n",
       "      <td>1</td>\n",
       "      <td>0</td>\n",
       "      <td>0</td>\n",
       "      <td>0</td>\n",
       "      <td>0</td>\n",
       "    </tr>\n",
       "    <tr>\n",
       "      <th>2</th>\n",
       "      <td>LP001005</td>\n",
       "      <td>0</td>\n",
       "      <td>3000</td>\n",
       "      <td>0.0</td>\n",
       "      <td>66.00000</td>\n",
       "      <td>360.0</td>\n",
       "      <td>1.0</td>\n",
       "      <td>Y</td>\n",
       "      <td>train</td>\n",
       "      <td>1</td>\n",
       "      <td>1</td>\n",
       "      <td>0</td>\n",
       "      <td>1</td>\n",
       "      <td>0</td>\n",
       "      <td>1</td>\n",
       "    </tr>\n",
       "    <tr>\n",
       "      <th>3</th>\n",
       "      <td>LP001006</td>\n",
       "      <td>0</td>\n",
       "      <td>2583</td>\n",
       "      <td>2358.0</td>\n",
       "      <td>120.00000</td>\n",
       "      <td>360.0</td>\n",
       "      <td>1.0</td>\n",
       "      <td>Y</td>\n",
       "      <td>train</td>\n",
       "      <td>1</td>\n",
       "      <td>1</td>\n",
       "      <td>1</td>\n",
       "      <td>0</td>\n",
       "      <td>0</td>\n",
       "      <td>1</td>\n",
       "    </tr>\n",
       "    <tr>\n",
       "      <th>4</th>\n",
       "      <td>LP001008</td>\n",
       "      <td>0</td>\n",
       "      <td>6000</td>\n",
       "      <td>0.0</td>\n",
       "      <td>141.00000</td>\n",
       "      <td>360.0</td>\n",
       "      <td>1.0</td>\n",
       "      <td>Y</td>\n",
       "      <td>train</td>\n",
       "      <td>1</td>\n",
       "      <td>0</td>\n",
       "      <td>0</td>\n",
       "      <td>0</td>\n",
       "      <td>0</td>\n",
       "      <td>1</td>\n",
       "    </tr>\n",
       "  </tbody>\n",
       "</table>\n",
       "</div>"
      ],
      "text/plain": [
       "    Loan_ID Dependents  ApplicantIncome  CoapplicantIncome  LoanAmount  \\\n",
       "0  LP001002          0             5849                0.0   142.51153   \n",
       "1  LP001003          1             4583             1508.0   128.00000   \n",
       "2  LP001005          0             3000                0.0    66.00000   \n",
       "3  LP001006          0             2583             2358.0   120.00000   \n",
       "4  LP001008          0             6000                0.0   141.00000   \n",
       "\n",
       "   Loan_Amount_Term  Credit_History Loan_Status source  Gender_Male  \\\n",
       "0             360.0             1.0           Y  train            1   \n",
       "1             360.0             1.0           N  train            1   \n",
       "2             360.0             1.0           Y  train            1   \n",
       "3             360.0             1.0           Y  train            1   \n",
       "4             360.0             1.0           Y  train            1   \n",
       "\n",
       "   Married_Yes  Education_Not Graduate  Self_Employed_Yes  \\\n",
       "0            0                       0                  0   \n",
       "1            1                       0                  0   \n",
       "2            1                       0                  1   \n",
       "3            1                       1                  0   \n",
       "4            0                       0                  0   \n",
       "\n",
       "   Property_Area_Semiurban  Property_Area_Urban  \n",
       "0                        0                    1  \n",
       "1                        0                    0  \n",
       "2                        0                    1  \n",
       "3                        0                    1  \n",
       "4                        0                    1  "
      ]
     },
     "execution_count": 34,
     "metadata": {},
     "output_type": "execute_result"
    }
   ],
   "source": [
    "# encoding categorical data\n",
    "data = pd.get_dummies(data, columns=['Gender','Married', 'Education',  'Self_Employed', \n",
    "       'Property_Area'],drop_first=True)\n",
    "data.head()"
   ]
  },
  {
   "cell_type": "code",
   "execution_count": 35,
   "metadata": {},
   "outputs": [],
   "source": [
    "data.drop(['Loan_ID'],axis=1,inplace=True)"
   ]
  },
  {
   "cell_type": "code",
   "execution_count": 36,
   "metadata": {},
   "outputs": [],
   "source": [
    "warnings.filterwarnings('ignore')\n",
    "\n",
    "# Divide into test and train datasets\n",
    "train = data.loc[data['source']==\"train\"]\n",
    "test = data.loc[data['source']==\"test\"]\n",
    "\n",
    "# Drop unnecessary columns\n",
    "train.drop(['source'],axis=1,inplace=True)\n",
    "test.drop(['Loan_Status','source'],axis=1,inplace=True)\n",
    "trainX = train.drop(['Loan_Status'], axis=1)\n",
    "trainY = train.Loan_Status"
   ]
  },
  {
   "cell_type": "code",
   "execution_count": 37,
   "metadata": {},
   "outputs": [
    {
     "data": {
      "text/html": [
       "<div>\n",
       "<style scoped>\n",
       "    .dataframe tbody tr th:only-of-type {\n",
       "        vertical-align: middle;\n",
       "    }\n",
       "\n",
       "    .dataframe tbody tr th {\n",
       "        vertical-align: top;\n",
       "    }\n",
       "\n",
       "    .dataframe thead th {\n",
       "        text-align: right;\n",
       "    }\n",
       "</style>\n",
       "<table border=\"1\" class=\"dataframe\">\n",
       "  <thead>\n",
       "    <tr style=\"text-align: right;\">\n",
       "      <th></th>\n",
       "      <th>0</th>\n",
       "    </tr>\n",
       "  </thead>\n",
       "  <tbody>\n",
       "    <tr>\n",
       "      <th>0</th>\n",
       "      <td>1</td>\n",
       "    </tr>\n",
       "    <tr>\n",
       "      <th>1</th>\n",
       "      <td>0</td>\n",
       "    </tr>\n",
       "    <tr>\n",
       "      <th>2</th>\n",
       "      <td>1</td>\n",
       "    </tr>\n",
       "    <tr>\n",
       "      <th>3</th>\n",
       "      <td>1</td>\n",
       "    </tr>\n",
       "    <tr>\n",
       "      <th>4</th>\n",
       "      <td>1</td>\n",
       "    </tr>\n",
       "  </tbody>\n",
       "</table>\n",
       "</div>"
      ],
      "text/plain": [
       "   0\n",
       "0  1\n",
       "1  0\n",
       "2  1\n",
       "3  1\n",
       "4  1"
      ]
     },
     "execution_count": 37,
     "metadata": {},
     "output_type": "execute_result"
    }
   ],
   "source": [
    "# encoding the target variable\n",
    "le = LabelEncoder()\n",
    "trainY = le.fit_transform(trainY)\n",
    "trainY=pd.DataFrame(trainY)\n",
    "trainY.head()"
   ]
  },
  {
   "cell_type": "code",
   "execution_count": 38,
   "metadata": {},
   "outputs": [
    {
     "data": {
      "text/html": [
       "<div>\n",
       "<style scoped>\n",
       "    .dataframe tbody tr th:only-of-type {\n",
       "        vertical-align: middle;\n",
       "    }\n",
       "\n",
       "    .dataframe tbody tr th {\n",
       "        vertical-align: top;\n",
       "    }\n",
       "\n",
       "    .dataframe thead th {\n",
       "        text-align: right;\n",
       "    }\n",
       "</style>\n",
       "<table border=\"1\" class=\"dataframe\">\n",
       "  <thead>\n",
       "    <tr style=\"text-align: right;\">\n",
       "      <th></th>\n",
       "      <th>Independent Variables</th>\n",
       "    </tr>\n",
       "  </thead>\n",
       "  <tbody>\n",
       "    <tr>\n",
       "      <th>0</th>\n",
       "      <td>Dependents</td>\n",
       "    </tr>\n",
       "    <tr>\n",
       "      <th>1</th>\n",
       "      <td>ApplicantIncome</td>\n",
       "    </tr>\n",
       "    <tr>\n",
       "      <th>2</th>\n",
       "      <td>CoapplicantIncome</td>\n",
       "    </tr>\n",
       "    <tr>\n",
       "      <th>3</th>\n",
       "      <td>LoanAmount</td>\n",
       "    </tr>\n",
       "    <tr>\n",
       "      <th>4</th>\n",
       "      <td>Loan_Amount_Term</td>\n",
       "    </tr>\n",
       "    <tr>\n",
       "      <th>5</th>\n",
       "      <td>Credit_History</td>\n",
       "    </tr>\n",
       "    <tr>\n",
       "      <th>6</th>\n",
       "      <td>Gender_Male</td>\n",
       "    </tr>\n",
       "    <tr>\n",
       "      <th>7</th>\n",
       "      <td>Married_Yes</td>\n",
       "    </tr>\n",
       "    <tr>\n",
       "      <th>8</th>\n",
       "      <td>Education_Not Graduate</td>\n",
       "    </tr>\n",
       "    <tr>\n",
       "      <th>9</th>\n",
       "      <td>Self_Employed_Yes</td>\n",
       "    </tr>\n",
       "    <tr>\n",
       "      <th>10</th>\n",
       "      <td>Property_Area_Semiurban</td>\n",
       "    </tr>\n",
       "    <tr>\n",
       "      <th>11</th>\n",
       "      <td>Property_Area_Urban</td>\n",
       "    </tr>\n",
       "  </tbody>\n",
       "</table>\n",
       "</div>"
      ],
      "text/plain": [
       "      Independent Variables\n",
       "0                Dependents\n",
       "1           ApplicantIncome\n",
       "2         CoapplicantIncome\n",
       "3                LoanAmount\n",
       "4          Loan_Amount_Term\n",
       "5            Credit_History\n",
       "6               Gender_Male\n",
       "7               Married_Yes\n",
       "8    Education_Not Graduate\n",
       "9         Self_Employed_Yes\n",
       "10  Property_Area_Semiurban\n",
       "11      Property_Area_Urban"
      ]
     },
     "execution_count": 38,
     "metadata": {},
     "output_type": "execute_result"
    }
   ],
   "source": [
    "# creating a dataframe consisting of column names\n",
    "xcol_names=list(trainX.columns)\n",
    "xcol_names=pd.DataFrame(xcol_names,columns=['Independent Variables'])\n",
    "xcol_names"
   ]
  },
  {
   "cell_type": "code",
   "execution_count": 39,
   "metadata": {},
   "outputs": [],
   "source": [
    "# normalizing the variables\n",
    "sc_X = RobustScaler()\n",
    "X = sc_X.fit_transform(trainX)\n",
    "testX = sc_X.fit_transform(test)"
   ]
  },
  {
   "cell_type": "code",
   "execution_count": 40,
   "metadata": {},
   "outputs": [],
   "source": [
    "# creating dataframes of x and y datasets\n",
    "x=pd.DataFrame(data=X)"
   ]
  },
  {
   "cell_type": "markdown",
   "metadata": {},
   "source": [
    "# Model Building"
   ]
  },
  {
   "cell_type": "code",
   "execution_count": 41,
   "metadata": {},
   "outputs": [],
   "source": [
    "# splitting the dataset into training and test set\n",
    "X_train, X_test, y_train, y_test = train_test_split(x, trainY, test_size = 0.25, random_state = 0)"
   ]
  },
  {
   "cell_type": "code",
   "execution_count": 42,
   "metadata": {},
   "outputs": [
    {
     "data": {
      "text/plain": [
       "83.76623376623377"
      ]
     },
     "execution_count": 42,
     "metadata": {},
     "output_type": "execute_result"
    }
   ],
   "source": [
    "#logistic regression model\n",
    "logmodel = LogisticRegression(random_state=0)\n",
    "logmodel.fit(X_train, y_train)\n",
    "\n",
    "log_pred = logmodel.predict(X_test)\n",
    "acc1=accuracy_score(y_test,log_pred)*100\n",
    "acc1"
   ]
  },
  {
   "cell_type": "code",
   "execution_count": 43,
   "metadata": {},
   "outputs": [],
   "source": [
    "def  model_analysis(y_test,pred):\n",
    "    print(classification_report(y_test,pred))\n",
    "    print(\"\\n\")\n",
    "    print(confusion_matrix(y_test,pred))\n",
    "    "
   ]
  },
  {
   "cell_type": "code",
   "execution_count": 44,
   "metadata": {},
   "outputs": [
    {
     "name": "stdout",
     "output_type": "stream",
     "text": [
      "              precision    recall  f1-score   support\n",
      "\n",
      "           0       0.91      0.47      0.62        43\n",
      "           1       0.83      0.98      0.90       111\n",
      "\n",
      "    accuracy                           0.84       154\n",
      "   macro avg       0.87      0.72      0.76       154\n",
      "weighted avg       0.85      0.84      0.82       154\n",
      "\n",
      "\n",
      "\n",
      "[[ 20  23]\n",
      " [  2 109]]\n"
     ]
    }
   ],
   "source": [
    "model_analysis(y_test,log_pred)"
   ]
  },
  {
   "cell_type": "code",
   "execution_count": 45,
   "metadata": {},
   "outputs": [
    {
     "data": {
      "text/plain": [
       "array([[0.1586147 , 0.8413853 ],\n",
       "       [0.17180208, 0.82819792],\n",
       "       [0.29688619, 0.70311381],\n",
       "       [0.22693023, 0.77306977],\n",
       "       [0.1186728 , 0.8813272 ],\n",
       "       [0.9411576 , 0.0588424 ],\n",
       "       [0.17009397, 0.82990603],\n",
       "       [0.21128304, 0.78871696],\n",
       "       [0.91130269, 0.08869731],\n",
       "       [0.16487013, 0.83512987],\n",
       "       [0.16844354, 0.83155646],\n",
       "       [0.1240541 , 0.8759459 ],\n",
       "       [0.19963958, 0.80036042],\n",
       "       [0.15655128, 0.84344872],\n",
       "       [0.11876938, 0.88123062],\n",
       "       [0.17692128, 0.82307872],\n",
       "       [0.26930753, 0.73069247],\n",
       "       [0.27133004, 0.72866996],\n",
       "       [0.25606615, 0.74393385],\n",
       "       [0.93312657, 0.06687343],\n",
       "       [0.89867006, 0.10132994],\n",
       "       [0.16025602, 0.83974398],\n",
       "       [0.21241418, 0.78758582],\n",
       "       [0.23824933, 0.76175067],\n",
       "       [0.25015119, 0.74984881],\n",
       "       [0.1576334 , 0.8423666 ],\n",
       "       [0.23200388, 0.76799612],\n",
       "       [0.19355413, 0.80644587],\n",
       "       [0.76755996, 0.23244004],\n",
       "       [0.84171822, 0.15828178],\n",
       "       [0.14681324, 0.85318676],\n",
       "       [0.36729657, 0.63270343],\n",
       "       [0.20766075, 0.79233925],\n",
       "       [0.26678878, 0.73321122],\n",
       "       [0.16744275, 0.83255725],\n",
       "       [0.90474588, 0.09525412],\n",
       "       [0.17449436, 0.82550564],\n",
       "       [0.42950704, 0.57049296],\n",
       "       [0.13409261, 0.86590739],\n",
       "       [0.17190613, 0.82809387],\n",
       "       [0.24675908, 0.75324092],\n",
       "       [0.87577912, 0.12422088],\n",
       "       [0.14335243, 0.85664757],\n",
       "       [0.29789672, 0.70210328],\n",
       "       [0.15876978, 0.84123022],\n",
       "       [0.34438072, 0.65561928],\n",
       "       [0.12359697, 0.87640303],\n",
       "       [0.17188814, 0.82811186],\n",
       "       [0.23676662, 0.76323338],\n",
       "       [0.32335106, 0.67664894],\n",
       "       [0.15021034, 0.84978966],\n",
       "       [0.22963628, 0.77036372],\n",
       "       [0.36024865, 0.63975135],\n",
       "       [0.31276109, 0.68723891],\n",
       "       [0.27501097, 0.72498903],\n",
       "       [0.19770587, 0.80229413],\n",
       "       [0.21519477, 0.78480523],\n",
       "       [0.3911833 , 0.6088167 ],\n",
       "       [0.196218  , 0.803782  ],\n",
       "       [0.28412294, 0.71587706],\n",
       "       [0.90973026, 0.09026974],\n",
       "       [0.18285409, 0.81714591],\n",
       "       [0.32918427, 0.67081573],\n",
       "       [0.89476784, 0.10523216],\n",
       "       [0.11260776, 0.88739224],\n",
       "       [0.29529821, 0.70470179],\n",
       "       [0.18288867, 0.81711133],\n",
       "       [0.19611208, 0.80388792],\n",
       "       [0.28453259, 0.71546741],\n",
       "       [0.2754957 , 0.7245043 ],\n",
       "       [0.34185985, 0.65814015],\n",
       "       [0.1493952 , 0.8506048 ],\n",
       "       [0.32109531, 0.67890469],\n",
       "       [0.24681117, 0.75318883],\n",
       "       [0.15785022, 0.84214978],\n",
       "       [0.21278041, 0.78721959],\n",
       "       [0.72683074, 0.27316926],\n",
       "       [0.29545431, 0.70454569],\n",
       "       [0.16180964, 0.83819036],\n",
       "       [0.84527738, 0.15472262],\n",
       "       [0.37094086, 0.62905914],\n",
       "       [0.24880536, 0.75119464],\n",
       "       [0.31304675, 0.68695325],\n",
       "       [0.17961632, 0.82038368],\n",
       "       [0.2518168 , 0.7481832 ],\n",
       "       [0.18939836, 0.81060164],\n",
       "       [0.26138224, 0.73861776],\n",
       "       [0.27992449, 0.72007551],\n",
       "       [0.20426359, 0.79573641],\n",
       "       [0.13788783, 0.86211217],\n",
       "       [0.2283967 , 0.7716033 ],\n",
       "       [0.23636254, 0.76363746],\n",
       "       [0.22909326, 0.77090674],\n",
       "       [0.80171121, 0.19828879],\n",
       "       [0.28344622, 0.71655378],\n",
       "       [0.93460874, 0.06539126],\n",
       "       [0.15803581, 0.84196419],\n",
       "       [0.19936607, 0.80063393],\n",
       "       [0.26576364, 0.73423636],\n",
       "       [0.19219857, 0.80780143],\n",
       "       [0.28231893, 0.71768107],\n",
       "       [0.22141588, 0.77858412],\n",
       "       [0.25321827, 0.74678173],\n",
       "       [0.2733778 , 0.7266222 ],\n",
       "       [0.15662313, 0.84337687],\n",
       "       [0.24551346, 0.75448654],\n",
       "       [0.42971975, 0.57028025],\n",
       "       [0.24845495, 0.75154505],\n",
       "       [0.31081972, 0.68918028],\n",
       "       [0.23674901, 0.76325099],\n",
       "       [0.30669034, 0.69330966],\n",
       "       [0.3003408 , 0.6996592 ],\n",
       "       [0.26133244, 0.73866756],\n",
       "       [0.16983843, 0.83016157],\n",
       "       [0.90714407, 0.09285593],\n",
       "       [0.89089272, 0.10910728],\n",
       "       [0.26843393, 0.73156607],\n",
       "       [0.19305854, 0.80694146],\n",
       "       [0.27489933, 0.72510067],\n",
       "       [0.23056216, 0.76943784],\n",
       "       [0.17708934, 0.82291066],\n",
       "       [0.8800008 , 0.1199992 ],\n",
       "       [0.20420474, 0.79579526],\n",
       "       [0.16197557, 0.83802443],\n",
       "       [0.1558242 , 0.8441758 ],\n",
       "       [0.90454356, 0.09545644],\n",
       "       [0.23089828, 0.76910172],\n",
       "       [0.12554598, 0.87445402],\n",
       "       [0.27432797, 0.72567203],\n",
       "       [0.15509694, 0.84490306],\n",
       "       [0.24191209, 0.75808791],\n",
       "       [0.35926699, 0.64073301],\n",
       "       [0.17678202, 0.82321798],\n",
       "       [0.2308607 , 0.7691393 ],\n",
       "       [0.24255921, 0.75744079],\n",
       "       [0.12117638, 0.87882362],\n",
       "       [0.26632584, 0.73367416],\n",
       "       [0.15842019, 0.84157981],\n",
       "       [0.15935428, 0.84064572],\n",
       "       [0.235048  , 0.764952  ],\n",
       "       [0.34877304, 0.65122696],\n",
       "       [0.25877018, 0.74122982],\n",
       "       [0.92851715, 0.07148285],\n",
       "       [0.29323933, 0.70676067],\n",
       "       [0.15141972, 0.84858028],\n",
       "       [0.35229179, 0.64770821],\n",
       "       [0.16546054, 0.83453946],\n",
       "       [0.1149024 , 0.8850976 ],\n",
       "       [0.89323433, 0.10676567],\n",
       "       [0.8608249 , 0.1391751 ],\n",
       "       [0.17734205, 0.82265795],\n",
       "       [0.19489693, 0.80510307],\n",
       "       [0.24927522, 0.75072478],\n",
       "       [0.80219788, 0.19780212]])"
      ]
     },
     "execution_count": 45,
     "metadata": {},
     "output_type": "execute_result"
    }
   ],
   "source": [
    "# plotting roc curve\n",
    "probs=logmodel.predict_proba(X_test)\n",
    "probs"
   ]
  },
  {
   "cell_type": "code",
   "execution_count": 46,
   "metadata": {},
   "outputs": [
    {
     "name": "stdout",
     "output_type": "stream",
     "text": [
      "area under curve  0.7969830295411691\n"
     ]
    }
   ],
   "source": [
    "\n",
    "prob_positive=probs[:,1]\n",
    "fpr, tpr, threshold=metrics.roc_curve(y_test,prob_positive)\n",
    "roc_auc = metrics.auc(fpr,tpr)\n",
    "print(\"area under curve \",roc_auc)"
   ]
  },
  {
   "cell_type": "code",
   "execution_count": 47,
   "metadata": {},
   "outputs": [
    {
     "data": {
      "image/png": "[encoded data removed]",
      "text/plain": [
       "<Figure size 720x504 with 1 Axes>"
      ]
     },
     "metadata": {
      "needs_background": "light"
     },
     "output_type": "display_data"
    }
   ],
   "source": [
    "plt.title(\"Fig:2.1 Receiver Operating Charateristics\")\n",
    "plt.plot(fpr,tpr,'red',label='AUC=%0.4f' % roc_auc)\n",
    "plt.legend(loc='lower right')\n",
    "plt.plot([0,1],[0,1],color=\"darkblue\",linestyle= '--')\n",
    "plt.ylabel('True Positive Rate')\n",
    "plt.xlabel('False Positive Rate')\n",
    "plt.show()"
   ]
  },
  {
   "cell_type": "raw",
   "metadata": {},
   "source": [
    "Since the AUC value in the ROC plot is 0.7970 which is greater than 0.5, it can be inferred that the model built is a good model.\n",
    "There is a 79.7% chance that the model will be able to distinguish between positive class and negative class correctly."
   ]
  },
  {
   "cell_type": "code",
   "execution_count": 48,
   "metadata": {},
   "outputs": [
    {
     "data": {
      "text/plain": [
       "0.7987012987012987"
      ]
     },
     "execution_count": 48,
     "metadata": {},
     "output_type": "execute_result"
    }
   ],
   "source": [
    "# k nearest neighbors classifier model\n",
    "knn = KNeighborsClassifier(n_neighbors=5)\n",
    "knn.fit(X_train, y_train)\n",
    "\n",
    "knn_pred = knn.predict(X_test)\n",
    "\n",
    "accuracy_score(y_test,knn_pred)"
   ]
  },
  {
   "cell_type": "code",
   "execution_count": 49,
   "metadata": {},
   "outputs": [
    {
     "name": "stdout",
     "output_type": "stream",
     "text": [
      "[0    0.25974\n",
      "dtype: float64, 0    0.37013\n",
      "dtype: float64, 0    0.214286\n",
      "dtype: float64, 0    0.233766\n",
      "dtype: float64, 0    0.201299\n",
      "dtype: float64, 0    0.233766\n",
      "dtype: float64, 0    0.220779\n",
      "dtype: float64, 0    0.227273\n",
      "dtype: float64, 0    0.201299\n",
      "dtype: float64, 0    0.220779\n",
      "dtype: float64, 0    0.25974\n",
      "dtype: float64, 0    0.246753\n",
      "dtype: float64, 0    0.272727\n",
      "dtype: float64, 0    0.272727\n",
      "dtype: float64, 0    0.279221\n",
      "dtype: float64, 0    0.279221\n",
      "dtype: float64, 0    0.279221\n",
      "dtype: float64, 0    0.279221\n",
      "dtype: float64, 0    0.272727\n",
      "dtype: float64, 0    0.272727\n",
      "dtype: float64, 0    0.266234\n",
      "dtype: float64, 0    0.25974\n",
      "dtype: float64, 0    0.272727\n",
      "dtype: float64, 0    0.279221\n",
      "dtype: float64, 0    0.272727\n",
      "dtype: float64, 0    0.272727\n",
      "dtype: float64, 0    0.272727\n",
      "dtype: float64, 0    0.279221\n",
      "dtype: float64, 0    0.272727\n",
      "dtype: float64, 0    0.272727\n",
      "dtype: float64, 0    0.272727\n",
      "dtype: float64, 0    0.279221\n",
      "dtype: float64, 0    0.272727\n",
      "dtype: float64, 0    0.272727\n",
      "dtype: float64, 0    0.279221\n",
      "dtype: float64, 0    0.279221\n",
      "dtype: float64, 0    0.279221\n",
      "dtype: float64, 0    0.279221\n",
      "dtype: float64, 0    0.279221\n",
      "dtype: float64, 0    0.279221\n",
      "dtype: float64, 0    0.279221\n",
      "dtype: float64, 0    0.279221\n",
      "dtype: float64, 0    0.279221\n",
      "dtype: float64, 0    0.279221\n",
      "dtype: float64, 0    0.279221\n",
      "dtype: float64, 0    0.279221\n",
      "dtype: float64, 0    0.279221\n",
      "dtype: float64, 0    0.279221\n",
      "dtype: float64, 0    0.279221\n",
      "dtype: float64]\n"
     ]
    },
    {
     "data": {
      "text/plain": [
       "Text(0, 0.5, 'Error Rate')"
      ]
     },
     "execution_count": 49,
     "metadata": {},
     "output_type": "execute_result"
    },
    {
     "data": {
      "image/png": "[encoded data removed]",
      "text/plain": [
       "<Figure size 720x504 with 1 Axes>"
      ]
     },
     "metadata": {
      "needs_background": "light"
     },
     "output_type": "display_data"
    }
   ],
   "source": [
    "#plotting error rate vs k nearest neighbors values\n",
    "error_rate=[]\n",
    "for i in range (1,50):\n",
    "    knn=KNeighborsClassifier(n_neighbors = i)\n",
    "    knn.fit(X_train, y_train)\n",
    "    pred_i=knn.predict(X_test)\n",
    "    pred_i=pred_i.reshape(154,1)\n",
    "    error_rate.append(np.mean(pred_i != y_test))\n",
    "print(error_rate)\n",
    "plt.plot(range(1,50),error_rate,color='blue', linestyle='dashed',marker='o',markerfacecolor='red',markersize=10)\n",
    "plt.title('Fig:2.2 Error rate vs Knn value')\n",
    "plt.xlabel('Knn Value')\n",
    "plt.ylabel('Error Rate')"
   ]
  },
  {
   "cell_type": "raw",
   "metadata": {},
   "source": [
    "The graph stabilizes at knn=16 which can be used in the model as n_neighbors value."
   ]
  },
  {
   "cell_type": "code",
   "execution_count": 50,
   "metadata": {},
   "outputs": [
    {
     "data": {
      "text/plain": [
       "72.07792207792207"
      ]
     },
     "execution_count": 50,
     "metadata": {},
     "output_type": "execute_result"
    }
   ],
   "source": [
    "knn = KNeighborsClassifier(n_neighbors=16)\n",
    "knn.fit(X_train, y_train)\n",
    "\n",
    "knn_pred = knn.predict(X_test)\n",
    "\n",
    "acc2=accuracy_score(y_test,knn_pred)*100\n",
    "acc2"
   ]
  },
  {
   "cell_type": "code",
   "execution_count": 51,
   "metadata": {},
   "outputs": [
    {
     "name": "stdout",
     "output_type": "stream",
     "text": [
      "              precision    recall  f1-score   support\n",
      "\n",
      "           0       0.50      0.14      0.22        43\n",
      "           1       0.74      0.95      0.83       111\n",
      "\n",
      "    accuracy                           0.72       154\n",
      "   macro avg       0.62      0.54      0.52       154\n",
      "weighted avg       0.67      0.72      0.66       154\n",
      "\n",
      "\n",
      "\n",
      "[[  6  37]\n",
      " [  6 105]]\n"
     ]
    }
   ],
   "source": [
    "model_analysis(y_test,knn_pred)"
   ]
  },
  {
   "cell_type": "code",
   "execution_count": 52,
   "metadata": {},
   "outputs": [
    {
     "data": {
      "text/plain": [
       "83.76623376623377"
      ]
     },
     "execution_count": 52,
     "metadata": {},
     "output_type": "execute_result"
    }
   ],
   "source": [
    "# support vector classifier model\n",
    "svc = SVC(random_state=0,kernel='rbf',C=1000)\n",
    "svc.fit(X_train, y_train)\n",
    "\n",
    "svc_pred =svc.predict(X_test)\n",
    "\n",
    "acc3=accuracy_score(y_test,svc_pred)*100\n",
    "acc3\n"
   ]
  },
  {
   "cell_type": "code",
   "execution_count": 53,
   "metadata": {},
   "outputs": [
    {
     "name": "stdout",
     "output_type": "stream",
     "text": [
      "              precision    recall  f1-score   support\n",
      "\n",
      "           0       0.85      0.51      0.64        43\n",
      "           1       0.84      0.96      0.90       111\n",
      "\n",
      "    accuracy                           0.84       154\n",
      "   macro avg       0.84      0.74      0.77       154\n",
      "weighted avg       0.84      0.84      0.82       154\n",
      "\n",
      "\n",
      "\n",
      "[[ 22  21]\n",
      " [  4 107]]\n"
     ]
    }
   ],
   "source": [
    "model_analysis(y_test,svc_pred)"
   ]
  },
  {
   "cell_type": "code",
   "execution_count": 54,
   "metadata": {},
   "outputs": [
    {
     "data": {
      "text/plain": [
       "82.46753246753246"
      ]
     },
     "execution_count": 54,
     "metadata": {},
     "output_type": "execute_result"
    }
   ],
   "source": [
    "# naive bayes classifier model\n",
    "naive= GaussianNB(var_smoothing=0)\n",
    "naive.fit(X_train, y_train)\n",
    "\n",
    "naive_pred =naive.predict(X_test)\n",
    "\n",
    "acc4=accuracy_score(y_test,naive_pred)*100\n",
    "acc4\n"
   ]
  },
  {
   "cell_type": "code",
   "execution_count": 55,
   "metadata": {},
   "outputs": [
    {
     "name": "stdout",
     "output_type": "stream",
     "text": [
      "              precision    recall  f1-score   support\n",
      "\n",
      "           0       0.83      0.47      0.60        43\n",
      "           1       0.82      0.96      0.89       111\n",
      "\n",
      "    accuracy                           0.82       154\n",
      "   macro avg       0.83      0.71      0.74       154\n",
      "weighted avg       0.83      0.82      0.81       154\n",
      "\n",
      "\n",
      "\n",
      "[[ 20  23]\n",
      " [  4 107]]\n"
     ]
    }
   ],
   "source": [
    "model_analysis(y_test,naive_pred)"
   ]
  },
  {
   "cell_type": "code",
   "execution_count": 56,
   "metadata": {},
   "outputs": [
    {
     "data": {
      "text/plain": [
       "GridSearchCV(cv=None, error_score=nan,\n",
       "             estimator=DecisionTreeClassifier(ccp_alpha=0.0, class_weight=None,\n",
       "                                              criterion='gini', max_depth=None,\n",
       "                                              max_features='auto',\n",
       "                                              max_leaf_nodes=None,\n",
       "                                              min_impurity_decrease=0.0,\n",
       "                                              min_impurity_split=None,\n",
       "                                              min_samples_leaf=1,\n",
       "                                              min_samples_split=2,\n",
       "                                              min_weight_fraction_leaf=0.0,\n",
       "                                              presort='deprecated',\n",
       "                                              random_state=0,\n",
       "                                              splitter='random'),\n",
       "             iid='deprecated', n_jobs=-1,\n",
       "             param_grid={'criterion': ['gini', 'entropy'],\n",
       "                         'max_depth': array([3, 4, 5, 6]),\n",
       "                         'max_leaf_nodes': [2, 3, 4, 5, 6, 7, 8, 9],\n",
       "                         'min_samples_leaf': array([2, 3, 4, 5, 6, 7, 8, 9]),\n",
       "                         'min_samples_split': array([2, 3, 4, 5, 6, 7, 8, 9])},\n",
       "             pre_dispatch='2*n_jobs', refit=True, return_train_score=False,\n",
       "             scoring='accuracy', verbose=0)"
      ]
     },
     "execution_count": 56,
     "metadata": {},
     "output_type": "execute_result"
    }
   ],
   "source": [
    "# decision tree classifier model\n",
    "params = {'max_leaf_nodes': list(range(2,10)),\n",
    "          'min_samples_leaf':np.arange(2,10),\n",
    "              'min_samples_split':np.arange(2,10),\n",
    "              'max_depth':np.arange(3,7),\n",
    "              'criterion':['gini','entropy']}\n",
    "tree_model = GridSearchCV(DecisionTreeClassifier(splitter='random',random_state=0,max_features='auto'), params,n_jobs=-1,scoring='accuracy')\n",
    "tree_model.fit(X_train, y_train)"
   ]
  },
  {
   "cell_type": "code",
   "execution_count": 57,
   "metadata": {},
   "outputs": [
    {
     "name": "stdout",
     "output_type": "stream",
     "text": [
      "Tree best parameters : {'criterion': 'gini', 'max_depth': 3, 'max_leaf_nodes': 5, 'min_samples_leaf': 2, 'min_samples_split': 2}\n",
      "Tree best estimator : DecisionTreeClassifier(ccp_alpha=0.0, class_weight=None, criterion='gini',\n",
      "                       max_depth=3, max_features='auto', max_leaf_nodes=5,\n",
      "                       min_impurity_decrease=0.0, min_impurity_split=None,\n",
      "                       min_samples_leaf=2, min_samples_split=2,\n",
      "                       min_weight_fraction_leaf=0.0, presort='deprecated',\n",
      "                       random_state=0, splitter='random')\n",
      "Tree best score : 0.8065217391304348\n"
     ]
    }
   ],
   "source": [
    "print(\"Tree best parameters :\",tree_model.best_params_)\n",
    "print(\"Tree best estimator :\",tree_model.best_estimator_ )\n",
    "print(\"Tree best score :\",tree_model.best_score_ )"
   ]
  },
  {
   "cell_type": "code",
   "execution_count": 58,
   "metadata": {},
   "outputs": [
    {
     "data": {
      "text/plain": [
       "83.11688311688312"
      ]
     },
     "execution_count": 58,
     "metadata": {},
     "output_type": "execute_result"
    }
   ],
   "source": [
    "dt = DecisionTreeClassifier(ccp_alpha=0.0, class_weight=None, criterion='entropy',\n",
    "                       max_depth=4, max_features='auto', max_leaf_nodes=9,\n",
    "                       min_impurity_decrease=0.0, min_impurity_split=None,\n",
    "                       min_samples_leaf=2, min_samples_split=2,\n",
    "                       min_weight_fraction_leaf=0.0, presort='deprecated',\n",
    "                       random_state=0, splitter='random')\n",
    "dt.fit(X_train, y_train)\n",
    "\n",
    "dt_pred =dt.predict(X_test)\n",
    "\n",
    "acc5=accuracy_score(y_test,dt_pred)*100\n",
    "acc5\n"
   ]
  },
  {
   "cell_type": "code",
   "execution_count": 59,
   "metadata": {},
   "outputs": [
    {
     "name": "stdout",
     "output_type": "stream",
     "text": [
      "              precision    recall  f1-score   support\n",
      "\n",
      "           0       0.90      0.44      0.59        43\n",
      "           1       0.82      0.98      0.89       111\n",
      "\n",
      "    accuracy                           0.83       154\n",
      "   macro avg       0.86      0.71      0.74       154\n",
      "weighted avg       0.84      0.83      0.81       154\n",
      "\n",
      "\n",
      "\n",
      "[[ 19  24]\n",
      " [  2 109]]\n"
     ]
    }
   ],
   "source": [
    "model_analysis(y_test,dt_pred)"
   ]
  },
  {
   "cell_type": "code",
   "execution_count": 60,
   "metadata": {},
   "outputs": [
    {
     "data": {
      "image/png": "[encoded data removed]",
      "text/plain": [
       "<Figure size 720x504 with 1 Axes>"
      ]
     },
     "metadata": {
      "needs_background": "light"
     },
     "output_type": "display_data"
    }
   ],
   "source": [
    "# plotting decision classifier tree\n",
    "cols=list(trainX.columns.values)\n",
    "from sklearn import tree\n",
    "from matplotlib import pyplot as plt\n",
    "tree.plot_tree(dt.fit(trainX,trainY),feature_names=cols,filled=True,precision=3,proportion=True,rounded=True)\n",
    "plt.show()"
   ]
  },
  {
   "cell_type": "code",
   "execution_count": 61,
   "metadata": {},
   "outputs": [
    {
     "data": {
      "text/plain": [
       "GridSearchCV(cv=None, error_score=nan,\n",
       "             estimator=AdaBoostClassifier(algorithm='SAMME.R',\n",
       "                                          base_estimator=None,\n",
       "                                          learning_rate=1.0, n_estimators=50,\n",
       "                                          random_state=30),\n",
       "             iid='deprecated', n_jobs=-1,\n",
       "             param_grid={'algorithm': ['SAMME', 'SAMME.R'],\n",
       "                         'learning_rate': array([0.1, 1.1, 2.1, 3.1, 4.1, 5.1, 6.1, 7.1, 8.1, 9.1]),\n",
       "                         'n_estimators': [20, 21, 22, 23, 24, 25, 26, 27, 28,\n",
       "                                          29, 30, 31, 32, 33, 34, 35, 36, 37,\n",
       "                                          38, 39, 40, 41, 42, 43, 44, 45, 46,\n",
       "                                          47, 48, 49]},\n",
       "             pre_dispatch='2*n_jobs', refit=True, return_train_score=False,\n",
       "             scoring='accuracy', verbose=0)"
      ]
     },
     "execution_count": 61,
     "metadata": {},
     "output_type": "execute_result"
    }
   ],
   "source": [
    "# ada boost classifier model\n",
    "params = {'n_estimators': list(range(20,50)),\n",
    "          'learning_rate':np.arange(0.1,10.0),\n",
    "          'algorithm':['SAMME', 'SAMME.R']}\n",
    "nb_model = GridSearchCV(AdaBoostClassifier(random_state=30), params,n_jobs=-1,scoring='accuracy')\n",
    "nb_model.fit(X_train, y_train)"
   ]
  },
  {
   "cell_type": "code",
   "execution_count": 62,
   "metadata": {},
   "outputs": [
    {
     "name": "stdout",
     "output_type": "stream",
     "text": [
      "Ada Boost best parameters : {'algorithm': 'SAMME', 'learning_rate': 1.1, 'n_estimators': 34}\n",
      "Ada Boost best estimator : AdaBoostClassifier(algorithm='SAMME', base_estimator=None, learning_rate=1.1,\n",
      "                   n_estimators=34, random_state=30)\n",
      "Ada Boost best score : 0.808695652173913\n"
     ]
    }
   ],
   "source": [
    "print(\"Ada Boost best parameters :\",nb_model.best_params_)\n",
    "print(\"Ada Boost best estimator :\",nb_model.best_estimator_ )\n",
    "print(\"Ada Boost best score :\",nb_model.best_score_ )"
   ]
  },
  {
   "cell_type": "code",
   "execution_count": 63,
   "metadata": {},
   "outputs": [
    {
     "data": {
      "text/plain": [
       "83.11688311688312"
      ]
     },
     "execution_count": 63,
     "metadata": {},
     "output_type": "execute_result"
    }
   ],
   "source": [
    "abc = AdaBoostClassifier(algorithm='SAMME', base_estimator=None, learning_rate=1.1,\n",
    "                   n_estimators=34, random_state=3)\n",
    "abc.fit(X_train, y_train)\n",
    "\n",
    "abc_pred =abc.predict(X_test)\n",
    "\n",
    "acc6=accuracy_score(y_test,abc_pred)*100\n",
    "acc6"
   ]
  },
  {
   "cell_type": "code",
   "execution_count": 64,
   "metadata": {},
   "outputs": [
    {
     "name": "stdout",
     "output_type": "stream",
     "text": [
      "              precision    recall  f1-score   support\n",
      "\n",
      "           0       0.90      0.44      0.59        43\n",
      "           1       0.82      0.98      0.89       111\n",
      "\n",
      "    accuracy                           0.83       154\n",
      "   macro avg       0.86      0.71      0.74       154\n",
      "weighted avg       0.84      0.83      0.81       154\n",
      "\n",
      "\n",
      "\n",
      "[[ 19  24]\n",
      " [  2 109]]\n"
     ]
    }
   ],
   "source": [
    "model_analysis(y_test,abc_pred)"
   ]
  },
  {
   "cell_type": "code",
   "execution_count": 65,
   "metadata": {},
   "outputs": [
    {
     "name": "stdout",
     "output_type": "stream",
     "text": [
      "Random Forest best parameters : {'criterion': 'gini', 'max_depth': 5, 'max_features': 'auto', 'min_samples_split': 4, 'min_weight_fraction_leaf': 0.0, 'n_estimators': 5}\n",
      "Random Forest best estimator : RandomForestClassifier(bootstrap=True, ccp_alpha=0.0, class_weight=None,\n",
      "                       criterion='gini', max_depth=5, max_features='auto',\n",
      "                       max_leaf_nodes=None, max_samples=None,\n",
      "                       min_impurity_decrease=0.0, min_impurity_split=None,\n",
      "                       min_samples_leaf=1, min_samples_split=4,\n",
      "                       min_weight_fraction_leaf=0.0, n_estimators=5,\n",
      "                       n_jobs=None, oob_score=False, random_state=0, verbose=0,\n",
      "                       warm_start=False)\n",
      "Random Forest best score : 0.8130434782608698\n"
     ]
    }
   ],
   "source": [
    "# random forest classifeir model\n",
    "params = {'n_estimators':np.arange(3,20,2),\n",
    "              'max_depth':np.arange(3,7), \n",
    "          'min_samples_split':np.arange(3,7),\n",
    "          'max_features':['auto',  'log2'],\n",
    "          'min_weight_fraction_leaf':np.arange(0,0.5,0.1),\n",
    "              'criterion':['gini','entropy']}\n",
    "forest_model = GridSearchCV(RandomForestClassifier(random_state=0), params,n_jobs=-1, scoring='accuracy')\n",
    "\n",
    "forest_model.fit(X_train, y_train)\n",
    "\n",
    "print(\"Random Forest best parameters :\",forest_model.best_params_)\n",
    "print(\"Random Forest best estimator :\",forest_model.best_estimator_ )\n",
    "print(\"Random Forest best score :\",forest_model.best_score_ )\n"
   ]
  },
  {
   "cell_type": "code",
   "execution_count": 66,
   "metadata": {},
   "outputs": [
    {
     "data": {
      "text/plain": [
       "83.11688311688312"
      ]
     },
     "execution_count": 66,
     "metadata": {},
     "output_type": "execute_result"
    }
   ],
   "source": [
    "rf = RandomForestClassifier(bootstrap=True, ccp_alpha=0.0, class_weight=None,\n",
    "                       criterion='gini', max_depth=6, max_features='auto',\n",
    "                       max_leaf_nodes=None, max_samples=None,\n",
    "                       min_impurity_decrease=0.0, min_impurity_split=None,\n",
    "                       min_samples_leaf=1, min_samples_split=3,\n",
    "                       min_weight_fraction_leaf=0.0, n_estimators=17,\n",
    "                       n_jobs=None, oob_score=False, random_state=0, verbose=0,\n",
    "                       warm_start=False)\n",
    "rf.fit(X_train, y_train)\n",
    "rf_pred =rf.predict(X_test)\n",
    "\n",
    "acc7=accuracy_score(y_test,rf_pred)*100\n",
    "acc7"
   ]
  },
  {
   "cell_type": "code",
   "execution_count": 67,
   "metadata": {},
   "outputs": [
    {
     "name": "stdout",
     "output_type": "stream",
     "text": [
      "              precision    recall  f1-score   support\n",
      "\n",
      "           0       0.90      0.44      0.59        43\n",
      "           1       0.82      0.98      0.89       111\n",
      "\n",
      "    accuracy                           0.83       154\n",
      "   macro avg       0.86      0.71      0.74       154\n",
      "weighted avg       0.84      0.83      0.81       154\n",
      "\n",
      "\n",
      "\n",
      "[[ 19  24]\n",
      " [  2 109]]\n"
     ]
    }
   ],
   "source": [
    "model_analysis(y_test,rf_pred)"
   ]
  },
  {
   "cell_type": "code",
   "execution_count": 68,
   "metadata": {},
   "outputs": [
    {
     "data": {
      "text/plain": [
       "81.81818181818183"
      ]
     },
     "execution_count": 68,
     "metadata": {},
     "output_type": "execute_result"
    }
   ],
   "source": [
    "#xgboost classifier model\n",
    "xgb = XGBClassifier(n_estimators=100,max_depth=2)\n",
    "xgb.fit(X_train,y_train)\n",
    "pred_xgb=xgb.predict(X_test)\n",
    "\n",
    "acc8= accuracy_score(y_test,pred_xgb)*100\n",
    "acc8"
   ]
  },
  {
   "cell_type": "code",
   "execution_count": 69,
   "metadata": {},
   "outputs": [
    {
     "name": "stdout",
     "output_type": "stream",
     "text": [
      "              precision    recall  f1-score   support\n",
      "\n",
      "           0       0.78      0.49      0.60        43\n",
      "           1       0.83      0.95      0.88       111\n",
      "\n",
      "    accuracy                           0.82       154\n",
      "   macro avg       0.80      0.72      0.74       154\n",
      "weighted avg       0.81      0.82      0.80       154\n",
      "\n",
      "\n",
      "\n",
      "[[ 21  22]\n",
      " [  6 105]]\n"
     ]
    }
   ],
   "source": [
    "model_analysis(y_test,pred_xgb)"
   ]
  },
  {
   "cell_type": "markdown",
   "metadata": {},
   "source": [
    "# Feature Importance"
   ]
  },
  {
   "cell_type": "code",
   "execution_count": 83,
   "metadata": {},
   "outputs": [
    {
     "data": {
      "text/html": [
       "<div>\n",
       "<style scoped>\n",
       "    .dataframe tbody tr th:only-of-type {\n",
       "        vertical-align: middle;\n",
       "    }\n",
       "\n",
       "    .dataframe tbody tr th {\n",
       "        vertical-align: top;\n",
       "    }\n",
       "\n",
       "    .dataframe thead th {\n",
       "        text-align: right;\n",
       "    }\n",
       "</style>\n",
       "<table border=\"1\" class=\"dataframe\">\n",
       "  <thead>\n",
       "    <tr style=\"text-align: right;\">\n",
       "      <th></th>\n",
       "      <th>metrics</th>\n",
       "      <th>Logistic reg</th>\n",
       "      <th>knn</th>\n",
       "      <th>svc</th>\n",
       "      <th>naive bayes</th>\n",
       "      <th>decision tree</th>\n",
       "      <th>adaboost</th>\n",
       "      <th>random forest</th>\n",
       "      <th>xgboost</th>\n",
       "    </tr>\n",
       "  </thead>\n",
       "  <tbody>\n",
       "    <tr>\n",
       "      <th>0</th>\n",
       "      <td>Accuracy Score</td>\n",
       "      <td>83.766234</td>\n",
       "      <td>72.077922</td>\n",
       "      <td>83.766234</td>\n",
       "      <td>82.467532</td>\n",
       "      <td>83.116883</td>\n",
       "      <td>83.116883</td>\n",
       "      <td>83.116883</td>\n",
       "      <td>81.818182</td>\n",
       "    </tr>\n",
       "  </tbody>\n",
       "</table>\n",
       "</div>"
      ],
      "text/plain": [
       "           metrics  Logistic reg        knn        svc  naive bayes  \\\n",
       "0  Accuracy Score      83.766234  72.077922  83.766234    82.467532   \n",
       "\n",
       "   decision tree   adaboost  random forest    xgboost  \n",
       "0      83.116883  83.116883      83.116883  81.818182  "
      ]
     },
     "execution_count": 83,
     "metadata": {},
     "output_type": "execute_result"
    }
   ],
   "source": [
    "# creating a dataframe consisting of accuracy score values\n",
    "metrics_df=pd.DataFrame(columns=['metrics','Logistic reg','knn','svc','naive bayes','decision tree','adaboost','random forest','xgboost'])\n",
    "metrics_df=metrics_df.append({'metrics': \"Accuracy Score \", 'Logistic reg': acc1 ,'knn':acc2,'svc':acc3,'naive bayes':acc4,'decision tree':acc5,'adaboost':acc6,'random forest':acc7,'xgboost':acc8}, ignore_index=True)\n",
    "metrics_df"
   ]
  },
  {
   "cell_type": "raw",
   "metadata": {},
   "source": [
    "From the table above, it is evident that the best models are Logistic regression and Support Vector Classifier models each of which sharing an accuracy of 83.766234"
   ]
  },
  {
   "cell_type": "code",
   "execution_count": 70,
   "metadata": {},
   "outputs": [
    {
     "data": {
      "text/plain": [
       "Credit_History             0.542654\n",
       "ApplicantIncome            0.124603\n",
       "LoanAmount                 0.101993\n",
       "CoapplicantIncome          0.079368\n",
       "Dependents                 0.034756\n",
       "Property_Area_Semiurban    0.030094\n",
       "Loan_Amount_Term           0.026311\n",
       "Self_Employed_Yes          0.013256\n",
       "Property_Area_Urban        0.013148\n",
       "Education_Not Graduate     0.013143\n",
       "Married_Yes                0.012439\n",
       "Gender_Male                0.008236\n",
       "dtype: float64"
      ]
     },
     "execution_count": 70,
     "metadata": {},
     "output_type": "execute_result"
    }
   ],
   "source": [
    "#finding the important feaures\n",
    "feature_imp=pd.Series(rf.feature_importances_,index=trainX.columns).sort_values(ascending=False)\n",
    "feature_imp"
   ]
  },
  {
   "cell_type": "code",
   "execution_count": 71,
   "metadata": {},
   "outputs": [
    {
     "data": {
      "image/png": "[encoded data removed]",
      "text/plain": [
       "<Figure size 720x504 with 1 Axes>"
      ]
     },
     "metadata": {
      "needs_background": "light"
     },
     "output_type": "display_data"
    }
   ],
   "source": [
    "#plotting the important features\n",
    "sns.barplot(x=feature_imp,y=feature_imp.index)\n",
    "plt.title(\"Fig:2.3 Feature Importance Plot\")\n",
    "plt.xlabel(\"Feature Importance Score\")\n",
    "plt.ylabel(\"Features\")\n",
    "plt.show()"
   ]
  },
  {
   "cell_type": "raw",
   "metadata": {},
   "source": [
    "Inference:\n",
    "1. Credit History is the most important feature that determines the approval status of home loan and has a huge impact on the target variable.\n",
    "2. This is followed by ApplicantIncome which becomes the next most important feature.\n",
    "3. The least important feature is the Gender_Male feature which has an importance score close to 0.0 "
   ]
  },
  {
   "cell_type": "code",
   "execution_count": 80,
   "metadata": {},
   "outputs": [
    {
     "data": {
      "text/plain": [
       "SelectFromModel(estimator=LogisticRegression(C=1.0, class_weight=None,\n",
       "                                             dual=False, fit_intercept=True,\n",
       "                                             intercept_scaling=1, l1_ratio=None,\n",
       "                                             max_iter=100, multi_class='auto',\n",
       "                                             n_jobs=None, penalty='l2',\n",
       "                                             random_state=0, solver='lbfgs',\n",
       "                                             tol=0.0001, verbose=0,\n",
       "                                             warm_start=False),\n",
       "                max_features=None, norm_order=1, prefit=False, threshold=0.1)"
      ]
     },
     "execution_count": 80,
     "metadata": {},
     "output_type": "execute_result"
    }
   ],
   "source": [
    "#building model with important features\n",
    "fea_sel=SelectFromModel(logmodel,threshold=0.1)\n",
    "fea_sel.fit(X_train,y_train)"
   ]
  },
  {
   "cell_type": "code",
   "execution_count": 73,
   "metadata": {},
   "outputs": [],
   "source": [
    "x_imp_train=fea_sel.transform(X_train)\n",
    "x_imp_test=fea_sel.transform(X_test)\n"
   ]
  },
  {
   "cell_type": "code",
   "execution_count": 81,
   "metadata": {},
   "outputs": [
    {
     "name": "stdout",
     "output_type": "stream",
     "text": [
      "83.11688311688312\n"
     ]
    }
   ],
   "source": [
    "clf_imp=LogisticRegression(random_state=0)\n",
    "clf_imp.fit(x_imp_train, y_train)\n",
    "y_pred1 =clf_imp.predict(x_imp_test)\n",
    "\n",
    "\n",
    "acc9=print(accuracy_score(y_test, y_pred1)*100)"
   ]
  },
  {
   "cell_type": "code",
   "execution_count": 82,
   "metadata": {},
   "outputs": [
    {
     "name": "stdout",
     "output_type": "stream",
     "text": [
      "              precision    recall  f1-score   support\n",
      "\n",
      "           0       0.90      0.44      0.59        43\n",
      "           1       0.82      0.98      0.89       111\n",
      "\n",
      "    accuracy                           0.83       154\n",
      "   macro avg       0.86      0.71      0.74       154\n",
      "weighted avg       0.84      0.83      0.81       154\n",
      "\n",
      "\n",
      "\n",
      "[[ 19  24]\n",
      " [  2 109]]\n"
     ]
    }
   ],
   "source": [
    "model_analysis(y_test,y_pred1)"
   ]
  },
  {
   "cell_type": "code",
   "execution_count": 86,
   "metadata": {},
   "outputs": [
    {
     "name": "stdout",
     "output_type": "stream",
     "text": [
      "83.11688311688312\n"
     ]
    }
   ],
   "source": [
    "clf_imp1=SVC(random_state=0,kernel='rbf',C=1000)\n",
    "clf_imp1.fit(x_imp_train, y_train)\n",
    "y_pred2 =clf_imp1.predict(x_imp_test)\n",
    "\n",
    "acc10=print(accuracy_score(y_test, y_pred2)*100)"
   ]
  },
  {
   "cell_type": "code",
   "execution_count": 87,
   "metadata": {},
   "outputs": [
    {
     "name": "stdout",
     "output_type": "stream",
     "text": [
      "              precision    recall  f1-score   support\n",
      "\n",
      "           0       0.84      0.49      0.62        43\n",
      "           1       0.83      0.96      0.89       111\n",
      "\n",
      "    accuracy                           0.83       154\n",
      "   macro avg       0.83      0.73      0.75       154\n",
      "weighted avg       0.83      0.83      0.82       154\n",
      "\n",
      "\n",
      "\n",
      "[[ 21  22]\n",
      " [  4 107]]\n"
     ]
    }
   ],
   "source": [
    "model_analysis(y_test,y_pred2)"
   ]
  },
  {
   "cell_type": "raw",
   "metadata": {},
   "source": [
    "By applying the best models to the important features , we get an accuracy of 83.11688311688312"
   ]
  },
  {
   "cell_type": "markdown",
   "metadata": {},
   "source": [
    "# Predicting Test Data"
   ]
  },
  {
   "cell_type": "code",
   "execution_count": 77,
   "metadata": {},
   "outputs": [
    {
     "name": "stdout",
     "output_type": "stream",
     "text": [
      "    Logistic reg svc\n",
      "0              1   1\n",
      "1              1   1\n",
      "2              1   1\n",
      "3              1   1\n",
      "4              1   1\n",
      "..           ...  ..\n",
      "362            1   1\n",
      "363            1   1\n",
      "364            1   1\n",
      "365            1   1\n",
      "366            1   1\n",
      "\n",
      "[367 rows x 2 columns]\n"
     ]
    }
   ],
   "source": [
    "# fitting the best model on test dataset\n",
    "log_test=(logmodel.predict(testX))\n",
    "svc_test=(svc.predict(testX))\n",
    "\n",
    "df_test=pd.DataFrame(columns=['Logistic reg','svc'])\n",
    "for i in range(len(log_test)):\n",
    "    df_test=df_test.append({'Logistic reg':log_test[i],  'svc':svc_test[i]}, ignore_index=True)\n",
    "print(df_test)\n"
   ]
  },
  {
   "cell_type": "code",
   "execution_count": 78,
   "metadata": {},
   "outputs": [
    {
     "name": "stdout",
     "output_type": "stream",
     "text": [
      "    Logistic reg svc\n",
      "84             0   1\n",
      "101            0   1\n",
      "144            1   0\n",
      "200            1   0\n",
      "216            1   0\n",
      "222            1   0\n",
      "239            1   0\n",
      "250            0   1\n"
     ]
    }
   ],
   "source": [
    "# predicted values that don't coincide\n",
    "print(df_test[df_test['Logistic reg'].values!= df_test['svc'].values])"
   ]
  }
 ],
 "metadata": {
  "kernelspec": {
   "display_name": "Python 3",
   "language": "python",
   "name": "python3"
  },
  "language_info": {
   "codemirror_mode": {
    "name": "ipython",
    "version": 3
   },
   "file_extension": ".py",
   "mimetype": "text/x-python",
   "name": "python",
   "nbconvert_exporter": "python",
   "pygments_lexer": "ipython3",
   "version": "3.8.5"
  }
 },
 "nbformat": 4,
 "nbformat_minor": 4
}
