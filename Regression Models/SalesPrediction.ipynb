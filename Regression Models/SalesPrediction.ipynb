{
 "cells": [
  {
   "cell_type": "markdown",
   "metadata": {},
   "source": [
    "# Importing the Libraries"
   ]
  },
  {
   "cell_type": "code",
   "execution_count": 1,
   "metadata": {},
   "outputs": [],
   "source": [
    "import pandas as pd \n",
    "import numpy as np\n",
    "import warnings\n",
    "from scipy.stats import mode\n",
    "import datetime\n",
    "from sklearn.preprocessing import StandardScaler\n",
    "from sklearn import model_selection\n",
    "from sklearn.model_selection import train_test_split\n",
    "from sklearn.model_selection import GridSearchCV\n",
    "from sklearn.linear_model import LinearRegression\n",
    "from sklearn.linear_model import Ridge\n",
    "from sklearn.linear_model import Lasso\n",
    "from sklearn.metrics import r2_score\n",
    "from sklearn.metrics import mean_squared_error\n",
    "from math import sqrt\n",
    "from mpl_toolkits.mplot3d import Axes3D\n",
    "import matplotlib.pyplot as plt\n",
    "import seaborn as sns\n",
    "\n",
    "%matplotlib inline"
   ]
  },
  {
   "cell_type": "markdown",
   "metadata": {},
   "source": [
    "# Loading the Dataset"
   ]
  },
  {
   "cell_type": "code",
   "execution_count": 2,
   "metadata": {
    "scrolled": true
   },
   "outputs": [
    {
     "data": {
      "text/html": [
       "<div>\n",
       "<style scoped>\n",
       "    .dataframe tbody tr th:only-of-type {\n",
       "        vertical-align: middle;\n",
       "    }\n",
       "\n",
       "    .dataframe tbody tr th {\n",
       "        vertical-align: top;\n",
       "    }\n",
       "\n",
       "    .dataframe thead th {\n",
       "        text-align: right;\n",
       "    }\n",
       "</style>\n",
       "<table border=\"1\" class=\"dataframe\">\n",
       "  <thead>\n",
       "    <tr style=\"text-align: right;\">\n",
       "      <th></th>\n",
       "      <th>Item_Identifier</th>\n",
       "      <th>Outlet_Identifier</th>\n",
       "    </tr>\n",
       "  </thead>\n",
       "  <tbody>\n",
       "    <tr>\n",
       "      <th>0</th>\n",
       "      <td>FDW58</td>\n",
       "      <td>OUT049</td>\n",
       "    </tr>\n",
       "    <tr>\n",
       "      <th>1</th>\n",
       "      <td>FDW14</td>\n",
       "      <td>OUT017</td>\n",
       "    </tr>\n",
       "    <tr>\n",
       "      <th>2</th>\n",
       "      <td>NCN55</td>\n",
       "      <td>OUT010</td>\n",
       "    </tr>\n",
       "    <tr>\n",
       "      <th>3</th>\n",
       "      <td>FDQ58</td>\n",
       "      <td>OUT017</td>\n",
       "    </tr>\n",
       "    <tr>\n",
       "      <th>4</th>\n",
       "      <td>FDY38</td>\n",
       "      <td>OUT027</td>\n",
       "    </tr>\n",
       "    <tr>\n",
       "      <th>...</th>\n",
       "      <td>...</td>\n",
       "      <td>...</td>\n",
       "    </tr>\n",
       "    <tr>\n",
       "      <th>5676</th>\n",
       "      <td>FDB58</td>\n",
       "      <td>OUT046</td>\n",
       "    </tr>\n",
       "    <tr>\n",
       "      <th>5677</th>\n",
       "      <td>FDD47</td>\n",
       "      <td>OUT018</td>\n",
       "    </tr>\n",
       "    <tr>\n",
       "      <th>5678</th>\n",
       "      <td>NCO17</td>\n",
       "      <td>OUT045</td>\n",
       "    </tr>\n",
       "    <tr>\n",
       "      <th>5679</th>\n",
       "      <td>FDJ26</td>\n",
       "      <td>OUT017</td>\n",
       "    </tr>\n",
       "    <tr>\n",
       "      <th>5680</th>\n",
       "      <td>FDU37</td>\n",
       "      <td>OUT045</td>\n",
       "    </tr>\n",
       "  </tbody>\n",
       "</table>\n",
       "<p>5681 rows × 2 columns</p>\n",
       "</div>"
      ],
      "text/plain": [
       "     Item_Identifier Outlet_Identifier\n",
       "0              FDW58            OUT049\n",
       "1              FDW14            OUT017\n",
       "2              NCN55            OUT010\n",
       "3              FDQ58            OUT017\n",
       "4              FDY38            OUT027\n",
       "...              ...               ...\n",
       "5676           FDB58            OUT046\n",
       "5677           FDD47            OUT018\n",
       "5678           NCO17            OUT045\n",
       "5679           FDJ26            OUT017\n",
       "5680           FDU37            OUT045\n",
       "\n",
       "[5681 rows x 2 columns]"
      ]
     },
     "execution_count": 2,
     "metadata": {},
     "output_type": "execute_result"
    }
   ],
   "source": [
    "train=pd.read_csv('Train.csv')\n",
    "test=pd.read_csv('Test.csv')\n",
    "new = test[['Item_Identifier', 'Outlet_Identifier']].copy()\n",
    "new"
   ]
  },
  {
   "cell_type": "code",
   "execution_count": 3,
   "metadata": {},
   "outputs": [
    {
     "data": {
      "text/html": [
       "<div>\n",
       "<style scoped>\n",
       "    .dataframe tbody tr th:only-of-type {\n",
       "        vertical-align: middle;\n",
       "    }\n",
       "\n",
       "    .dataframe tbody tr th {\n",
       "        vertical-align: top;\n",
       "    }\n",
       "\n",
       "    .dataframe thead th {\n",
       "        text-align: right;\n",
       "    }\n",
       "</style>\n",
       "<table border=\"1\" class=\"dataframe\">\n",
       "  <thead>\n",
       "    <tr style=\"text-align: right;\">\n",
       "      <th></th>\n",
       "      <th>Item_Identifier</th>\n",
       "      <th>Item_Weight</th>\n",
       "      <th>Item_Fat_Content</th>\n",
       "      <th>Item_Visibility</th>\n",
       "      <th>Item_Type</th>\n",
       "      <th>Item_MRP</th>\n",
       "      <th>Outlet_Identifier</th>\n",
       "      <th>Outlet_Establishment_Year</th>\n",
       "      <th>Outlet_Size</th>\n",
       "      <th>Outlet_Location_Type</th>\n",
       "      <th>Outlet_Type</th>\n",
       "      <th>Item_Outlet_Sales</th>\n",
       "      <th>source</th>\n",
       "    </tr>\n",
       "  </thead>\n",
       "  <tbody>\n",
       "    <tr>\n",
       "      <th>0</th>\n",
       "      <td>FDA15</td>\n",
       "      <td>9.30</td>\n",
       "      <td>Low Fat</td>\n",
       "      <td>0.016047</td>\n",
       "      <td>Dairy</td>\n",
       "      <td>249.8092</td>\n",
       "      <td>OUT049</td>\n",
       "      <td>1999</td>\n",
       "      <td>Medium</td>\n",
       "      <td>Tier 1</td>\n",
       "      <td>Supermarket Type1</td>\n",
       "      <td>3735.1380</td>\n",
       "      <td>train</td>\n",
       "    </tr>\n",
       "    <tr>\n",
       "      <th>1</th>\n",
       "      <td>DRC01</td>\n",
       "      <td>5.92</td>\n",
       "      <td>Regular</td>\n",
       "      <td>0.019278</td>\n",
       "      <td>Soft Drinks</td>\n",
       "      <td>48.2692</td>\n",
       "      <td>OUT018</td>\n",
       "      <td>2009</td>\n",
       "      <td>Medium</td>\n",
       "      <td>Tier 3</td>\n",
       "      <td>Supermarket Type2</td>\n",
       "      <td>443.4228</td>\n",
       "      <td>train</td>\n",
       "    </tr>\n",
       "    <tr>\n",
       "      <th>2</th>\n",
       "      <td>FDN15</td>\n",
       "      <td>17.50</td>\n",
       "      <td>Low Fat</td>\n",
       "      <td>0.016760</td>\n",
       "      <td>Meat</td>\n",
       "      <td>141.6180</td>\n",
       "      <td>OUT049</td>\n",
       "      <td>1999</td>\n",
       "      <td>Medium</td>\n",
       "      <td>Tier 1</td>\n",
       "      <td>Supermarket Type1</td>\n",
       "      <td>2097.2700</td>\n",
       "      <td>train</td>\n",
       "    </tr>\n",
       "    <tr>\n",
       "      <th>3</th>\n",
       "      <td>FDX07</td>\n",
       "      <td>19.20</td>\n",
       "      <td>Regular</td>\n",
       "      <td>0.000000</td>\n",
       "      <td>Fruits and Vegetables</td>\n",
       "      <td>182.0950</td>\n",
       "      <td>OUT010</td>\n",
       "      <td>1998</td>\n",
       "      <td>NaN</td>\n",
       "      <td>Tier 3</td>\n",
       "      <td>Grocery Store</td>\n",
       "      <td>732.3800</td>\n",
       "      <td>train</td>\n",
       "    </tr>\n",
       "    <tr>\n",
       "      <th>4</th>\n",
       "      <td>NCD19</td>\n",
       "      <td>8.93</td>\n",
       "      <td>Low Fat</td>\n",
       "      <td>0.000000</td>\n",
       "      <td>Household</td>\n",
       "      <td>53.8614</td>\n",
       "      <td>OUT013</td>\n",
       "      <td>1987</td>\n",
       "      <td>High</td>\n",
       "      <td>Tier 3</td>\n",
       "      <td>Supermarket Type1</td>\n",
       "      <td>994.7052</td>\n",
       "      <td>train</td>\n",
       "    </tr>\n",
       "  </tbody>\n",
       "</table>\n",
       "</div>"
      ],
      "text/plain": [
       "  Item_Identifier  Item_Weight Item_Fat_Content  Item_Visibility  \\\n",
       "0           FDA15         9.30          Low Fat         0.016047   \n",
       "1           DRC01         5.92          Regular         0.019278   \n",
       "2           FDN15        17.50          Low Fat         0.016760   \n",
       "3           FDX07        19.20          Regular         0.000000   \n",
       "4           NCD19         8.93          Low Fat         0.000000   \n",
       "\n",
       "               Item_Type  Item_MRP Outlet_Identifier  \\\n",
       "0                  Dairy  249.8092            OUT049   \n",
       "1            Soft Drinks   48.2692            OUT018   \n",
       "2                   Meat  141.6180            OUT049   \n",
       "3  Fruits and Vegetables  182.0950            OUT010   \n",
       "4              Household   53.8614            OUT013   \n",
       "\n",
       "   Outlet_Establishment_Year Outlet_Size Outlet_Location_Type  \\\n",
       "0                       1999      Medium               Tier 1   \n",
       "1                       2009      Medium               Tier 3   \n",
       "2                       1999      Medium               Tier 1   \n",
       "3                       1998         NaN               Tier 3   \n",
       "4                       1987        High               Tier 3   \n",
       "\n",
       "         Outlet_Type  Item_Outlet_Sales source  \n",
       "0  Supermarket Type1          3735.1380  train  \n",
       "1  Supermarket Type2           443.4228  train  \n",
       "2  Supermarket Type1          2097.2700  train  \n",
       "3      Grocery Store           732.3800  train  \n",
       "4  Supermarket Type1           994.7052  train  "
      ]
     },
     "execution_count": 3,
     "metadata": {},
     "output_type": "execute_result"
    }
   ],
   "source": [
    "\n",
    "train['source'] = 'train'\n",
    "test['source'] = 'test'\n",
    "\n",
    "# combining the test and train datasets\n",
    "data = pd.concat([train, test], ignore_index=True)\n",
    "data.head()"
   ]
  },
  {
   "cell_type": "code",
   "execution_count": 4,
   "metadata": {},
   "outputs": [
    {
     "name": "stdout",
     "output_type": "stream",
     "text": [
      "<class 'pandas.core.frame.DataFrame'>\n",
      "RangeIndex: 14204 entries, 0 to 14203\n",
      "Data columns (total 13 columns):\n",
      " #   Column                     Non-Null Count  Dtype  \n",
      "---  ------                     --------------  -----  \n",
      " 0   Item_Identifier            14204 non-null  object \n",
      " 1   Item_Weight                11765 non-null  float64\n",
      " 2   Item_Fat_Content           14204 non-null  object \n",
      " 3   Item_Visibility            14204 non-null  float64\n",
      " 4   Item_Type                  14204 non-null  object \n",
      " 5   Item_MRP                   14204 non-null  float64\n",
      " 6   Outlet_Identifier          14204 non-null  object \n",
      " 7   Outlet_Establishment_Year  14204 non-null  int64  \n",
      " 8   Outlet_Size                10188 non-null  object \n",
      " 9   Outlet_Location_Type       14204 non-null  object \n",
      " 10  Outlet_Type                14204 non-null  object \n",
      " 11  Item_Outlet_Sales          8523 non-null   float64\n",
      " 12  source                     14204 non-null  object \n",
      "dtypes: float64(4), int64(1), object(8)\n",
      "memory usage: 1.4+ MB\n"
     ]
    }
   ],
   "source": [
    "data.info()"
   ]
  },
  {
   "cell_type": "raw",
   "metadata": {},
   "source": [
    "Inference:\n",
    "1. The dataset contains 11 columns out of which 10 are independent variables and Item_Outlet_Sales is the dependent variable.\n",
    "2. The columns Item_Weight and Outlet_Size contain missing values and needs to be imputed.\n",
    "3. The columns Item_Identifier,Item_Fat_Content,Item_Type,Outlet_Identifier,Outlet_Size,Outlet_Location_Type,Outlet_Type contain categorical data and needs to be converted into numerical data.\n"
   ]
  },
  {
   "cell_type": "code",
   "execution_count": 5,
   "metadata": {
    "scrolled": false
   },
   "outputs": [
    {
     "data": {
      "text/html": [
       "<div>\n",
       "<style scoped>\n",
       "    .dataframe tbody tr th:only-of-type {\n",
       "        vertical-align: middle;\n",
       "    }\n",
       "\n",
       "    .dataframe tbody tr th {\n",
       "        vertical-align: top;\n",
       "    }\n",
       "\n",
       "    .dataframe thead th {\n",
       "        text-align: right;\n",
       "    }\n",
       "</style>\n",
       "<table border=\"1\" class=\"dataframe\">\n",
       "  <thead>\n",
       "    <tr style=\"text-align: right;\">\n",
       "      <th></th>\n",
       "      <th>Item_Weight</th>\n",
       "      <th>Item_Visibility</th>\n",
       "      <th>Item_MRP</th>\n",
       "      <th>Outlet_Establishment_Year</th>\n",
       "      <th>Item_Outlet_Sales</th>\n",
       "    </tr>\n",
       "  </thead>\n",
       "  <tbody>\n",
       "    <tr>\n",
       "      <th>count</th>\n",
       "      <td>11765.000000</td>\n",
       "      <td>14204.000000</td>\n",
       "      <td>14204.000000</td>\n",
       "      <td>14204.000000</td>\n",
       "      <td>8523.000000</td>\n",
       "    </tr>\n",
       "    <tr>\n",
       "      <th>mean</th>\n",
       "      <td>12.792854</td>\n",
       "      <td>0.065953</td>\n",
       "      <td>141.004977</td>\n",
       "      <td>1997.830681</td>\n",
       "      <td>2181.288914</td>\n",
       "    </tr>\n",
       "    <tr>\n",
       "      <th>std</th>\n",
       "      <td>4.652502</td>\n",
       "      <td>0.051459</td>\n",
       "      <td>62.086938</td>\n",
       "      <td>8.371664</td>\n",
       "      <td>1706.499616</td>\n",
       "    </tr>\n",
       "    <tr>\n",
       "      <th>min</th>\n",
       "      <td>4.555000</td>\n",
       "      <td>0.000000</td>\n",
       "      <td>31.290000</td>\n",
       "      <td>1985.000000</td>\n",
       "      <td>33.290000</td>\n",
       "    </tr>\n",
       "    <tr>\n",
       "      <th>25%</th>\n",
       "      <td>8.710000</td>\n",
       "      <td>0.027036</td>\n",
       "      <td>94.012000</td>\n",
       "      <td>1987.000000</td>\n",
       "      <td>834.247400</td>\n",
       "    </tr>\n",
       "    <tr>\n",
       "      <th>50%</th>\n",
       "      <td>12.600000</td>\n",
       "      <td>0.054021</td>\n",
       "      <td>142.247000</td>\n",
       "      <td>1999.000000</td>\n",
       "      <td>1794.331000</td>\n",
       "    </tr>\n",
       "    <tr>\n",
       "      <th>75%</th>\n",
       "      <td>16.750000</td>\n",
       "      <td>0.094037</td>\n",
       "      <td>185.855600</td>\n",
       "      <td>2004.000000</td>\n",
       "      <td>3101.296400</td>\n",
       "    </tr>\n",
       "    <tr>\n",
       "      <th>max</th>\n",
       "      <td>21.350000</td>\n",
       "      <td>0.328391</td>\n",
       "      <td>266.888400</td>\n",
       "      <td>2009.000000</td>\n",
       "      <td>13086.964800</td>\n",
       "    </tr>\n",
       "  </tbody>\n",
       "</table>\n",
       "</div>"
      ],
      "text/plain": [
       "        Item_Weight  Item_Visibility      Item_MRP  Outlet_Establishment_Year  \\\n",
       "count  11765.000000     14204.000000  14204.000000               14204.000000   \n",
       "mean      12.792854         0.065953    141.004977                1997.830681   \n",
       "std        4.652502         0.051459     62.086938                   8.371664   \n",
       "min        4.555000         0.000000     31.290000                1985.000000   \n",
       "25%        8.710000         0.027036     94.012000                1987.000000   \n",
       "50%       12.600000         0.054021    142.247000                1999.000000   \n",
       "75%       16.750000         0.094037    185.855600                2004.000000   \n",
       "max       21.350000         0.328391    266.888400                2009.000000   \n",
       "\n",
       "       Item_Outlet_Sales  \n",
       "count        8523.000000  \n",
       "mean         2181.288914  \n",
       "std          1706.499616  \n",
       "min            33.290000  \n",
       "25%           834.247400  \n",
       "50%          1794.331000  \n",
       "75%          3101.296400  \n",
       "max         13086.964800  "
      ]
     },
     "execution_count": 5,
     "metadata": {},
     "output_type": "execute_result"
    }
   ],
   "source": [
    "data.describe()"
   ]
  },
  {
   "cell_type": "raw",
   "metadata": {},
   "source": [
    "Inference:\n",
    "1. The Outlet_Establishment_Year can be converted into age of the establishment for better insights.\n",
    "2. The visibility of sold items cannot be 0 and needs to be corrected.\n"
   ]
  },
  {
   "cell_type": "markdown",
   "metadata": {},
   "source": [
    "# Data Preprocessing"
   ]
  },
  {
   "cell_type": "code",
   "execution_count": 6,
   "metadata": {},
   "outputs": [
    {
     "data": {
      "text/plain": [
       "Item_Identifier                 0\n",
       "Item_Weight                  2439\n",
       "Item_Fat_Content                0\n",
       "Item_Visibility                 0\n",
       "Item_Type                       0\n",
       "Item_MRP                        0\n",
       "Outlet_Identifier               0\n",
       "Outlet_Establishment_Year       0\n",
       "Outlet_Size                  4016\n",
       "Outlet_Location_Type            0\n",
       "Outlet_Type                     0\n",
       "Item_Outlet_Sales            5681\n",
       "source                          0\n",
       "dtype: int64"
      ]
     },
     "execution_count": 6,
     "metadata": {},
     "output_type": "execute_result"
    }
   ],
   "source": [
    "# checking for the presence of null values\n",
    "data.isnull().sum()"
   ]
  },
  {
   "cell_type": "code",
   "execution_count": 7,
   "metadata": {},
   "outputs": [
    {
     "data": {
      "text/plain": [
       "Item_Identifier                 0\n",
       "Item_Weight                     0\n",
       "Item_Fat_Content                0\n",
       "Item_Visibility                 0\n",
       "Item_Type                       0\n",
       "Item_MRP                        0\n",
       "Outlet_Identifier               0\n",
       "Outlet_Establishment_Year       0\n",
       "Outlet_Size                     0\n",
       "Outlet_Location_Type            0\n",
       "Outlet_Type                     0\n",
       "Item_Outlet_Sales            5681\n",
       "source                          0\n",
       "dtype: int64"
      ]
     },
     "execution_count": 7,
     "metadata": {},
     "output_type": "execute_result"
    }
   ],
   "source": [
    "# replacing missing values\n",
    "data['Item_Weight'] = data.groupby('Item_Identifier')['Item_Weight'].transform(\n",
    "    lambda grp: grp.fillna(np.mean(grp)))\n",
    "data['Item_Weight'].fillna((data['Item_Weight'].mean()), inplace = True)\n",
    "\n",
    "data['Outlet_Size'] = data.groupby('Outlet_Type')['Outlet_Size'].transform(\n",
    "    lambda group: group.fillna(mode(group).mode[0]))\n",
    "# correcting visibilty of items having 0.0\n",
    "data['Item_Visibility'] = data.groupby('Item_Identifier')['Item_Visibility'].transform(\n",
    "    lambda grp: grp.replace(0,np.mean(grp)))\n",
    "data.isnull().sum()"
   ]
  },
  {
   "cell_type": "raw",
   "metadata": {},
   "source": [
    "The 5681 misssing values in Item_Outlet_Sales belongs to the test dataset and need not be imputed."
   ]
  },
  {
   "cell_type": "code",
   "execution_count": 8,
   "metadata": {},
   "outputs": [
    {
     "data": {
      "text/plain": [
       "FDY35    10\n",
       "FDE34    10\n",
       "NCK31    10\n",
       "FDM44    10\n",
       "FDT11    10\n",
       "         ..\n",
       "FDH58     7\n",
       "NCL42     7\n",
       "FDM52     7\n",
       "FDO33     7\n",
       "DRN11     7\n",
       "Name: Item_Identifier, Length: 1559, dtype: int64"
      ]
     },
     "execution_count": 8,
     "metadata": {},
     "output_type": "execute_result"
    }
   ],
   "source": [
    "data[\"Item_Identifier\"].value_counts()"
   ]
  },
  {
   "cell_type": "raw",
   "metadata": {},
   "source": [
    "The values in Item_Identifier column can be grouped into food, non consumable and drinks for better understanding and analysis."
   ]
  },
  {
   "cell_type": "code",
   "execution_count": 9,
   "metadata": {},
   "outputs": [
    {
     "data": {
      "text/plain": [
       "Food              10201\n",
       "Non_Consumable     2686\n",
       "Drinks             1317\n",
       "Name: Item_Identifier, dtype: int64"
      ]
     },
     "execution_count": 9,
     "metadata": {},
     "output_type": "execute_result"
    }
   ],
   "source": [
    "# changing item_identifier into a better understandable format\n",
    "data['Item_Identifier'] = (data['Item_Identifier'].apply(lambda x: x[0:2])).map({'FD':'Food',\n",
    "                                                             'NC':'Non_Consumable',\n",
    "                                                             'DR':'Drinks'})\n",
    "data[\"Item_Identifier\"].value_counts()"
   ]
  },
  {
   "cell_type": "raw",
   "metadata": {},
   "source": [
    "Food items are the most sold and drinks are the least sold items."
   ]
  },
  {
   "cell_type": "code",
   "execution_count": 10,
   "metadata": {},
   "outputs": [
    {
     "data": {
      "text/plain": [
       "Low Fat    8485\n",
       "Regular    4824\n",
       "LF          522\n",
       "reg         195\n",
       "low fat     178\n",
       "Name: Item_Fat_Content, dtype: int64"
      ]
     },
     "execution_count": 10,
     "metadata": {},
     "output_type": "execute_result"
    }
   ],
   "source": [
    "data[\"Item_Fat_Content\"].value_counts()"
   ]
  },
  {
   "cell_type": "raw",
   "metadata": {},
   "source": [
    "The values in the column Item_Fat_Content needs to be converted to the same format.\n",
    "Also, Item_Fat_Content values of non consumables can be converted into non edible."
   ]
  },
  {
   "cell_type": "code",
   "execution_count": 11,
   "metadata": {},
   "outputs": [
    {
     "data": {
      "text/plain": [
       "Low Fat       6499\n",
       "Regular       5019\n",
       "Non-Edible    2686\n",
       "Name: Item_Fat_Content, dtype: int64"
      ]
     },
     "execution_count": 11,
     "metadata": {},
     "output_type": "execute_result"
    }
   ],
   "source": [
    "# changing the Item_Fat_Content values to the same format\n",
    "data[\"Item_Fat_Content\"]=data[\"Item_Fat_Content\"].replace(['LF','low fat'],'Low Fat').replace('reg','Regular')\n",
    "data.loc[data['Item_Identifier']==\"Non_Consumable\", 'Item_Fat_Content'] = 'Non-Edible'\n",
    "data[\"Item_Fat_Content\"].value_counts()"
   ]
  },
  {
   "cell_type": "raw",
   "metadata": {},
   "source": [
    "Food items containing low fat content are more preferred than regular food items and non edible items."
   ]
  },
  {
   "cell_type": "code",
   "execution_count": 12,
   "metadata": {},
   "outputs": [
    {
     "data": {
      "text/plain": [
       "Fruits and Vegetables    2013\n",
       "Snack Foods              1989\n",
       "Household                1548\n",
       "Frozen Foods             1426\n",
       "Dairy                    1136\n",
       "Baking Goods             1086\n",
       "Canned                   1084\n",
       "Health and Hygiene        858\n",
       "Meat                      736\n",
       "Soft Drinks               726\n",
       "Breads                    416\n",
       "Hard Drinks               362\n",
       "Others                    280\n",
       "Starchy Foods             269\n",
       "Breakfast                 186\n",
       "Seafood                    89\n",
       "Name: Item_Type, dtype: int64"
      ]
     },
     "execution_count": 12,
     "metadata": {},
     "output_type": "execute_result"
    }
   ],
   "source": [
    "data[\"Item_Type\"].value_counts()"
   ]
  },
  {
   "cell_type": "raw",
   "metadata": {},
   "source": [
    "Fruits and Vegetables accounts for most number of sales followed by Snack Foods.\n",
    "Seafoods accounts for the least number of sales."
   ]
  },
  {
   "cell_type": "code",
   "execution_count": 13,
   "metadata": {},
   "outputs": [
    {
     "data": {
      "text/plain": [
       "OUT027    1559\n",
       "OUT013    1553\n",
       "OUT035    1550\n",
       "OUT046    1550\n",
       "OUT049    1550\n",
       "OUT045    1548\n",
       "OUT018    1546\n",
       "OUT017    1543\n",
       "OUT010     925\n",
       "OUT019     880\n",
       "Name: Outlet_Identifier, dtype: int64"
      ]
     },
     "execution_count": 13,
     "metadata": {},
     "output_type": "execute_result"
    }
   ],
   "source": [
    "data[\"Outlet_Identifier\"].value_counts()"
   ]
  },
  {
   "cell_type": "raw",
   "metadata": {},
   "source": [
    "The outlets OUT010 and OUT019 have contribued the least."
   ]
  },
  {
   "cell_type": "code",
   "execution_count": 14,
   "metadata": {},
   "outputs": [
    {
     "data": {
      "text/plain": [
       "Small     7996\n",
       "Medium    4655\n",
       "High      1553\n",
       "Name: Outlet_Size, dtype: int64"
      ]
     },
     "execution_count": 14,
     "metadata": {},
     "output_type": "execute_result"
    }
   ],
   "source": [
    "data[\"Outlet_Size\"].value_counts()"
   ]
  },
  {
   "cell_type": "raw",
   "metadata": {},
   "source": [
    "Small Outlets are seen to perform a way better than the medium sized and high sized Outlets in terms of the number of sales."
   ]
  },
  {
   "cell_type": "code",
   "execution_count": 15,
   "metadata": {},
   "outputs": [
    {
     "data": {
      "text/plain": [
       "Tier 3    5583\n",
       "Tier 2    4641\n",
       "Tier 1    3980\n",
       "Name: Outlet_Location_Type, dtype: int64"
      ]
     },
     "execution_count": 15,
     "metadata": {},
     "output_type": "execute_result"
    }
   ],
   "source": [
    "data[\"Outlet_Location_Type\"].value_counts()"
   ]
  },
  {
   "cell_type": "raw",
   "metadata": {},
   "source": [
    "The outlets in Tier 3 are seen to have a good market as it accounts for the most number of purchases."
   ]
  },
  {
   "cell_type": "code",
   "execution_count": 16,
   "metadata": {},
   "outputs": [
    {
     "data": {
      "text/plain": [
       "Supermarket Type1    9294\n",
       "Grocery Store        1805\n",
       "Supermarket Type3    1559\n",
       "Supermarket Type2    1546\n",
       "Name: Outlet_Type, dtype: int64"
      ]
     },
     "execution_count": 16,
     "metadata": {},
     "output_type": "execute_result"
    }
   ],
   "source": [
    "data[\"Outlet_Type\"].value_counts()"
   ]
  },
  {
   "cell_type": "raw",
   "metadata": {},
   "source": [
    "The outlets belonging to Supermarket Type1 has shown strikingly good number of sales."
   ]
  },
  {
   "cell_type": "code",
   "execution_count": 17,
   "metadata": {},
   "outputs": [
    {
     "data": {
      "text/plain": [
       "23     925\n",
       "14    1543\n",
       "12    1546\n",
       "19    1548\n",
       "22    1550\n",
       "17    1550\n",
       "24    1550\n",
       "34    1553\n",
       "36    2439\n",
       "Name: Outlet_Age, dtype: int64"
      ]
     },
     "execution_count": 17,
     "metadata": {},
     "output_type": "execute_result"
    }
   ],
   "source": [
    "# converting Outlet_Establishment_Year to Outlet_Age for better insights\n",
    "now = datetime.datetime.now()\n",
    "this_yr=now.year\n",
    "\n",
    "data['Outlet_Age'] = this_yr - data['Outlet_Establishment_Year']\n",
    "data = data.drop(['Outlet_Establishment_Year'], axis=1)\n",
    "data['Outlet_Age'].value_counts().sort_values()\n"
   ]
  },
  {
   "cell_type": "markdown",
   "metadata": {},
   "source": [
    "# Exploratory Data Analysis"
   ]
  },
  {
   "cell_type": "code",
   "execution_count": 18,
   "metadata": {},
   "outputs": [],
   "source": [
    "plt.rcParams[\"figure.figsize\"] = (12,7)"
   ]
  },
  {
   "cell_type": "code",
   "execution_count": 19,
   "metadata": {},
   "outputs": [
    {
     "data": {
      "image/png": "[encoded data removed]",
      "text/plain": [
       "<Figure size 864x504 with 1 Axes>"
      ]
     },
     "metadata": {
      "needs_background": "light"
     },
     "output_type": "display_data"
    }
   ],
   "source": [
    "# plotting Outlet_Location_Type based on Outlet_Type vs Item_Outlet_Sales\n",
    "data.pivot_table(index = 'Outlet_Location_Type',values = 'Item_Outlet_Sales',columns='Outlet_Type',aggfunc = np.sum).plot(kind='bar',stacked=True)\n",
    "plt.xlabel(\"Outlet Location Type\")\n",
    "plt.ylabel(\"Sales\")\n",
    "plt.title(\"Fig:1.1 Outlet Location Type based on Outlet Type vs Item Outlet Sales\")\n",
    "plt.show()"
   ]
  },
  {
   "cell_type": "raw",
   "metadata": {},
   "source": [
    "Inference:\n",
    "1. Grocery stores clearly work on small scale and is not a competition to any other type of outlets.\n",
    "2. Outlets belonging to Supermarket type 1 undoubtedly has good market in all 3 location types.\n",
    "3. Supermarket type1 is the sole player in Tier 2 and the major player in Tier 1.\n",
    "4. Tier 3 has scope for all types of outlets and has shown better sales than Tiers 1 and 2.\n",
    "5. Supermarket type1 and type2 has a tight competition in Tier 3 but Supermarket type2 is the leader in Tier 3.\n"
   ]
  },
  {
   "cell_type": "code",
   "execution_count": 20,
   "metadata": {},
   "outputs": [
    {
     "data": {
      "image/png": "[encoded data removed]",
      "text/plain": [
       "<Figure size 864x504 with 1 Axes>"
      ]
     },
     "metadata": {
      "needs_background": "light"
     },
     "output_type": "display_data"
    }
   ],
   "source": [
    "# plotting Outlet_Location_Type based on Outlet_Type vs Outlet_Age\n",
    "data.pivot_table(index = 'Outlet_Location_Type',values = 'Outlet_Age',columns='Outlet_Type').plot(kind='bar')\n",
    "plt.xlabel(\"Outlet Location Type\")\n",
    "plt.ylabel(\"Outlet Age\")\n",
    "plt.title(\"Fig:1.2 Outlet Location Type based on Outlet Type vs Outlet Age\")\n",
    "plt.show()"
   ]
  },
  {
   "cell_type": "raw",
   "metadata": {},
   "source": [
    "Inference:\n",
    "1. Although Grocery stores have been running for a long time, it had shown very low sales in Tier 1.\n",
    "2. Outlets belonging to Supermarket type1 in Tier 2 had produced very good sales in a short span of running.\n",
    "3. Supermarket type2 in Tier 3 is seen to be most recent Outlet and it has a good chance of overtaking the sales of outlets belonging to Supermarket type1 in Tier 3."
   ]
  },
  {
   "cell_type": "code",
   "execution_count": 21,
   "metadata": {},
   "outputs": [
    {
     "data": {
      "image/png": "[encoded data removed]",
      "text/plain": [
       "<Figure size 864x504 with 1 Axes>"
      ]
     },
     "metadata": {
      "needs_background": "light"
     },
     "output_type": "display_data"
    }
   ],
   "source": [
    "# plotting Outlet_Type based on Outlet_Identifier vs Item_Outlet_Sales\n",
    "data.pivot_table(index = 'Outlet_Type',values = 'Item_Outlet_Sales',columns='Outlet_Identifier',aggfunc = np.sum).plot(kind='bar')\n",
    "plt.xlabel(\"Outlet Type\")\n",
    "plt.ylabel(\"Sales\")\n",
    "plt.title(\"Fig:1.3 Outlet Type based on Outlet Identifier vs Item Outlet Sales\")\n",
    "plt.show()"
   ]
  },
  {
   "cell_type": "raw",
   "metadata": {},
   "source": [
    "Inference:\n",
    "1. Outlets OUT010 and OUT019 has produced the least sales.\n",
    "2. All Outlets belonging to Supermarket type 1 has more or less equal opportunities.\n",
    "3. Market of OUT018 is fast growing and has the scope of becoming the major player in it's location type.\n",
    "4. OUT027 is the most profitable outlet and has accounted for almost double the sales of any other type Outlets. "
   ]
  },
  {
   "cell_type": "code",
   "execution_count": 22,
   "metadata": {},
   "outputs": [
    {
     "data": {
      "image/png": "[encoded data removed]",
      "text/plain": [
       "<Figure size 864x504 with 1 Axes>"
      ]
     },
     "metadata": {
      "needs_background": "light"
     },
     "output_type": "display_data"
    }
   ],
   "source": [
    "# plotting Item_Identifier based on Item_Type vs Item_Outlet_Sales\n",
    "data.pivot_table(index = 'Item_Identifier',values = 'Item_Outlet_Sales',columns='Item_Type',aggfunc = np.sum).plot(kind='bar')\n",
    "plt.xlabel(\"Item Identifier\")\n",
    "plt.ylabel(\"Sales\")\n",
    "plt.title(\"Fig:1.4 Item Identifier based on Item Type vs Item Outlet Sales\")\n",
    "plt.show()"
   ]
  },
  {
   "cell_type": "raw",
   "metadata": {},
   "source": [
    "Inference:\n",
    "1. Soft drinks is the most preferred drink and has nearly double the sales of hard drinks.\n",
    "2. Fruits and vegetables have shown very good sales followed by snack foods and food items are sold more than the drinks and non-consumables\n",
    "3. Household items are the most sold in non consumables."
   ]
  },
  {
   "cell_type": "code",
   "execution_count": 23,
   "metadata": {},
   "outputs": [
    {
     "data": {
      "image/png": "[encoded data removed]",
      "text/plain": [
       "<Figure size 864x504 with 1 Axes>"
      ]
     },
     "metadata": {
      "needs_background": "light"
     },
     "output_type": "display_data"
    }
   ],
   "source": [
    "#plotting Item_Type vs Item_Fat_Content\n",
    "graph= pd.crosstab(data['Item_Type'], data['Item_Fat_Content'])\n",
    "graph.div(graph.sum(1).astype(float), axis=0).plot(kind=\"bar\", stacked=True)\n",
    "plt.xlabel(\"Item Type\")\n",
    "plt.ylabel(\"Fat Content of Items\")\n",
    "plt.title(\"Fig:1.5 Item Type vs Item Fat Content\")\n",
    "plt.show()"
   ]
  },
  {
   "cell_type": "raw",
   "metadata": {},
   "source": [
    "Inference:\n",
    "1. Breakfast and meat containing regular fat content are sold more than the low fat breakfast and meat.\n",
    "2. Drinks are preferred mostly with low fat content."
   ]
  },
  {
   "cell_type": "markdown",
   "metadata": {},
   "source": [
    "# Categorical Data Encoding and Feature Scaling"
   ]
  },
  {
   "cell_type": "code",
   "execution_count": 24,
   "metadata": {},
   "outputs": [
    {
     "data": {
      "text/html": [
       "<div>\n",
       "<style scoped>\n",
       "    .dataframe tbody tr th:only-of-type {\n",
       "        vertical-align: middle;\n",
       "    }\n",
       "\n",
       "    .dataframe tbody tr th {\n",
       "        vertical-align: top;\n",
       "    }\n",
       "\n",
       "    .dataframe thead th {\n",
       "        text-align: right;\n",
       "    }\n",
       "</style>\n",
       "<table border=\"1\" class=\"dataframe\">\n",
       "  <thead>\n",
       "    <tr style=\"text-align: right;\">\n",
       "      <th></th>\n",
       "      <th>Item_Weight</th>\n",
       "      <th>Item_Visibility</th>\n",
       "      <th>Item_MRP</th>\n",
       "      <th>Item_Outlet_Sales</th>\n",
       "      <th>source</th>\n",
       "      <th>Outlet_Age</th>\n",
       "      <th>Item_Identifier_Food</th>\n",
       "      <th>Item_Identifier_Non_Consumable</th>\n",
       "      <th>Item_Fat_Content_Non-Edible</th>\n",
       "      <th>Item_Fat_Content_Regular</th>\n",
       "      <th>...</th>\n",
       "      <th>Outlet_Identifier_OUT045</th>\n",
       "      <th>Outlet_Identifier_OUT046</th>\n",
       "      <th>Outlet_Identifier_OUT049</th>\n",
       "      <th>Outlet_Size_Medium</th>\n",
       "      <th>Outlet_Size_Small</th>\n",
       "      <th>Outlet_Location_Type_Tier 2</th>\n",
       "      <th>Outlet_Location_Type_Tier 3</th>\n",
       "      <th>Outlet_Type_Supermarket Type1</th>\n",
       "      <th>Outlet_Type_Supermarket Type2</th>\n",
       "      <th>Outlet_Type_Supermarket Type3</th>\n",
       "    </tr>\n",
       "  </thead>\n",
       "  <tbody>\n",
       "    <tr>\n",
       "      <th>0</th>\n",
       "      <td>9.30</td>\n",
       "      <td>0.016047</td>\n",
       "      <td>249.8092</td>\n",
       "      <td>3735.1380</td>\n",
       "      <td>train</td>\n",
       "      <td>22</td>\n",
       "      <td>1</td>\n",
       "      <td>0</td>\n",
       "      <td>0</td>\n",
       "      <td>0</td>\n",
       "      <td>...</td>\n",
       "      <td>0</td>\n",
       "      <td>0</td>\n",
       "      <td>1</td>\n",
       "      <td>1</td>\n",
       "      <td>0</td>\n",
       "      <td>0</td>\n",
       "      <td>0</td>\n",
       "      <td>1</td>\n",
       "      <td>0</td>\n",
       "      <td>0</td>\n",
       "    </tr>\n",
       "    <tr>\n",
       "      <th>1</th>\n",
       "      <td>5.92</td>\n",
       "      <td>0.019278</td>\n",
       "      <td>48.2692</td>\n",
       "      <td>443.4228</td>\n",
       "      <td>train</td>\n",
       "      <td>12</td>\n",
       "      <td>0</td>\n",
       "      <td>0</td>\n",
       "      <td>0</td>\n",
       "      <td>1</td>\n",
       "      <td>...</td>\n",
       "      <td>0</td>\n",
       "      <td>0</td>\n",
       "      <td>0</td>\n",
       "      <td>1</td>\n",
       "      <td>0</td>\n",
       "      <td>0</td>\n",
       "      <td>1</td>\n",
       "      <td>0</td>\n",
       "      <td>1</td>\n",
       "      <td>0</td>\n",
       "    </tr>\n",
       "    <tr>\n",
       "      <th>2</th>\n",
       "      <td>17.50</td>\n",
       "      <td>0.016760</td>\n",
       "      <td>141.6180</td>\n",
       "      <td>2097.2700</td>\n",
       "      <td>train</td>\n",
       "      <td>22</td>\n",
       "      <td>1</td>\n",
       "      <td>0</td>\n",
       "      <td>0</td>\n",
       "      <td>0</td>\n",
       "      <td>...</td>\n",
       "      <td>0</td>\n",
       "      <td>0</td>\n",
       "      <td>1</td>\n",
       "      <td>1</td>\n",
       "      <td>0</td>\n",
       "      <td>0</td>\n",
       "      <td>0</td>\n",
       "      <td>1</td>\n",
       "      <td>0</td>\n",
       "      <td>0</td>\n",
       "    </tr>\n",
       "    <tr>\n",
       "      <th>3</th>\n",
       "      <td>19.20</td>\n",
       "      <td>0.017834</td>\n",
       "      <td>182.0950</td>\n",
       "      <td>732.3800</td>\n",
       "      <td>train</td>\n",
       "      <td>23</td>\n",
       "      <td>1</td>\n",
       "      <td>0</td>\n",
       "      <td>0</td>\n",
       "      <td>1</td>\n",
       "      <td>...</td>\n",
       "      <td>0</td>\n",
       "      <td>0</td>\n",
       "      <td>0</td>\n",
       "      <td>0</td>\n",
       "      <td>1</td>\n",
       "      <td>0</td>\n",
       "      <td>1</td>\n",
       "      <td>0</td>\n",
       "      <td>0</td>\n",
       "      <td>0</td>\n",
       "    </tr>\n",
       "    <tr>\n",
       "      <th>4</th>\n",
       "      <td>8.93</td>\n",
       "      <td>0.009780</td>\n",
       "      <td>53.8614</td>\n",
       "      <td>994.7052</td>\n",
       "      <td>train</td>\n",
       "      <td>34</td>\n",
       "      <td>0</td>\n",
       "      <td>1</td>\n",
       "      <td>1</td>\n",
       "      <td>0</td>\n",
       "      <td>...</td>\n",
       "      <td>0</td>\n",
       "      <td>0</td>\n",
       "      <td>0</td>\n",
       "      <td>0</td>\n",
       "      <td>0</td>\n",
       "      <td>0</td>\n",
       "      <td>1</td>\n",
       "      <td>1</td>\n",
       "      <td>0</td>\n",
       "      <td>0</td>\n",
       "    </tr>\n",
       "  </tbody>\n",
       "</table>\n",
       "<p>5 rows × 41 columns</p>\n",
       "</div>"
      ],
      "text/plain": [
       "   Item_Weight  Item_Visibility  Item_MRP  Item_Outlet_Sales source  \\\n",
       "0         9.30         0.016047  249.8092          3735.1380  train   \n",
       "1         5.92         0.019278   48.2692           443.4228  train   \n",
       "2        17.50         0.016760  141.6180          2097.2700  train   \n",
       "3        19.20         0.017834  182.0950           732.3800  train   \n",
       "4         8.93         0.009780   53.8614           994.7052  train   \n",
       "\n",
       "   Outlet_Age  Item_Identifier_Food  Item_Identifier_Non_Consumable  \\\n",
       "0          22                     1                               0   \n",
       "1          12                     0                               0   \n",
       "2          22                     1                               0   \n",
       "3          23                     1                               0   \n",
       "4          34                     0                               1   \n",
       "\n",
       "   Item_Fat_Content_Non-Edible  Item_Fat_Content_Regular  ...  \\\n",
       "0                            0                         0  ...   \n",
       "1                            0                         1  ...   \n",
       "2                            0                         0  ...   \n",
       "3                            0                         1  ...   \n",
       "4                            1                         0  ...   \n",
       "\n",
       "   Outlet_Identifier_OUT045  Outlet_Identifier_OUT046  \\\n",
       "0                         0                         0   \n",
       "1                         0                         0   \n",
       "2                         0                         0   \n",
       "3                         0                         0   \n",
       "4                         0                         0   \n",
       "\n",
       "   Outlet_Identifier_OUT049  Outlet_Size_Medium  Outlet_Size_Small  \\\n",
       "0                         1                   1                  0   \n",
       "1                         0                   1                  0   \n",
       "2                         1                   1                  0   \n",
       "3                         0                   0                  1   \n",
       "4                         0                   0                  0   \n",
       "\n",
       "   Outlet_Location_Type_Tier 2  Outlet_Location_Type_Tier 3  \\\n",
       "0                            0                            0   \n",
       "1                            0                            1   \n",
       "2                            0                            0   \n",
       "3                            0                            1   \n",
       "4                            0                            1   \n",
       "\n",
       "   Outlet_Type_Supermarket Type1  Outlet_Type_Supermarket Type2  \\\n",
       "0                              1                              0   \n",
       "1                              0                              1   \n",
       "2                              1                              0   \n",
       "3                              0                              0   \n",
       "4                              1                              0   \n",
       "\n",
       "   Outlet_Type_Supermarket Type3  \n",
       "0                              0  \n",
       "1                              0  \n",
       "2                              0  \n",
       "3                              0  \n",
       "4                              0  \n",
       "\n",
       "[5 rows x 41 columns]"
      ]
     },
     "execution_count": 24,
     "metadata": {},
     "output_type": "execute_result"
    }
   ],
   "source": [
    "# encoding categorical data\n",
    "data = pd.get_dummies(data, columns=['Item_Identifier','Item_Fat_Content', 'Item_Type',  'Outlet_Identifier', \n",
    "       'Outlet_Size', 'Outlet_Location_Type', 'Outlet_Type'],drop_first=True)\n",
    "data.head()"
   ]
  },
  {
   "cell_type": "code",
   "execution_count": 25,
   "metadata": {},
   "outputs": [],
   "source": [
    "warnings.filterwarnings('ignore')\n",
    "\n",
    "# Divide into test and train datasets\n",
    "train = data.loc[data['source']==\"train\"]\n",
    "test = data.loc[data['source']==\"test\"]\n",
    "\n",
    "# Drop unnecessary columns\n",
    "train.drop(['source'],axis=1,inplace=True)\n",
    "test.drop(['Item_Outlet_Sales','source'],axis=1,inplace=True)\n",
    "trainX = train.drop(['Item_Outlet_Sales'], axis=1)\n",
    "trainY = train.Item_Outlet_Sales"
   ]
  },
  {
   "cell_type": "code",
   "execution_count": 26,
   "metadata": {},
   "outputs": [
    {
     "data": {
      "text/html": [
       "<div>\n",
       "<style scoped>\n",
       "    .dataframe tbody tr th:only-of-type {\n",
       "        vertical-align: middle;\n",
       "    }\n",
       "\n",
       "    .dataframe tbody tr th {\n",
       "        vertical-align: top;\n",
       "    }\n",
       "\n",
       "    .dataframe thead th {\n",
       "        text-align: right;\n",
       "    }\n",
       "</style>\n",
       "<table border=\"1\" class=\"dataframe\">\n",
       "  <thead>\n",
       "    <tr style=\"text-align: right;\">\n",
       "      <th></th>\n",
       "      <th>Independent Variables</th>\n",
       "    </tr>\n",
       "  </thead>\n",
       "  <tbody>\n",
       "    <tr>\n",
       "      <th>0</th>\n",
       "      <td>Item_Weight</td>\n",
       "    </tr>\n",
       "    <tr>\n",
       "      <th>1</th>\n",
       "      <td>Item_Visibility</td>\n",
       "    </tr>\n",
       "    <tr>\n",
       "      <th>2</th>\n",
       "      <td>Item_MRP</td>\n",
       "    </tr>\n",
       "    <tr>\n",
       "      <th>3</th>\n",
       "      <td>Outlet_Age</td>\n",
       "    </tr>\n",
       "    <tr>\n",
       "      <th>4</th>\n",
       "      <td>Item_Identifier_Food</td>\n",
       "    </tr>\n",
       "    <tr>\n",
       "      <th>5</th>\n",
       "      <td>Item_Identifier_Non_Consumable</td>\n",
       "    </tr>\n",
       "    <tr>\n",
       "      <th>6</th>\n",
       "      <td>Item_Fat_Content_Non-Edible</td>\n",
       "    </tr>\n",
       "    <tr>\n",
       "      <th>7</th>\n",
       "      <td>Item_Fat_Content_Regular</td>\n",
       "    </tr>\n",
       "    <tr>\n",
       "      <th>8</th>\n",
       "      <td>Item_Type_Breads</td>\n",
       "    </tr>\n",
       "    <tr>\n",
       "      <th>9</th>\n",
       "      <td>Item_Type_Breakfast</td>\n",
       "    </tr>\n",
       "    <tr>\n",
       "      <th>10</th>\n",
       "      <td>Item_Type_Canned</td>\n",
       "    </tr>\n",
       "    <tr>\n",
       "      <th>11</th>\n",
       "      <td>Item_Type_Dairy</td>\n",
       "    </tr>\n",
       "    <tr>\n",
       "      <th>12</th>\n",
       "      <td>Item_Type_Frozen Foods</td>\n",
       "    </tr>\n",
       "    <tr>\n",
       "      <th>13</th>\n",
       "      <td>Item_Type_Fruits and Vegetables</td>\n",
       "    </tr>\n",
       "    <tr>\n",
       "      <th>14</th>\n",
       "      <td>Item_Type_Hard Drinks</td>\n",
       "    </tr>\n",
       "    <tr>\n",
       "      <th>15</th>\n",
       "      <td>Item_Type_Health and Hygiene</td>\n",
       "    </tr>\n",
       "    <tr>\n",
       "      <th>16</th>\n",
       "      <td>Item_Type_Household</td>\n",
       "    </tr>\n",
       "    <tr>\n",
       "      <th>17</th>\n",
       "      <td>Item_Type_Meat</td>\n",
       "    </tr>\n",
       "    <tr>\n",
       "      <th>18</th>\n",
       "      <td>Item_Type_Others</td>\n",
       "    </tr>\n",
       "    <tr>\n",
       "      <th>19</th>\n",
       "      <td>Item_Type_Seafood</td>\n",
       "    </tr>\n",
       "    <tr>\n",
       "      <th>20</th>\n",
       "      <td>Item_Type_Snack Foods</td>\n",
       "    </tr>\n",
       "    <tr>\n",
       "      <th>21</th>\n",
       "      <td>Item_Type_Soft Drinks</td>\n",
       "    </tr>\n",
       "    <tr>\n",
       "      <th>22</th>\n",
       "      <td>Item_Type_Starchy Foods</td>\n",
       "    </tr>\n",
       "    <tr>\n",
       "      <th>23</th>\n",
       "      <td>Outlet_Identifier_OUT013</td>\n",
       "    </tr>\n",
       "    <tr>\n",
       "      <th>24</th>\n",
       "      <td>Outlet_Identifier_OUT017</td>\n",
       "    </tr>\n",
       "    <tr>\n",
       "      <th>25</th>\n",
       "      <td>Outlet_Identifier_OUT018</td>\n",
       "    </tr>\n",
       "    <tr>\n",
       "      <th>26</th>\n",
       "      <td>Outlet_Identifier_OUT019</td>\n",
       "    </tr>\n",
       "    <tr>\n",
       "      <th>27</th>\n",
       "      <td>Outlet_Identifier_OUT027</td>\n",
       "    </tr>\n",
       "    <tr>\n",
       "      <th>28</th>\n",
       "      <td>Outlet_Identifier_OUT035</td>\n",
       "    </tr>\n",
       "    <tr>\n",
       "      <th>29</th>\n",
       "      <td>Outlet_Identifier_OUT045</td>\n",
       "    </tr>\n",
       "    <tr>\n",
       "      <th>30</th>\n",
       "      <td>Outlet_Identifier_OUT046</td>\n",
       "    </tr>\n",
       "    <tr>\n",
       "      <th>31</th>\n",
       "      <td>Outlet_Identifier_OUT049</td>\n",
       "    </tr>\n",
       "    <tr>\n",
       "      <th>32</th>\n",
       "      <td>Outlet_Size_Medium</td>\n",
       "    </tr>\n",
       "    <tr>\n",
       "      <th>33</th>\n",
       "      <td>Outlet_Size_Small</td>\n",
       "    </tr>\n",
       "    <tr>\n",
       "      <th>34</th>\n",
       "      <td>Outlet_Location_Type_Tier 2</td>\n",
       "    </tr>\n",
       "    <tr>\n",
       "      <th>35</th>\n",
       "      <td>Outlet_Location_Type_Tier 3</td>\n",
       "    </tr>\n",
       "    <tr>\n",
       "      <th>36</th>\n",
       "      <td>Outlet_Type_Supermarket Type1</td>\n",
       "    </tr>\n",
       "    <tr>\n",
       "      <th>37</th>\n",
       "      <td>Outlet_Type_Supermarket Type2</td>\n",
       "    </tr>\n",
       "    <tr>\n",
       "      <th>38</th>\n",
       "      <td>Outlet_Type_Supermarket Type3</td>\n",
       "    </tr>\n",
       "  </tbody>\n",
       "</table>\n",
       "</div>"
      ],
      "text/plain": [
       "              Independent Variables\n",
       "0                       Item_Weight\n",
       "1                   Item_Visibility\n",
       "2                          Item_MRP\n",
       "3                        Outlet_Age\n",
       "4              Item_Identifier_Food\n",
       "5    Item_Identifier_Non_Consumable\n",
       "6       Item_Fat_Content_Non-Edible\n",
       "7          Item_Fat_Content_Regular\n",
       "8                  Item_Type_Breads\n",
       "9               Item_Type_Breakfast\n",
       "10                 Item_Type_Canned\n",
       "11                  Item_Type_Dairy\n",
       "12           Item_Type_Frozen Foods\n",
       "13  Item_Type_Fruits and Vegetables\n",
       "14            Item_Type_Hard Drinks\n",
       "15     Item_Type_Health and Hygiene\n",
       "16              Item_Type_Household\n",
       "17                   Item_Type_Meat\n",
       "18                 Item_Type_Others\n",
       "19                Item_Type_Seafood\n",
       "20            Item_Type_Snack Foods\n",
       "21            Item_Type_Soft Drinks\n",
       "22          Item_Type_Starchy Foods\n",
       "23         Outlet_Identifier_OUT013\n",
       "24         Outlet_Identifier_OUT017\n",
       "25         Outlet_Identifier_OUT018\n",
       "26         Outlet_Identifier_OUT019\n",
       "27         Outlet_Identifier_OUT027\n",
       "28         Outlet_Identifier_OUT035\n",
       "29         Outlet_Identifier_OUT045\n",
       "30         Outlet_Identifier_OUT046\n",
       "31         Outlet_Identifier_OUT049\n",
       "32               Outlet_Size_Medium\n",
       "33                Outlet_Size_Small\n",
       "34      Outlet_Location_Type_Tier 2\n",
       "35      Outlet_Location_Type_Tier 3\n",
       "36    Outlet_Type_Supermarket Type1\n",
       "37    Outlet_Type_Supermarket Type2\n",
       "38    Outlet_Type_Supermarket Type3"
      ]
     },
     "execution_count": 26,
     "metadata": {},
     "output_type": "execute_result"
    }
   ],
   "source": [
    "# creating a dataframe consisting of column names\n",
    "xcol_names=list(trainX.columns)\n",
    "xcol_names=pd.DataFrame(xcol_names,columns=['Independent Variables'])\n",
    "xcol_names"
   ]
  },
  {
   "cell_type": "code",
   "execution_count": 27,
   "metadata": {},
   "outputs": [],
   "source": [
    "# normalizing the variables\n",
    "trainY = trainY.values.reshape(len(trainY),1)\n",
    "\n",
    "sc_X = StandardScaler()\n",
    "sc_y = StandardScaler()\n",
    "X = sc_X.fit_transform(trainX)\n",
    "y = sc_y.fit_transform(trainY)\n",
    "testX = sc_X.fit_transform(test)"
   ]
  },
  {
   "cell_type": "code",
   "execution_count": 28,
   "metadata": {},
   "outputs": [
    {
     "data": {
      "text/html": [
       "<div>\n",
       "<style scoped>\n",
       "    .dataframe tbody tr th:only-of-type {\n",
       "        vertical-align: middle;\n",
       "    }\n",
       "\n",
       "    .dataframe tbody tr th {\n",
       "        vertical-align: top;\n",
       "    }\n",
       "\n",
       "    .dataframe thead th {\n",
       "        text-align: right;\n",
       "    }\n",
       "</style>\n",
       "<table border=\"1\" class=\"dataframe\">\n",
       "  <thead>\n",
       "    <tr style=\"text-align: right;\">\n",
       "      <th></th>\n",
       "      <th>0</th>\n",
       "      <th>1</th>\n",
       "      <th>2</th>\n",
       "      <th>3</th>\n",
       "      <th>4</th>\n",
       "      <th>5</th>\n",
       "      <th>6</th>\n",
       "      <th>7</th>\n",
       "      <th>8</th>\n",
       "      <th>9</th>\n",
       "      <th>...</th>\n",
       "      <th>29</th>\n",
       "      <th>30</th>\n",
       "      <th>31</th>\n",
       "      <th>32</th>\n",
       "      <th>33</th>\n",
       "      <th>34</th>\n",
       "      <th>35</th>\n",
       "      <th>36</th>\n",
       "      <th>37</th>\n",
       "      <th>38</th>\n",
       "    </tr>\n",
       "  </thead>\n",
       "  <tbody>\n",
       "    <tr>\n",
       "      <th>0</th>\n",
       "      <td>-0.769246</td>\n",
       "      <td>-1.081039</td>\n",
       "      <td>1.747454</td>\n",
       "      <td>-0.139541</td>\n",
       "      <td>0.625708</td>\n",
       "      <td>-0.480558</td>\n",
       "      <td>-0.480558</td>\n",
       "      <td>-0.738147</td>\n",
       "      <td>-0.174193</td>\n",
       "      <td>-0.114346</td>\n",
       "      <td>...</td>\n",
       "      <td>-0.349762</td>\n",
       "      <td>-0.349973</td>\n",
       "      <td>2.857362</td>\n",
       "      <td>1.432326</td>\n",
       "      <td>-1.134925</td>\n",
       "      <td>-0.696678</td>\n",
       "      <td>-0.804732</td>\n",
       "      <td>0.726802</td>\n",
       "      <td>-0.349551</td>\n",
       "      <td>-0.351028</td>\n",
       "    </tr>\n",
       "    <tr>\n",
       "      <th>1</th>\n",
       "      <td>-1.496813</td>\n",
       "      <td>-1.016230</td>\n",
       "      <td>-1.489023</td>\n",
       "      <td>-1.334103</td>\n",
       "      <td>-1.598190</td>\n",
       "      <td>-0.480558</td>\n",
       "      <td>-0.480558</td>\n",
       "      <td>1.354743</td>\n",
       "      <td>-0.174193</td>\n",
       "      <td>-0.114346</td>\n",
       "      <td>...</td>\n",
       "      <td>-0.349762</td>\n",
       "      <td>-0.349973</td>\n",
       "      <td>-0.349973</td>\n",
       "      <td>1.432326</td>\n",
       "      <td>-1.134925</td>\n",
       "      <td>-0.696678</td>\n",
       "      <td>1.242650</td>\n",
       "      <td>-1.375891</td>\n",
       "      <td>2.860816</td>\n",
       "      <td>-0.351028</td>\n",
       "    </tr>\n",
       "    <tr>\n",
       "      <th>2</th>\n",
       "      <td>0.995858</td>\n",
       "      <td>-1.066741</td>\n",
       "      <td>0.010040</td>\n",
       "      <td>-0.139541</td>\n",
       "      <td>0.625708</td>\n",
       "      <td>-0.480558</td>\n",
       "      <td>-0.480558</td>\n",
       "      <td>-0.738147</td>\n",
       "      <td>-0.174193</td>\n",
       "      <td>-0.114346</td>\n",
       "      <td>...</td>\n",
       "      <td>-0.349762</td>\n",
       "      <td>-0.349973</td>\n",
       "      <td>2.857362</td>\n",
       "      <td>1.432326</td>\n",
       "      <td>-1.134925</td>\n",
       "      <td>-0.696678</td>\n",
       "      <td>-0.804732</td>\n",
       "      <td>0.726802</td>\n",
       "      <td>-0.349551</td>\n",
       "      <td>-0.351028</td>\n",
       "    </tr>\n",
       "    <tr>\n",
       "      <th>3</th>\n",
       "      <td>1.361794</td>\n",
       "      <td>-1.045193</td>\n",
       "      <td>0.660050</td>\n",
       "      <td>-0.020085</td>\n",
       "      <td>0.625708</td>\n",
       "      <td>-0.480558</td>\n",
       "      <td>-0.480558</td>\n",
       "      <td>1.354743</td>\n",
       "      <td>-0.174193</td>\n",
       "      <td>-0.114346</td>\n",
       "      <td>...</td>\n",
       "      <td>-0.349762</td>\n",
       "      <td>-0.349973</td>\n",
       "      <td>-0.349973</td>\n",
       "      <td>-0.698165</td>\n",
       "      <td>0.881116</td>\n",
       "      <td>-0.696678</td>\n",
       "      <td>1.242650</td>\n",
       "      <td>-1.375891</td>\n",
       "      <td>-0.349551</td>\n",
       "      <td>-0.351028</td>\n",
       "    </tr>\n",
       "    <tr>\n",
       "      <th>4</th>\n",
       "      <td>-0.848890</td>\n",
       "      <td>-1.206757</td>\n",
       "      <td>-1.399220</td>\n",
       "      <td>1.293934</td>\n",
       "      <td>-1.598190</td>\n",
       "      <td>2.080915</td>\n",
       "      <td>2.080915</td>\n",
       "      <td>-0.738147</td>\n",
       "      <td>-0.174193</td>\n",
       "      <td>-0.114346</td>\n",
       "      <td>...</td>\n",
       "      <td>-0.349762</td>\n",
       "      <td>-0.349973</td>\n",
       "      <td>-0.349973</td>\n",
       "      <td>-0.698165</td>\n",
       "      <td>-1.134925</td>\n",
       "      <td>-0.696678</td>\n",
       "      <td>1.242650</td>\n",
       "      <td>0.726802</td>\n",
       "      <td>-0.349551</td>\n",
       "      <td>-0.351028</td>\n",
       "    </tr>\n",
       "  </tbody>\n",
       "</table>\n",
       "<p>5 rows × 39 columns</p>\n",
       "</div>"
      ],
      "text/plain": [
       "         0         1         2         3         4         5         6   \\\n",
       "0 -0.769246 -1.081039  1.747454 -0.139541  0.625708 -0.480558 -0.480558   \n",
       "1 -1.496813 -1.016230 -1.489023 -1.334103 -1.598190 -0.480558 -0.480558   \n",
       "2  0.995858 -1.066741  0.010040 -0.139541  0.625708 -0.480558 -0.480558   \n",
       "3  1.361794 -1.045193  0.660050 -0.020085  0.625708 -0.480558 -0.480558   \n",
       "4 -0.848890 -1.206757 -1.399220  1.293934 -1.598190  2.080915  2.080915   \n",
       "\n",
       "         7         8         9   ...        29        30        31        32  \\\n",
       "0 -0.738147 -0.174193 -0.114346  ... -0.349762 -0.349973  2.857362  1.432326   \n",
       "1  1.354743 -0.174193 -0.114346  ... -0.349762 -0.349973 -0.349973  1.432326   \n",
       "2 -0.738147 -0.174193 -0.114346  ... -0.349762 -0.349973  2.857362  1.432326   \n",
       "3  1.354743 -0.174193 -0.114346  ... -0.349762 -0.349973 -0.349973 -0.698165   \n",
       "4 -0.738147 -0.174193 -0.114346  ... -0.349762 -0.349973 -0.349973 -0.698165   \n",
       "\n",
       "         33        34        35        36        37        38  \n",
       "0 -1.134925 -0.696678 -0.804732  0.726802 -0.349551 -0.351028  \n",
       "1 -1.134925 -0.696678  1.242650 -1.375891  2.860816 -0.351028  \n",
       "2 -1.134925 -0.696678 -0.804732  0.726802 -0.349551 -0.351028  \n",
       "3  0.881116 -0.696678  1.242650 -1.375891 -0.349551 -0.351028  \n",
       "4 -1.134925 -0.696678  1.242650  0.726802 -0.349551 -0.351028  \n",
       "\n",
       "[5 rows x 39 columns]"
      ]
     },
     "execution_count": 28,
     "metadata": {},
     "output_type": "execute_result"
    }
   ],
   "source": [
    "# creating dataframes of x and y datasets\n",
    "X=pd.DataFrame(data=X)\n",
    "y=pd.DataFrame(data=y)\n",
    "X.head()"
   ]
  },
  {
   "cell_type": "markdown",
   "metadata": {},
   "source": [
    "# Model Building "
   ]
  },
  {
   "cell_type": "code",
   "execution_count": 29,
   "metadata": {},
   "outputs": [],
   "source": [
    "# splitting the dataset into training and test set\n",
    "x_train, x_test, y_train, y_test = train_test_split(X,y, test_size = 0.2, random_state = 101)"
   ]
  },
  {
   "cell_type": "code",
   "execution_count": 30,
   "metadata": {},
   "outputs": [
    {
     "data": {
      "text/plain": [
       "array([[-0.51620314],\n",
       "       [ 0.13394335],\n",
       "       [-0.45638868],\n",
       "       ...,\n",
       "       [-0.67367384],\n",
       "       [-0.40292189],\n",
       "       [ 0.14908007]])"
      ]
     },
     "execution_count": 30,
     "metadata": {},
     "output_type": "execute_result"
    }
   ],
   "source": [
    "# linear regression model\n",
    "reg = LinearRegression()\n",
    "reg.fit(x_train,y_train)\n",
    "y_pred=reg.predict(x_test)\n",
    "y_pred"
   ]
  },
  {
   "cell_type": "code",
   "execution_count": 31,
   "metadata": {},
   "outputs": [
    {
     "data": {
      "text/plain": [
       "array([[ 4.32874257e-03, -1.02371038e-02,  5.72666117e-01,\n",
       "         1.08921837e+13, -6.89782418e-03,  3.20093249e+11,\n",
       "        -9.05264800e+11,  1.04025166e-02,  7.28437711e-03,\n",
       "         1.24477303e-03,  4.49095946e-03, -1.08410869e-02,\n",
       "        -4.59343429e-03,  7.12514618e-03, -7.55317880e-03,\n",
       "         3.58763723e+11,  4.62891337e+11,  7.00070035e-03,\n",
       "         2.08963787e+11,  7.48208528e-03,  5.81757822e-04,\n",
       "        -8.70809131e-03,  6.83659484e-04, -8.89353588e+12,\n",
       "         2.44227779e+12,  1.31517723e+12, -5.59779474e+12,\n",
       "        -3.86331536e+12,  1.22987453e+12,  4.18324971e+11,\n",
       "        -5.62147419e+12, -4.62071420e+12, -2.05124331e+12,\n",
       "        -1.86636177e+12, -6.03481719e+12, -3.08018766e+12,\n",
       "         4.95673557e+12,  3.33227416e+12, -1.23303543e+12]])"
      ]
     },
     "execution_count": 31,
     "metadata": {},
     "output_type": "execute_result"
    }
   ],
   "source": [
    "# coefficients of linear regression model\n",
    "reg.coef_"
   ]
  },
  {
   "cell_type": "code",
   "execution_count": 32,
   "metadata": {},
   "outputs": [],
   "source": [
    "# creating a dataframe of linear regression model coefficients\n",
    "coef_lin=pd.DataFrame(data=reg.coef_)\n",
    "coef_lin=coef_lin.values.reshape(39,1)"
   ]
  },
  {
   "cell_type": "code",
   "execution_count": 33,
   "metadata": {},
   "outputs": [
    {
     "data": {
      "text/plain": [
       "array([0.00753954])"
      ]
     },
     "execution_count": 33,
     "metadata": {},
     "output_type": "execute_result"
    }
   ],
   "source": [
    "# intercept of linear regression model\n",
    "reg.intercept_"
   ]
  },
  {
   "cell_type": "code",
   "execution_count": 34,
   "metadata": {},
   "outputs": [
    {
     "name": "stdout",
     "output_type": "stream",
     "text": [
      "0.6434838618249028 0.55760305693897\n"
     ]
    }
   ],
   "source": [
    "# computing rmse and r square values linear regression model\n",
    "rmse=np.sqrt(mean_squared_error(y_test,y_pred))\n",
    "r2=r2_score(y_test,y_pred)\n",
    "print(rmse,r2)           "
   ]
  },
  {
   "cell_type": "code",
   "execution_count": 35,
   "metadata": {},
   "outputs": [
    {
     "data": {
      "image/png": "[encoded data removed]",
      "text/plain": [
       "<Figure size 864x504 with 1 Axes>"
      ]
     },
     "metadata": {
      "needs_background": "light"
     },
     "output_type": "display_data"
    }
   ],
   "source": [
    "# residual plot linear regression model\n",
    "x=[i for i in range(1,len(y_pred)+1)]\n",
    "x_plot = plt.scatter(x,(y_pred-y_test),c='b')\n",
    "plt.plot(x,[0]*len(y_pred),c='r')\n",
    "plt.title(\"Fig:2.1 Residual Plot of Linear Regression\")\n",
    "plt.xlabel(\"Predicted Values\")\n",
    "plt.ylabel(\"Residuals\")\n",
    "plt.show()"
   ]
  },
  {
   "cell_type": "raw",
   "metadata": {},
   "source": [
    "The residual plot of linear regression model indicates that it is a good model as the residuals are clustered in and around the center and there doesn't exist any significant drift."
   ]
  },
  {
   "cell_type": "code",
   "execution_count": 36,
   "metadata": {},
   "outputs": [],
   "source": [
    "# finding the best parameter(alpha)\n",
    "def test(models, data):\n",
    "    results = {}\n",
    "    for i in models:\n",
    "        r2 = []\n",
    "        alpha = []\n",
    "        r2.append(r2_score(y_test,models[i].fit(x_train,y_train).predict(x_test)))\n",
    "        alpha.append(models[i].alpha)\n",
    "        results[i] = [np.mean(r2), alpha]\n",
    "    return pd.DataFrame(results)\n"
   ]
  },
  {
   "cell_type": "code",
   "execution_count": 37,
   "metadata": {},
   "outputs": [],
   "source": [
    "params = {'alpha':[0.01,0.02,0.03,0.4,0.5,1,5,10,20,50]}\n",
    "\n",
    "models2 = {'Ridge': GridSearchCV(Ridge(),param_grid=params).fit(x_train,y_train).best_estimator_,\n",
    "           'Lasso': GridSearchCV(Lasso(),param_grid=params).fit(x_train,y_train).best_estimator_,}"
   ]
  },
  {
   "cell_type": "code",
   "execution_count": 38,
   "metadata": {},
   "outputs": [
    {
     "data": {
      "text/html": [
       "<div>\n",
       "<style scoped>\n",
       "    .dataframe tbody tr th:only-of-type {\n",
       "        vertical-align: middle;\n",
       "    }\n",
       "\n",
       "    .dataframe tbody tr th {\n",
       "        vertical-align: top;\n",
       "    }\n",
       "\n",
       "    .dataframe thead th {\n",
       "        text-align: right;\n",
       "    }\n",
       "</style>\n",
       "<table border=\"1\" class=\"dataframe\">\n",
       "  <thead>\n",
       "    <tr style=\"text-align: right;\">\n",
       "      <th></th>\n",
       "      <th>Ridge</th>\n",
       "      <th>Lasso</th>\n",
       "    </tr>\n",
       "  </thead>\n",
       "  <tbody>\n",
       "    <tr>\n",
       "      <th>0</th>\n",
       "      <td>0.557773</td>\n",
       "      <td>0.557552</td>\n",
       "    </tr>\n",
       "    <tr>\n",
       "      <th>1</th>\n",
       "      <td>[20]</td>\n",
       "      <td>[0.01]</td>\n",
       "    </tr>\n",
       "  </tbody>\n",
       "</table>\n",
       "</div>"
      ],
      "text/plain": [
       "      Ridge     Lasso\n",
       "0  0.557773  0.557552\n",
       "1      [20]    [0.01]"
      ]
     },
     "execution_count": 38,
     "metadata": {},
     "output_type": "execute_result"
    }
   ],
   "source": [
    "test(models2, train)"
   ]
  },
  {
   "cell_type": "raw",
   "metadata": {},
   "source": [
    "Alpha value of 50 is the best parameter for Ridge regression model\n",
    "Alpha value of 0.01 is the best parameter for Lasso regression model"
   ]
  },
  {
   "cell_type": "code",
   "execution_count": 60,
   "metadata": {},
   "outputs": [],
   "source": [
    "# ridge regression model\n",
    "ridgereg=Ridge(alpha=1)\n",
    "ridgereg.fit(x_train,y_train)\n",
    "pred1=ridgereg.predict(x_test)\n",
    "\n"
   ]
  },
  {
   "cell_type": "code",
   "execution_count": 101,
   "metadata": {},
   "outputs": [
    {
     "data": {
      "text/plain": [
       "RandomForestRegressor(max_depth=6, min_samples_leaf=55, n_jobs=4)"
      ]
     },
     "execution_count": 101,
     "metadata": {},
     "output_type": "execute_result"
    }
   ],
   "source": [
    "# Fitting Random Forest Regression to the dataset\n",
    "from sklearn.ensemble import RandomForestRegressor\n",
    "regressor = RandomForestRegressor(n_estimators=100,max_depth=6, min_samples_leaf=55,n_jobs=4)\n",
    "regressor.fit(x_train, y_train)"
   ]
  },
  {
   "cell_type": "code",
   "execution_count": 72,
   "metadata": {},
   "outputs": [
    {
     "data": {
      "text/plain": [
       "DecisionTreeRegressor(max_depth=15, min_samples_leaf=100)"
      ]
     },
     "execution_count": 72,
     "metadata": {},
     "output_type": "execute_result"
    }
   ],
   "source": [
    "from sklearn.tree import DecisionTreeRegressor\n",
    "df = DecisionTreeRegressor(max_depth=15,min_samples_leaf=100)\n",
    "df.fit(x_train, y_train)"
   ]
  },
  {
   "cell_type": "code",
   "execution_count": 40,
   "metadata": {},
   "outputs": [
    {
     "data": {
      "text/plain": [
       "array([[ 4.72704116e-03, -1.02628097e-02,  5.71987077e-01,\n",
       "         3.88432961e-02, -1.22011297e-02, -4.87849165e-03,\n",
       "        -4.87849165e-03,  1.09354735e-02,  4.23340987e-03,\n",
       "         2.71795022e-03,  6.30086137e-03, -8.28758367e-03,\n",
       "         8.32730321e-05,  6.62644220e-03, -8.65792828e-03,\n",
       "         1.22682494e-03, -5.81801338e-03,  5.85474930e-03,\n",
       "        -2.87986169e-03,  7.67887482e-03, -2.73716471e-04,\n",
       "        -1.15284176e-02,  8.68687203e-04,  8.30730173e-02,\n",
       "         7.64509108e-02,  5.68745722e-02, -7.24820048e-02,\n",
       "         1.98651843e-01,  7.72434555e-02,  3.45171448e-02,\n",
       "         1.23849872e-01, -5.76413355e-02,  1.31721322e-01,\n",
       "        -1.76911804e-01,  1.25005842e-01, -1.26531171e-01,\n",
       "         2.21202589e-01,  5.68745722e-02,  1.98651843e-01]])"
      ]
     },
     "execution_count": 40,
     "metadata": {},
     "output_type": "execute_result"
    }
   ],
   "source": [
    "# coefficients of ridge regression model\n",
    "ridgereg.coef_"
   ]
  },
  {
   "cell_type": "code",
   "execution_count": 41,
   "metadata": {},
   "outputs": [],
   "source": [
    "# creating a dataframe of ridge regression model coefficients\n",
    "coef_ridge=pd.DataFrame(data=reg.coef_)\n",
    "coef_ridge=coef_ridge.values.reshape(39,1)\n"
   ]
  },
  {
   "cell_type": "code",
   "execution_count": 42,
   "metadata": {},
   "outputs": [
    {
     "data": {
      "text/plain": [
       "array([0.00688934])"
      ]
     },
     "execution_count": 42,
     "metadata": {},
     "output_type": "execute_result"
    }
   ],
   "source": [
    "# intercept of ridge regression model\n",
    "ridgereg.intercept_"
   ]
  },
  {
   "cell_type": "code",
   "execution_count": 43,
   "metadata": {},
   "outputs": [
    {
     "name": "stdout",
     "output_type": "stream",
     "text": [
      "0.6434838618249028 0.55760305693897\n"
     ]
    }
   ],
   "source": [
    "# computing rmse and r square values of ridge regression model\n",
    "rmse_1=np.sqrt(mean_squared_error(y_test,pred1))\n",
    "r2_1=r2_score(y_test,pred1)\n",
    "print(rmse,r2)"
   ]
  },
  {
   "cell_type": "code",
   "execution_count": 44,
   "metadata": {
    "scrolled": true
   },
   "outputs": [
    {
     "data": {
      "image/png": "[encoded data removed]",
      "text/plain": [
       "<Figure size 864x504 with 1 Axes>"
      ]
     },
     "metadata": {
      "needs_background": "light"
     },
     "output_type": "display_data"
    }
   ],
   "source": [
    "# residual plot f ridge regression model\n",
    "x1=[i for i in range(1,len(pred1)+1)]\n",
    "x1_plot = plt.scatter(x1,(pred1-y_test),c='b')\n",
    "plt.plot(x1,[0]*len(pred1),c='r')\n",
    "plt.title(\"Fig:2.2 Residual Plot of Ridge Regression\")\n",
    "plt.xlabel(\"Predicted Values\")\n",
    "plt.ylabel(\"Residuals\")\n",
    "plt.show()"
   ]
  },
  {
   "cell_type": "raw",
   "metadata": {},
   "source": [
    "The residual plot of ridge regression model indicates that it is a good model as the residuals are mostly clustered around the center and there  doesn't exist any significant drift."
   ]
  },
  {
   "cell_type": "code",
   "execution_count": 45,
   "metadata": {},
   "outputs": [
    {
     "data": {
      "text/plain": [
       "array([-0.51785302,  0.14092955, -0.52953115, ..., -0.55699239,\n",
       "       -0.39105277,  0.14205858])"
      ]
     },
     "execution_count": 45,
     "metadata": {},
     "output_type": "execute_result"
    }
   ],
   "source": [
    "# lasso regression\n",
    "lassoreg=Lasso(alpha=0.01,normalize=False)\n",
    "lassoreg.fit(x_train,y_train)\n",
    "pred2=lassoreg.predict(x_test)\n",
    "pred2"
   ]
  },
  {
   "cell_type": "code",
   "execution_count": 46,
   "metadata": {},
   "outputs": [
    {
     "data": {
      "text/plain": [
       "array([ 0.        , -0.0089818 ,  0.56186052, -0.        ,  0.00302905,\n",
       "       -0.        , -0.        ,  0.00362781,  0.        ,  0.        ,\n",
       "        0.        , -0.        ,  0.        ,  0.        , -0.        ,\n",
       "        0.        , -0.        ,  0.        , -0.        ,  0.        ,\n",
       "       -0.        , -0.        ,  0.        ,  0.        ,  0.01826487,\n",
       "        0.01534699, -0.01830989,  0.3065682 ,  0.02402092, -0.        ,\n",
       "        0.        , -0.        ,  0.02348795, -0.01518104,  0.        ,\n",
       "       -0.        ,  0.46305353,  0.20591802,  0.23395546])"
      ]
     },
     "execution_count": 46,
     "metadata": {},
     "output_type": "execute_result"
    }
   ],
   "source": [
    "# coefficients of lasso regression model\n",
    "lassoreg.coef_"
   ]
  },
  {
   "cell_type": "code",
   "execution_count": 47,
   "metadata": {},
   "outputs": [],
   "source": [
    "# creating a dataframe of lasso regression model coefficients\n",
    "coef_lasso=pd.DataFrame(data=reg.coef_)\n",
    "coef_lasso=coef_lasso.values.reshape(39,1)"
   ]
  },
  {
   "cell_type": "code",
   "execution_count": 48,
   "metadata": {},
   "outputs": [
    {
     "data": {
      "text/plain": [
       "array([0.0069])"
      ]
     },
     "execution_count": 48,
     "metadata": {},
     "output_type": "execute_result"
    }
   ],
   "source": [
    "# intercept of lasso regression model\n",
    "lassoreg.intercept_"
   ]
  },
  {
   "cell_type": "code",
   "execution_count": 49,
   "metadata": {},
   "outputs": [
    {
     "name": "stdout",
     "output_type": "stream",
     "text": [
      "0.6435209587003292 0.5575520470587769\n"
     ]
    }
   ],
   "source": [
    "# computing rmse and r square values of lasso regression model\n",
    "rmse_2=np.sqrt(mean_squared_error(y_test,pred2))\n",
    "r2_2=r2_score(y_test,pred2)\n",
    "print(rmse_2,r2_2)"
   ]
  },
  {
   "cell_type": "code",
   "execution_count": 50,
   "metadata": {},
   "outputs": [
    {
     "data": {
      "image/png": "[encoded data removed]",
      "text/plain": [
       "<Figure size 864x504 with 1 Axes>"
      ]
     },
     "metadata": {
      "needs_background": "light"
     },
     "output_type": "display_data"
    }
   ],
   "source": [
    "# residual plot of lasso regression model\n",
    "pred2=pred2.reshape(len(pred2),1)\n",
    "x2=[i for i in range(1,len(pred2)+1)]\n",
    "x2_plot = plt.scatter(x2,(pred2-y_test),c='b')\n",
    "plt.plot(x2,[0]*len(pred2),c='r')\n",
    "plt.title(\"Fig:2.3 Residual Plot of Lasso Regression\")\n",
    "plt.xlabel(\"Predicted Values\")\n",
    "plt.ylabel(\"Residuals\")\n",
    "plt.show()"
   ]
  },
  {
   "cell_type": "raw",
   "metadata": {},
   "source": [
    "The residual plot of lasso regression model indicates that it is a good model as the residuals are mostly clustered around the center and there  doesn't exist any significant drift."
   ]
  },
  {
   "cell_type": "code",
   "execution_count": 51,
   "metadata": {},
   "outputs": [
    {
     "data": {
      "text/html": [
       "<div>\n",
       "<style scoped>\n",
       "    .dataframe tbody tr th:only-of-type {\n",
       "        vertical-align: middle;\n",
       "    }\n",
       "\n",
       "    .dataframe tbody tr th {\n",
       "        vertical-align: top;\n",
       "    }\n",
       "\n",
       "    .dataframe thead th {\n",
       "        text-align: right;\n",
       "    }\n",
       "</style>\n",
       "<table border=\"1\" class=\"dataframe\">\n",
       "  <thead>\n",
       "    <tr style=\"text-align: right;\">\n",
       "      <th></th>\n",
       "      <th>metrics</th>\n",
       "      <th>Linear reg</th>\n",
       "      <th>Ridge reg</th>\n",
       "      <th>Lasso reg</th>\n",
       "    </tr>\n",
       "  </thead>\n",
       "  <tbody>\n",
       "    <tr>\n",
       "      <th>0</th>\n",
       "      <td>RMSE</td>\n",
       "      <td>0.643484</td>\n",
       "      <td>0.643422</td>\n",
       "      <td>0.643521</td>\n",
       "    </tr>\n",
       "    <tr>\n",
       "      <th>1</th>\n",
       "      <td>R-SQUARE</td>\n",
       "      <td>0.557603</td>\n",
       "      <td>0.557688</td>\n",
       "      <td>0.557552</td>\n",
       "    </tr>\n",
       "  </tbody>\n",
       "</table>\n",
       "</div>"
      ],
      "text/plain": [
       "     metrics  Linear reg  Ridge reg  Lasso reg\n",
       "0      RMSE     0.643484   0.643422   0.643521\n",
       "1  R-SQUARE     0.557603   0.557688   0.557552"
      ]
     },
     "execution_count": 51,
     "metadata": {},
     "output_type": "execute_result"
    }
   ],
   "source": [
    "# creating a dataframe consisting of rmse and r square values\n",
    "metrics_df=pd.DataFrame(columns=['metrics','Linear reg','Ridge reg','Lasso reg'])\n",
    "metrics_df=metrics_df.append({'metrics':\"RMSE \", 'Linear reg':rmse, 'Ridge reg':rmse_1, 'Lasso reg':rmse_2}, ignore_index=True)\n",
    "metrics_df=metrics_df.append({'metrics': \"R-SQUARE \", 'Linear reg':r2, 'Ridge reg':r2_1, 'Lasso reg':r2_2}, ignore_index=True)\n",
    "metrics_df"
   ]
  },
  {
   "cell_type": "raw",
   "metadata": {},
   "source": [
    "Lasso regression model of alpha 0.01 produces the highest R square value and the least RMSE value. Hence it is considered to be the best model to predict the test data sales ."
   ]
  },
  {
   "cell_type": "markdown",
   "metadata": {},
   "source": [
    "# Finding Feature Importance"
   ]
  },
  {
   "cell_type": "code",
   "execution_count": 52,
   "metadata": {},
   "outputs": [
    {
     "data": {
      "text/html": [
       "<div>\n",
       "<style scoped>\n",
       "    .dataframe tbody tr th:only-of-type {\n",
       "        vertical-align: middle;\n",
       "    }\n",
       "\n",
       "    .dataframe tbody tr th {\n",
       "        vertical-align: top;\n",
       "    }\n",
       "\n",
       "    .dataframe thead th {\n",
       "        text-align: right;\n",
       "    }\n",
       "</style>\n",
       "<table border=\"1\" class=\"dataframe\">\n",
       "  <thead>\n",
       "    <tr style=\"text-align: right;\">\n",
       "      <th></th>\n",
       "      <th>Linear reg</th>\n",
       "      <th>Ridge reg</th>\n",
       "      <th>Lasso reg</th>\n",
       "      <th>Independent Variables</th>\n",
       "    </tr>\n",
       "  </thead>\n",
       "  <tbody>\n",
       "    <tr>\n",
       "      <th>3</th>\n",
       "      <td>[10892183687904.814]</td>\n",
       "      <td>[10892183687904.814]</td>\n",
       "      <td>[10892183687904.814]</td>\n",
       "      <td>Outlet_Age</td>\n",
       "    </tr>\n",
       "    <tr>\n",
       "      <th>36</th>\n",
       "      <td>[4956735573362.69]</td>\n",
       "      <td>[4956735573362.69]</td>\n",
       "      <td>[4956735573362.69]</td>\n",
       "      <td>Outlet_Type_Supermarket Type1</td>\n",
       "    </tr>\n",
       "    <tr>\n",
       "      <th>37</th>\n",
       "      <td>[3332274163608.7793]</td>\n",
       "      <td>[3332274163608.7793]</td>\n",
       "      <td>[3332274163608.7793]</td>\n",
       "      <td>Outlet_Type_Supermarket Type2</td>\n",
       "    </tr>\n",
       "    <tr>\n",
       "      <th>24</th>\n",
       "      <td>[2442277789972.307]</td>\n",
       "      <td>[2442277789972.307]</td>\n",
       "      <td>[2442277789972.307]</td>\n",
       "      <td>Outlet_Identifier_OUT017</td>\n",
       "    </tr>\n",
       "    <tr>\n",
       "      <th>25</th>\n",
       "      <td>[1315177232847.3057]</td>\n",
       "      <td>[1315177232847.3057]</td>\n",
       "      <td>[1315177232847.3057]</td>\n",
       "      <td>Outlet_Identifier_OUT018</td>\n",
       "    </tr>\n",
       "    <tr>\n",
       "      <th>28</th>\n",
       "      <td>[1229874529362.8804]</td>\n",
       "      <td>[1229874529362.8804]</td>\n",
       "      <td>[1229874529362.8804]</td>\n",
       "      <td>Outlet_Identifier_OUT035</td>\n",
       "    </tr>\n",
       "    <tr>\n",
       "      <th>16</th>\n",
       "      <td>[462891337437.7993]</td>\n",
       "      <td>[462891337437.7993]</td>\n",
       "      <td>[462891337437.7993]</td>\n",
       "      <td>Item_Type_Household</td>\n",
       "    </tr>\n",
       "    <tr>\n",
       "      <th>29</th>\n",
       "      <td>[418324971458.74927]</td>\n",
       "      <td>[418324971458.74927]</td>\n",
       "      <td>[418324971458.74927]</td>\n",
       "      <td>Outlet_Identifier_OUT045</td>\n",
       "    </tr>\n",
       "    <tr>\n",
       "      <th>15</th>\n",
       "      <td>[358763723408.4121]</td>\n",
       "      <td>[358763723408.4121]</td>\n",
       "      <td>[358763723408.4121]</td>\n",
       "      <td>Item_Type_Health and Hygiene</td>\n",
       "    </tr>\n",
       "    <tr>\n",
       "      <th>5</th>\n",
       "      <td>[320093249333.8883]</td>\n",
       "      <td>[320093249333.8883]</td>\n",
       "      <td>[320093249333.8883]</td>\n",
       "      <td>Item_Identifier_Non_Consumable</td>\n",
       "    </tr>\n",
       "    <tr>\n",
       "      <th>18</th>\n",
       "      <td>[208963786948.73294]</td>\n",
       "      <td>[208963786948.73294]</td>\n",
       "      <td>[208963786948.73294]</td>\n",
       "      <td>Item_Type_Others</td>\n",
       "    </tr>\n",
       "    <tr>\n",
       "      <th>2</th>\n",
       "      <td>[0.5726661172928631]</td>\n",
       "      <td>[0.5726661172928631]</td>\n",
       "      <td>[0.5726661172928631]</td>\n",
       "      <td>Item_MRP</td>\n",
       "    </tr>\n",
       "    <tr>\n",
       "      <th>7</th>\n",
       "      <td>[0.010402516631964868]</td>\n",
       "      <td>[0.010402516631964868]</td>\n",
       "      <td>[0.010402516631964868]</td>\n",
       "      <td>Item_Fat_Content_Regular</td>\n",
       "    </tr>\n",
       "    <tr>\n",
       "      <th>19</th>\n",
       "      <td>[0.007482085281804758]</td>\n",
       "      <td>[0.007482085281804758]</td>\n",
       "      <td>[0.007482085281804758]</td>\n",
       "      <td>Item_Type_Seafood</td>\n",
       "    </tr>\n",
       "    <tr>\n",
       "      <th>8</th>\n",
       "      <td>[0.0072843771061465515]</td>\n",
       "      <td>[0.0072843771061465515]</td>\n",
       "      <td>[0.0072843771061465515]</td>\n",
       "      <td>Item_Type_Breads</td>\n",
       "    </tr>\n",
       "    <tr>\n",
       "      <th>13</th>\n",
       "      <td>[0.007125146182354453]</td>\n",
       "      <td>[0.007125146182354453]</td>\n",
       "      <td>[0.007125146182354453]</td>\n",
       "      <td>Item_Type_Fruits and Vegetables</td>\n",
       "    </tr>\n",
       "    <tr>\n",
       "      <th>17</th>\n",
       "      <td>[0.007000700354073876]</td>\n",
       "      <td>[0.007000700354073876]</td>\n",
       "      <td>[0.007000700354073876]</td>\n",
       "      <td>Item_Type_Meat</td>\n",
       "    </tr>\n",
       "    <tr>\n",
       "      <th>10</th>\n",
       "      <td>[0.004490959457391867]</td>\n",
       "      <td>[0.004490959457391867]</td>\n",
       "      <td>[0.004490959457391867]</td>\n",
       "      <td>Item_Type_Canned</td>\n",
       "    </tr>\n",
       "    <tr>\n",
       "      <th>0</th>\n",
       "      <td>[0.0043287425681915]</td>\n",
       "      <td>[0.0043287425681915]</td>\n",
       "      <td>[0.0043287425681915]</td>\n",
       "      <td>Item_Weight</td>\n",
       "    </tr>\n",
       "    <tr>\n",
       "      <th>9</th>\n",
       "      <td>[0.0012447730272509834]</td>\n",
       "      <td>[0.0012447730272509834]</td>\n",
       "      <td>[0.0012447730272509834]</td>\n",
       "      <td>Item_Type_Breakfast</td>\n",
       "    </tr>\n",
       "    <tr>\n",
       "      <th>22</th>\n",
       "      <td>[0.0006836594836350813]</td>\n",
       "      <td>[0.0006836594836350813]</td>\n",
       "      <td>[0.0006836594836350813]</td>\n",
       "      <td>Item_Type_Starchy Foods</td>\n",
       "    </tr>\n",
       "    <tr>\n",
       "      <th>20</th>\n",
       "      <td>[0.0005817578219452536]</td>\n",
       "      <td>[0.0005817578219452536]</td>\n",
       "      <td>[0.0005817578219452536]</td>\n",
       "      <td>Item_Type_Snack Foods</td>\n",
       "    </tr>\n",
       "    <tr>\n",
       "      <th>12</th>\n",
       "      <td>[-0.004593434294785846]</td>\n",
       "      <td>[-0.004593434294785846]</td>\n",
       "      <td>[-0.004593434294785846]</td>\n",
       "      <td>Item_Type_Frozen Foods</td>\n",
       "    </tr>\n",
       "    <tr>\n",
       "      <th>4</th>\n",
       "      <td>[-0.006897824175479459]</td>\n",
       "      <td>[-0.006897824175479459]</td>\n",
       "      <td>[-0.006897824175479459]</td>\n",
       "      <td>Item_Identifier_Food</td>\n",
       "    </tr>\n",
       "    <tr>\n",
       "      <th>14</th>\n",
       "      <td>[-0.007553178803914356]</td>\n",
       "      <td>[-0.007553178803914356]</td>\n",
       "      <td>[-0.007553178803914356]</td>\n",
       "      <td>Item_Type_Hard Drinks</td>\n",
       "    </tr>\n",
       "    <tr>\n",
       "      <th>21</th>\n",
       "      <td>[-0.00870809131369844]</td>\n",
       "      <td>[-0.00870809131369844]</td>\n",
       "      <td>[-0.00870809131369844]</td>\n",
       "      <td>Item_Type_Soft Drinks</td>\n",
       "    </tr>\n",
       "    <tr>\n",
       "      <th>1</th>\n",
       "      <td>[-0.010237103833079533]</td>\n",
       "      <td>[-0.010237103833079533]</td>\n",
       "      <td>[-0.010237103833079533]</td>\n",
       "      <td>Item_Visibility</td>\n",
       "    </tr>\n",
       "    <tr>\n",
       "      <th>11</th>\n",
       "      <td>[-0.010841086940656355]</td>\n",
       "      <td>[-0.010841086940656355]</td>\n",
       "      <td>[-0.010841086940656355]</td>\n",
       "      <td>Item_Type_Dairy</td>\n",
       "    </tr>\n",
       "    <tr>\n",
       "      <th>6</th>\n",
       "      <td>[-905264800055.319]</td>\n",
       "      <td>[-905264800055.319]</td>\n",
       "      <td>[-905264800055.319]</td>\n",
       "      <td>Item_Fat_Content_Non-Edible</td>\n",
       "    </tr>\n",
       "    <tr>\n",
       "      <th>38</th>\n",
       "      <td>[-1233035432383.1934]</td>\n",
       "      <td>[-1233035432383.1934]</td>\n",
       "      <td>[-1233035432383.1934]</td>\n",
       "      <td>Outlet_Type_Supermarket Type3</td>\n",
       "    </tr>\n",
       "    <tr>\n",
       "      <th>33</th>\n",
       "      <td>[-1866361769718.4238]</td>\n",
       "      <td>[-1866361769718.4238]</td>\n",
       "      <td>[-1866361769718.4238]</td>\n",
       "      <td>Outlet_Size_Small</td>\n",
       "    </tr>\n",
       "    <tr>\n",
       "      <th>32</th>\n",
       "      <td>[-2051243312602.3762]</td>\n",
       "      <td>[-2051243312602.3762]</td>\n",
       "      <td>[-2051243312602.3762]</td>\n",
       "      <td>Outlet_Size_Medium</td>\n",
       "    </tr>\n",
       "    <tr>\n",
       "      <th>35</th>\n",
       "      <td>[-3080187660867.71]</td>\n",
       "      <td>[-3080187660867.71]</td>\n",
       "      <td>[-3080187660867.71]</td>\n",
       "      <td>Outlet_Location_Type_Tier 3</td>\n",
       "    </tr>\n",
       "    <tr>\n",
       "      <th>27</th>\n",
       "      <td>[-3863315359152.9614]</td>\n",
       "      <td>[-3863315359152.9614]</td>\n",
       "      <td>[-3863315359152.9614]</td>\n",
       "      <td>Outlet_Identifier_OUT027</td>\n",
       "    </tr>\n",
       "    <tr>\n",
       "      <th>31</th>\n",
       "      <td>[-4620714199960.621]</td>\n",
       "      <td>[-4620714199960.621]</td>\n",
       "      <td>[-4620714199960.621]</td>\n",
       "      <td>Outlet_Identifier_OUT049</td>\n",
       "    </tr>\n",
       "    <tr>\n",
       "      <th>26</th>\n",
       "      <td>[-5597794739598.758]</td>\n",
       "      <td>[-5597794739598.758]</td>\n",
       "      <td>[-5597794739598.758]</td>\n",
       "      <td>Outlet_Identifier_OUT019</td>\n",
       "    </tr>\n",
       "    <tr>\n",
       "      <th>30</th>\n",
       "      <td>[-5621474189919.095]</td>\n",
       "      <td>[-5621474189919.095]</td>\n",
       "      <td>[-5621474189919.095]</td>\n",
       "      <td>Outlet_Identifier_OUT046</td>\n",
       "    </tr>\n",
       "    <tr>\n",
       "      <th>34</th>\n",
       "      <td>[-6034817194165.513]</td>\n",
       "      <td>[-6034817194165.513]</td>\n",
       "      <td>[-6034817194165.513]</td>\n",
       "      <td>Outlet_Location_Type_Tier 2</td>\n",
       "    </tr>\n",
       "    <tr>\n",
       "      <th>23</th>\n",
       "      <td>[-8893535876150.766]</td>\n",
       "      <td>[-8893535876150.766]</td>\n",
       "      <td>[-8893535876150.766]</td>\n",
       "      <td>Outlet_Identifier_OUT013</td>\n",
       "    </tr>\n",
       "  </tbody>\n",
       "</table>\n",
       "</div>"
      ],
      "text/plain": [
       "                 Linear reg                Ridge reg                Lasso reg  \\\n",
       "3      [10892183687904.814]     [10892183687904.814]     [10892183687904.814]   \n",
       "36       [4956735573362.69]       [4956735573362.69]       [4956735573362.69]   \n",
       "37     [3332274163608.7793]     [3332274163608.7793]     [3332274163608.7793]   \n",
       "24      [2442277789972.307]      [2442277789972.307]      [2442277789972.307]   \n",
       "25     [1315177232847.3057]     [1315177232847.3057]     [1315177232847.3057]   \n",
       "28     [1229874529362.8804]     [1229874529362.8804]     [1229874529362.8804]   \n",
       "16      [462891337437.7993]      [462891337437.7993]      [462891337437.7993]   \n",
       "29     [418324971458.74927]     [418324971458.74927]     [418324971458.74927]   \n",
       "15      [358763723408.4121]      [358763723408.4121]      [358763723408.4121]   \n",
       "5       [320093249333.8883]      [320093249333.8883]      [320093249333.8883]   \n",
       "18     [208963786948.73294]     [208963786948.73294]     [208963786948.73294]   \n",
       "2      [0.5726661172928631]     [0.5726661172928631]     [0.5726661172928631]   \n",
       "7    [0.010402516631964868]   [0.010402516631964868]   [0.010402516631964868]   \n",
       "19   [0.007482085281804758]   [0.007482085281804758]   [0.007482085281804758]   \n",
       "8   [0.0072843771061465515]  [0.0072843771061465515]  [0.0072843771061465515]   \n",
       "13   [0.007125146182354453]   [0.007125146182354453]   [0.007125146182354453]   \n",
       "17   [0.007000700354073876]   [0.007000700354073876]   [0.007000700354073876]   \n",
       "10   [0.004490959457391867]   [0.004490959457391867]   [0.004490959457391867]   \n",
       "0      [0.0043287425681915]     [0.0043287425681915]     [0.0043287425681915]   \n",
       "9   [0.0012447730272509834]  [0.0012447730272509834]  [0.0012447730272509834]   \n",
       "22  [0.0006836594836350813]  [0.0006836594836350813]  [0.0006836594836350813]   \n",
       "20  [0.0005817578219452536]  [0.0005817578219452536]  [0.0005817578219452536]   \n",
       "12  [-0.004593434294785846]  [-0.004593434294785846]  [-0.004593434294785846]   \n",
       "4   [-0.006897824175479459]  [-0.006897824175479459]  [-0.006897824175479459]   \n",
       "14  [-0.007553178803914356]  [-0.007553178803914356]  [-0.007553178803914356]   \n",
       "21   [-0.00870809131369844]   [-0.00870809131369844]   [-0.00870809131369844]   \n",
       "1   [-0.010237103833079533]  [-0.010237103833079533]  [-0.010237103833079533]   \n",
       "11  [-0.010841086940656355]  [-0.010841086940656355]  [-0.010841086940656355]   \n",
       "6       [-905264800055.319]      [-905264800055.319]      [-905264800055.319]   \n",
       "38    [-1233035432383.1934]    [-1233035432383.1934]    [-1233035432383.1934]   \n",
       "33    [-1866361769718.4238]    [-1866361769718.4238]    [-1866361769718.4238]   \n",
       "32    [-2051243312602.3762]    [-2051243312602.3762]    [-2051243312602.3762]   \n",
       "35      [-3080187660867.71]      [-3080187660867.71]      [-3080187660867.71]   \n",
       "27    [-3863315359152.9614]    [-3863315359152.9614]    [-3863315359152.9614]   \n",
       "31     [-4620714199960.621]     [-4620714199960.621]     [-4620714199960.621]   \n",
       "26     [-5597794739598.758]     [-5597794739598.758]     [-5597794739598.758]   \n",
       "30     [-5621474189919.095]     [-5621474189919.095]     [-5621474189919.095]   \n",
       "34     [-6034817194165.513]     [-6034817194165.513]     [-6034817194165.513]   \n",
       "23     [-8893535876150.766]     [-8893535876150.766]     [-8893535876150.766]   \n",
       "\n",
       "              Independent Variables  \n",
       "3                        Outlet_Age  \n",
       "36    Outlet_Type_Supermarket Type1  \n",
       "37    Outlet_Type_Supermarket Type2  \n",
       "24         Outlet_Identifier_OUT017  \n",
       "25         Outlet_Identifier_OUT018  \n",
       "28         Outlet_Identifier_OUT035  \n",
       "16              Item_Type_Household  \n",
       "29         Outlet_Identifier_OUT045  \n",
       "15     Item_Type_Health and Hygiene  \n",
       "5    Item_Identifier_Non_Consumable  \n",
       "18                 Item_Type_Others  \n",
       "2                          Item_MRP  \n",
       "7          Item_Fat_Content_Regular  \n",
       "19                Item_Type_Seafood  \n",
       "8                  Item_Type_Breads  \n",
       "13  Item_Type_Fruits and Vegetables  \n",
       "17                   Item_Type_Meat  \n",
       "10                 Item_Type_Canned  \n",
       "0                       Item_Weight  \n",
       "9               Item_Type_Breakfast  \n",
       "22          Item_Type_Starchy Foods  \n",
       "20            Item_Type_Snack Foods  \n",
       "12           Item_Type_Frozen Foods  \n",
       "4              Item_Identifier_Food  \n",
       "14            Item_Type_Hard Drinks  \n",
       "21            Item_Type_Soft Drinks  \n",
       "1                   Item_Visibility  \n",
       "11                  Item_Type_Dairy  \n",
       "6       Item_Fat_Content_Non-Edible  \n",
       "38    Outlet_Type_Supermarket Type3  \n",
       "33                Outlet_Size_Small  \n",
       "32               Outlet_Size_Medium  \n",
       "35      Outlet_Location_Type_Tier 3  \n",
       "27         Outlet_Identifier_OUT027  \n",
       "31         Outlet_Identifier_OUT049  \n",
       "26         Outlet_Identifier_OUT019  \n",
       "30         Outlet_Identifier_OUT046  \n",
       "34      Outlet_Location_Type_Tier 2  \n",
       "23         Outlet_Identifier_OUT013  "
      ]
     },
     "execution_count": 52,
     "metadata": {},
     "output_type": "execute_result"
    }
   ],
   "source": [
    "# creating a dataframe to display the feature's importance\n",
    "feature_df=pd.DataFrame(columns=['Linear reg','Ridge reg','Lasso reg'])\n",
    "for i in range(39):\n",
    "    feature_df=feature_df.append({'Linear reg':coef_lin[i], 'Ridge reg':coef_ridge[i], 'Lasso reg':coef_lasso[i]}, ignore_index=True)\n",
    "feature_df.sort_values('Lasso reg', axis=0, ascending=True, inplace=False, na_position='last').head()\n",
    "\n",
    "data_join=feature_df.join(xcol_names, lsuffix=\"_left\", rsuffix=\"_right\").sort_values('Lasso reg', axis=0, ascending=False, inplace=False, na_position='last')\n",
    "data_join"
   ]
  },
  {
   "cell_type": "code",
   "execution_count": 53,
   "metadata": {},
   "outputs": [
    {
     "data": {
      "image/png": "[encoded data removed]",
      "text/plain": [
       "<Figure size 864x504 with 1 Axes>"
      ]
     },
     "metadata": {
      "needs_background": "light"
     },
     "output_type": "display_data"
    }
   ],
   "source": [
    "# plotting model coefficients of linear regression model\n",
    "coef_graph =pd.Series(coef_lin.ravel(), trainX.columns).sort_values(ascending=False)\n",
    "coef_graph.plot(kind='bar', title='Fig:3.1 Model Coefficients of Linear Regression Model')\n",
    "plt.xlabel(\"Independent Variables\")\n",
    "plt.ylabel(\"Coefficients\")\n",
    "plt.show()"
   ]
  },
  {
   "cell_type": "code",
   "execution_count": 54,
   "metadata": {},
   "outputs": [
    {
     "data": {
      "image/png": "[encoded data removed]",
      "text/plain": [
       "<Figure size 864x504 with 1 Axes>"
      ]
     },
     "metadata": {
      "needs_background": "light"
     },
     "output_type": "display_data"
    }
   ],
   "source": [
    "# plotting model coefficients of ridge regression model\n",
    "coef_graph1 =pd.Series(coef_ridge.ravel(), trainX.columns).sort_values(ascending=False)\n",
    "coef_graph1.plot(kind='bar', title='Fig:3.2 Model Coefficients of Ridge Regression Model')\n",
    "plt.xlabel(\"Independent Variables\")\n",
    "plt.ylabel(\"Coefficients\")\n",
    "plt.show()"
   ]
  },
  {
   "cell_type": "code",
   "execution_count": 55,
   "metadata": {},
   "outputs": [
    {
     "data": {
      "image/png": "[encoded data removed]",
      "text/plain": [
       "<Figure size 864x504 with 1 Axes>"
      ]
     },
     "metadata": {
      "needs_background": "light"
     },
     "output_type": "display_data"
    }
   ],
   "source": [
    "# plotting model coefficients of lasso regression model\n",
    "coef_graph2 =pd.Series(coef_lasso.ravel(), trainX.columns).sort_values(ascending=False)\n",
    "coef_graph2.plot(kind='bar', title='Fig:3.3 Model Coefficients of Lasso Regression Model')\n",
    "plt.xlabel(\"Independent Variables\")\n",
    "plt.ylabel(\"Coefficients\")\n",
    "plt.show()"
   ]
  },
  {
   "cell_type": "raw",
   "metadata": {},
   "source": [
    "Inference:\n",
    "1. According to the best fit model(Lasso regression model), Outlet_Age has the most significant impact on the target variable Item_Outlet_Sales due to the very high positive coefficient and has shown similar results in all the three regression models.\n",
    "2. The increased sales in older outlets can indicate reliability to the customers on their long run and hence could be a reason for the loyal customer base.\n",
    "3. Essential Food items like fruits, vegetables and snacks has a very great impact on the sales and always has good demand.\n",
    "4. Tier 2 becomes the next deciding factor in the increase in sales which had only Supermarket type1 outlets.\n",
    "5. Sales is driven by demand rather than MRP, weight and visibility which are close to having 0 impact."
   ]
  },
  {
   "cell_type": "markdown",
   "metadata": {},
   "source": [
    "# Predicting Test Data"
   ]
  },
  {
   "cell_type": "code",
   "execution_count": 56,
   "metadata": {},
   "outputs": [
    {
     "data": {
      "text/html": [
       "<div>\n",
       "<style scoped>\n",
       "    .dataframe tbody tr th:only-of-type {\n",
       "        vertical-align: middle;\n",
       "    }\n",
       "\n",
       "    .dataframe tbody tr th {\n",
       "        vertical-align: top;\n",
       "    }\n",
       "\n",
       "    .dataframe thead th {\n",
       "        text-align: right;\n",
       "    }\n",
       "</style>\n",
       "<table border=\"1\" class=\"dataframe\">\n",
       "  <thead>\n",
       "    <tr style=\"text-align: right;\">\n",
       "      <th></th>\n",
       "      <th>0</th>\n",
       "      <th>1</th>\n",
       "      <th>2</th>\n",
       "      <th>3</th>\n",
       "      <th>4</th>\n",
       "      <th>5</th>\n",
       "      <th>6</th>\n",
       "      <th>7</th>\n",
       "      <th>8</th>\n",
       "      <th>9</th>\n",
       "      <th>...</th>\n",
       "      <th>29</th>\n",
       "      <th>30</th>\n",
       "      <th>31</th>\n",
       "      <th>32</th>\n",
       "      <th>33</th>\n",
       "      <th>34</th>\n",
       "      <th>35</th>\n",
       "      <th>36</th>\n",
       "      <th>37</th>\n",
       "      <th>38</th>\n",
       "    </tr>\n",
       "  </thead>\n",
       "  <tbody>\n",
       "    <tr>\n",
       "      <th>0</th>\n",
       "      <td>1.734064</td>\n",
       "      <td>-1.247634</td>\n",
       "      <td>-0.536555</td>\n",
       "      <td>-0.139891</td>\n",
       "      <td>0.627510</td>\n",
       "      <td>-0.486429</td>\n",
       "      <td>-0.486429</td>\n",
       "      <td>-0.740811</td>\n",
       "      <td>-0.172954</td>\n",
       "      <td>-0.116445</td>\n",
       "      <td>...</td>\n",
       "      <td>-0.349691</td>\n",
       "      <td>-0.350008</td>\n",
       "      <td>2.857079</td>\n",
       "      <td>1.432138</td>\n",
       "      <td>-1.134882</td>\n",
       "      <td>-0.696584</td>\n",
       "      <td>-0.804750</td>\n",
       "      <td>0.726900</td>\n",
       "      <td>-0.349374</td>\n",
       "      <td>-0.351274</td>\n",
       "    </tr>\n",
       "    <tr>\n",
       "      <th>1</th>\n",
       "      <td>-0.938845</td>\n",
       "      <td>-0.624550</td>\n",
       "      <td>-0.868937</td>\n",
       "      <td>-1.095512</td>\n",
       "      <td>0.627510</td>\n",
       "      <td>-0.486429</td>\n",
       "      <td>-0.486429</td>\n",
       "      <td>1.349873</td>\n",
       "      <td>-0.172954</td>\n",
       "      <td>-0.116445</td>\n",
       "      <td>...</td>\n",
       "      <td>-0.349691</td>\n",
       "      <td>-0.350008</td>\n",
       "      <td>-0.350008</td>\n",
       "      <td>-0.698257</td>\n",
       "      <td>0.881149</td>\n",
       "      <td>1.435578</td>\n",
       "      <td>-0.804750</td>\n",
       "      <td>0.726900</td>\n",
       "      <td>-0.349374</td>\n",
       "      <td>-0.351274</td>\n",
       "    </tr>\n",
       "    <tr>\n",
       "      <th>2</th>\n",
       "      <td>0.413711</td>\n",
       "      <td>0.609940</td>\n",
       "      <td>1.629848</td>\n",
       "      <td>-0.020438</td>\n",
       "      <td>-1.593601</td>\n",
       "      <td>2.055799</td>\n",
       "      <td>2.055799</td>\n",
       "      <td>-0.740811</td>\n",
       "      <td>-0.172954</td>\n",
       "      <td>-0.116445</td>\n",
       "      <td>...</td>\n",
       "      <td>-0.349691</td>\n",
       "      <td>-0.350008</td>\n",
       "      <td>-0.350008</td>\n",
       "      <td>-0.698257</td>\n",
       "      <td>0.881149</td>\n",
       "      <td>-0.696584</td>\n",
       "      <td>1.242623</td>\n",
       "      <td>-1.375706</td>\n",
       "      <td>-0.349374</td>\n",
       "      <td>-0.351274</td>\n",
       "    </tr>\n",
       "    <tr>\n",
       "      <th>3</th>\n",
       "      <td>-1.150316</td>\n",
       "      <td>-1.089686</td>\n",
       "      <td>0.226697</td>\n",
       "      <td>-1.095512</td>\n",
       "      <td>0.627510</td>\n",
       "      <td>-0.486429</td>\n",
       "      <td>-0.486429</td>\n",
       "      <td>-0.740811</td>\n",
       "      <td>-0.172954</td>\n",
       "      <td>-0.116445</td>\n",
       "      <td>...</td>\n",
       "      <td>-0.349691</td>\n",
       "      <td>-0.350008</td>\n",
       "      <td>-0.350008</td>\n",
       "      <td>-0.698257</td>\n",
       "      <td>0.881149</td>\n",
       "      <td>1.435578</td>\n",
       "      <td>-0.804750</td>\n",
       "      <td>0.726900</td>\n",
       "      <td>-0.349374</td>\n",
       "      <td>-0.351274</td>\n",
       "    </tr>\n",
       "    <tr>\n",
       "      <th>4</th>\n",
       "      <td>0.199020</td>\n",
       "      <td>0.994020</td>\n",
       "      <td>1.508110</td>\n",
       "      <td>1.532446</td>\n",
       "      <td>0.627510</td>\n",
       "      <td>-0.486429</td>\n",
       "      <td>-0.486429</td>\n",
       "      <td>1.349873</td>\n",
       "      <td>-0.172954</td>\n",
       "      <td>-0.116445</td>\n",
       "      <td>...</td>\n",
       "      <td>-0.349691</td>\n",
       "      <td>-0.350008</td>\n",
       "      <td>-0.350008</td>\n",
       "      <td>1.432138</td>\n",
       "      <td>-1.134882</td>\n",
       "      <td>-0.696584</td>\n",
       "      <td>1.242623</td>\n",
       "      <td>-1.375706</td>\n",
       "      <td>-0.349374</td>\n",
       "      <td>2.846782</td>\n",
       "    </tr>\n",
       "    <tr>\n",
       "      <th>...</th>\n",
       "      <td>...</td>\n",
       "      <td>...</td>\n",
       "      <td>...</td>\n",
       "      <td>...</td>\n",
       "      <td>...</td>\n",
       "      <td>...</td>\n",
       "      <td>...</td>\n",
       "      <td>...</td>\n",
       "      <td>...</td>\n",
       "      <td>...</td>\n",
       "      <td>...</td>\n",
       "      <td>...</td>\n",
       "      <td>...</td>\n",
       "      <td>...</td>\n",
       "      <td>...</td>\n",
       "      <td>...</td>\n",
       "      <td>...</td>\n",
       "      <td>...</td>\n",
       "      <td>...</td>\n",
       "      <td>...</td>\n",
       "      <td>...</td>\n",
       "    </tr>\n",
       "    <tr>\n",
       "      <th>5676</th>\n",
       "      <td>-0.466524</td>\n",
       "      <td>-1.127881</td>\n",
       "      <td>0.004727</td>\n",
       "      <td>0.099015</td>\n",
       "      <td>0.627510</td>\n",
       "      <td>-0.486429</td>\n",
       "      <td>-0.486429</td>\n",
       "      <td>1.349873</td>\n",
       "      <td>-0.172954</td>\n",
       "      <td>-0.116445</td>\n",
       "      <td>...</td>\n",
       "      <td>-0.349691</td>\n",
       "      <td>2.857079</td>\n",
       "      <td>-0.350008</td>\n",
       "      <td>-0.698257</td>\n",
       "      <td>0.881149</td>\n",
       "      <td>-0.696584</td>\n",
       "      <td>-0.804750</td>\n",
       "      <td>0.726900</td>\n",
       "      <td>-0.349374</td>\n",
       "      <td>-0.351274</td>\n",
       "    </tr>\n",
       "    <tr>\n",
       "      <th>5677</th>\n",
       "      <td>-1.089129</td>\n",
       "      <td>1.486457</td>\n",
       "      <td>0.455014</td>\n",
       "      <td>-1.334417</td>\n",
       "      <td>0.627510</td>\n",
       "      <td>-0.486429</td>\n",
       "      <td>-0.486429</td>\n",
       "      <td>1.349873</td>\n",
       "      <td>-0.172954</td>\n",
       "      <td>-0.116445</td>\n",
       "      <td>...</td>\n",
       "      <td>-0.349691</td>\n",
       "      <td>-0.350008</td>\n",
       "      <td>-0.350008</td>\n",
       "      <td>1.432138</td>\n",
       "      <td>-1.134882</td>\n",
       "      <td>-0.696584</td>\n",
       "      <td>1.242623</td>\n",
       "      <td>-1.375706</td>\n",
       "      <td>2.862264</td>\n",
       "      <td>-0.351274</td>\n",
       "    </tr>\n",
       "    <tr>\n",
       "      <th>5678</th>\n",
       "      <td>-0.573870</td>\n",
       "      <td>0.084095</td>\n",
       "      <td>-0.360485</td>\n",
       "      <td>-0.498248</td>\n",
       "      <td>-1.593601</td>\n",
       "      <td>2.055799</td>\n",
       "      <td>2.055799</td>\n",
       "      <td>-0.740811</td>\n",
       "      <td>-0.172954</td>\n",
       "      <td>-0.116445</td>\n",
       "      <td>...</td>\n",
       "      <td>2.859669</td>\n",
       "      <td>-0.350008</td>\n",
       "      <td>-0.350008</td>\n",
       "      <td>-0.698257</td>\n",
       "      <td>0.881149</td>\n",
       "      <td>1.435578</td>\n",
       "      <td>-0.804750</td>\n",
       "      <td>0.726900</td>\n",
       "      <td>-0.349374</td>\n",
       "      <td>-0.351274</td>\n",
       "    </tr>\n",
       "    <tr>\n",
       "      <th>5679</th>\n",
       "      <td>0.563996</td>\n",
       "      <td>0.383930</td>\n",
       "      <td>1.190844</td>\n",
       "      <td>-1.095512</td>\n",
       "      <td>0.627510</td>\n",
       "      <td>-0.486429</td>\n",
       "      <td>-0.486429</td>\n",
       "      <td>1.349873</td>\n",
       "      <td>-0.172954</td>\n",
       "      <td>-0.116445</td>\n",
       "      <td>...</td>\n",
       "      <td>-0.349691</td>\n",
       "      <td>-0.350008</td>\n",
       "      <td>-0.350008</td>\n",
       "      <td>-0.698257</td>\n",
       "      <td>0.881149</td>\n",
       "      <td>1.435578</td>\n",
       "      <td>-0.804750</td>\n",
       "      <td>0.726900</td>\n",
       "      <td>-0.349374</td>\n",
       "      <td>-0.351274</td>\n",
       "    </tr>\n",
       "    <tr>\n",
       "      <th>5680</th>\n",
       "      <td>-0.681215</td>\n",
       "      <td>0.713816</td>\n",
       "      <td>-0.990674</td>\n",
       "      <td>-0.498248</td>\n",
       "      <td>0.627510</td>\n",
       "      <td>-0.486429</td>\n",
       "      <td>-0.486429</td>\n",
       "      <td>1.349873</td>\n",
       "      <td>-0.172954</td>\n",
       "      <td>-0.116445</td>\n",
       "      <td>...</td>\n",
       "      <td>2.859669</td>\n",
       "      <td>-0.350008</td>\n",
       "      <td>-0.350008</td>\n",
       "      <td>-0.698257</td>\n",
       "      <td>0.881149</td>\n",
       "      <td>1.435578</td>\n",
       "      <td>-0.804750</td>\n",
       "      <td>0.726900</td>\n",
       "      <td>-0.349374</td>\n",
       "      <td>-0.351274</td>\n",
       "    </tr>\n",
       "  </tbody>\n",
       "</table>\n",
       "<p>5681 rows × 39 columns</p>\n",
       "</div>"
      ],
      "text/plain": [
       "            0         1         2         3         4         5         6   \\\n",
       "0     1.734064 -1.247634 -0.536555 -0.139891  0.627510 -0.486429 -0.486429   \n",
       "1    -0.938845 -0.624550 -0.868937 -1.095512  0.627510 -0.486429 -0.486429   \n",
       "2     0.413711  0.609940  1.629848 -0.020438 -1.593601  2.055799  2.055799   \n",
       "3    -1.150316 -1.089686  0.226697 -1.095512  0.627510 -0.486429 -0.486429   \n",
       "4     0.199020  0.994020  1.508110  1.532446  0.627510 -0.486429 -0.486429   \n",
       "...        ...       ...       ...       ...       ...       ...       ...   \n",
       "5676 -0.466524 -1.127881  0.004727  0.099015  0.627510 -0.486429 -0.486429   \n",
       "5677 -1.089129  1.486457  0.455014 -1.334417  0.627510 -0.486429 -0.486429   \n",
       "5678 -0.573870  0.084095 -0.360485 -0.498248 -1.593601  2.055799  2.055799   \n",
       "5679  0.563996  0.383930  1.190844 -1.095512  0.627510 -0.486429 -0.486429   \n",
       "5680 -0.681215  0.713816 -0.990674 -0.498248  0.627510 -0.486429 -0.486429   \n",
       "\n",
       "            7         8         9   ...        29        30        31  \\\n",
       "0    -0.740811 -0.172954 -0.116445  ... -0.349691 -0.350008  2.857079   \n",
       "1     1.349873 -0.172954 -0.116445  ... -0.349691 -0.350008 -0.350008   \n",
       "2    -0.740811 -0.172954 -0.116445  ... -0.349691 -0.350008 -0.350008   \n",
       "3    -0.740811 -0.172954 -0.116445  ... -0.349691 -0.350008 -0.350008   \n",
       "4     1.349873 -0.172954 -0.116445  ... -0.349691 -0.350008 -0.350008   \n",
       "...        ...       ...       ...  ...       ...       ...       ...   \n",
       "5676  1.349873 -0.172954 -0.116445  ... -0.349691  2.857079 -0.350008   \n",
       "5677  1.349873 -0.172954 -0.116445  ... -0.349691 -0.350008 -0.350008   \n",
       "5678 -0.740811 -0.172954 -0.116445  ...  2.859669 -0.350008 -0.350008   \n",
       "5679  1.349873 -0.172954 -0.116445  ... -0.349691 -0.350008 -0.350008   \n",
       "5680  1.349873 -0.172954 -0.116445  ...  2.859669 -0.350008 -0.350008   \n",
       "\n",
       "            32        33        34        35        36        37        38  \n",
       "0     1.432138 -1.134882 -0.696584 -0.804750  0.726900 -0.349374 -0.351274  \n",
       "1    -0.698257  0.881149  1.435578 -0.804750  0.726900 -0.349374 -0.351274  \n",
       "2    -0.698257  0.881149 -0.696584  1.242623 -1.375706 -0.349374 -0.351274  \n",
       "3    -0.698257  0.881149  1.435578 -0.804750  0.726900 -0.349374 -0.351274  \n",
       "4     1.432138 -1.134882 -0.696584  1.242623 -1.375706 -0.349374  2.846782  \n",
       "...        ...       ...       ...       ...       ...       ...       ...  \n",
       "5676 -0.698257  0.881149 -0.696584 -0.804750  0.726900 -0.349374 -0.351274  \n",
       "5677  1.432138 -1.134882 -0.696584  1.242623 -1.375706  2.862264 -0.351274  \n",
       "5678 -0.698257  0.881149  1.435578 -0.804750  0.726900 -0.349374 -0.351274  \n",
       "5679 -0.698257  0.881149  1.435578 -0.804750  0.726900 -0.349374 -0.351274  \n",
       "5680 -0.698257  0.881149  1.435578 -0.804750  0.726900 -0.349374 -0.351274  \n",
       "\n",
       "[5681 rows x 39 columns]"
      ]
     },
     "execution_count": 56,
     "metadata": {},
     "output_type": "execute_result"
    }
   ],
   "source": [
    "testX\n",
    "X=pd.DataFrame(data=testX)\n",
    "X"
   ]
  },
  {
   "cell_type": "code",
   "execution_count": 102,
   "metadata": {},
   "outputs": [
    {
     "data": {
      "text/html": [
       "<div>\n",
       "<style scoped>\n",
       "    .dataframe tbody tr th:only-of-type {\n",
       "        vertical-align: middle;\n",
       "    }\n",
       "\n",
       "    .dataframe tbody tr th {\n",
       "        vertical-align: top;\n",
       "    }\n",
       "\n",
       "    .dataframe thead th {\n",
       "        text-align: right;\n",
       "    }\n",
       "</style>\n",
       "<table border=\"1\" class=\"dataframe\">\n",
       "  <thead>\n",
       "    <tr style=\"text-align: right;\">\n",
       "      <th></th>\n",
       "      <th>Item_Identifier</th>\n",
       "      <th>Outlet_Identifier</th>\n",
       "      <th>Item_Outlet_Sales</th>\n",
       "    </tr>\n",
       "  </thead>\n",
       "  <tbody>\n",
       "    <tr>\n",
       "      <th>0</th>\n",
       "      <td>FDW58</td>\n",
       "      <td>OUT049</td>\n",
       "      <td>1713.796216</td>\n",
       "    </tr>\n",
       "    <tr>\n",
       "      <th>1</th>\n",
       "      <td>FDW14</td>\n",
       "      <td>OUT017</td>\n",
       "      <td>1392.991755</td>\n",
       "    </tr>\n",
       "    <tr>\n",
       "      <th>2</th>\n",
       "      <td>NCN55</td>\n",
       "      <td>OUT010</td>\n",
       "      <td>642.010795</td>\n",
       "    </tr>\n",
       "    <tr>\n",
       "      <th>3</th>\n",
       "      <td>FDQ58</td>\n",
       "      <td>OUT017</td>\n",
       "      <td>2528.171328</td>\n",
       "    </tr>\n",
       "    <tr>\n",
       "      <th>4</th>\n",
       "      <td>FDY38</td>\n",
       "      <td>OUT027</td>\n",
       "      <td>6154.178457</td>\n",
       "    </tr>\n",
       "    <tr>\n",
       "      <th>...</th>\n",
       "      <td>...</td>\n",
       "      <td>...</td>\n",
       "      <td>...</td>\n",
       "    </tr>\n",
       "    <tr>\n",
       "      <th>5676</th>\n",
       "      <td>FDB58</td>\n",
       "      <td>OUT046</td>\n",
       "      <td>2197.206025</td>\n",
       "    </tr>\n",
       "    <tr>\n",
       "      <th>5677</th>\n",
       "      <td>FDD47</td>\n",
       "      <td>OUT018</td>\n",
       "      <td>2425.820622</td>\n",
       "    </tr>\n",
       "    <tr>\n",
       "      <th>5678</th>\n",
       "      <td>NCO17</td>\n",
       "      <td>OUT045</td>\n",
       "      <td>1888.844117</td>\n",
       "    </tr>\n",
       "    <tr>\n",
       "      <th>5679</th>\n",
       "      <td>FDJ26</td>\n",
       "      <td>OUT017</td>\n",
       "      <td>3750.936301</td>\n",
       "    </tr>\n",
       "    <tr>\n",
       "      <th>5680</th>\n",
       "      <td>FDU37</td>\n",
       "      <td>OUT045</td>\n",
       "      <td>1361.945853</td>\n",
       "    </tr>\n",
       "  </tbody>\n",
       "</table>\n",
       "<p>5681 rows × 3 columns</p>\n",
       "</div>"
      ],
      "text/plain": [
       "     Item_Identifier Outlet_Identifier  Item_Outlet_Sales\n",
       "0              FDW58            OUT049        1713.796216\n",
       "1              FDW14            OUT017        1392.991755\n",
       "2              NCN55            OUT010         642.010795\n",
       "3              FDQ58            OUT017        2528.171328\n",
       "4              FDY38            OUT027        6154.178457\n",
       "...              ...               ...                ...\n",
       "5676           FDB58            OUT046        2197.206025\n",
       "5677           FDD47            OUT018        2425.820622\n",
       "5678           NCO17            OUT045        1888.844117\n",
       "5679           FDJ26            OUT017        3750.936301\n",
       "5680           FDU37            OUT045        1361.945853\n",
       "\n",
       "[5681 rows x 3 columns]"
      ]
     },
     "execution_count": 102,
     "metadata": {},
     "output_type": "execute_result"
    }
   ],
   "source": [
    "# fitting the best model on test dataset\n",
    "pred_test=sc_y.inverse_transform(regressor.predict(testX))\n",
    "pred=pred_test.reshape(len(pred_test),1)\n",
    "pred\n",
    "new1 = pd.DataFrame(pred, columns = ['Item_Outlet_Sales'])\n",
    "data1 = [new['Item_Identifier'],new['Outlet_Identifier'], new1[\"Item_Outlet_Sales\"]]\n",
    "\n",
    "headers = ['Item_Identifier','Outlet_Identifier','Item_Outlet_Sales']\n",
    "\n",
    "df = pd.concat(data1, axis=1, keys=headers)\n",
    "df"
   ]
  },
  {
   "cell_type": "code",
   "execution_count": 103,
   "metadata": {},
   "outputs": [],
   "source": [
    "df['Item_Outlet_Sales']=abs(df['Item_Outlet_Sales'])"
   ]
  },
  {
   "cell_type": "code",
   "execution_count": 104,
   "metadata": {},
   "outputs": [],
   "source": [
    "df.to_csv('filerf3.csv')"
   ]
  }
 ],
 "metadata": {
  "kernelspec": {
   "display_name": "Python 3",
   "language": "python",
   "name": "python3"
  },
  "language_info": {
   "codemirror_mode": {
    "name": "ipython",
    "version": 3
   },
   "file_extension": ".py",
   "mimetype": "text/x-python",
   "name": "python",
   "nbconvert_exporter": "python",
   "pygments_lexer": "ipython3",
   "version": "3.8.5"
  }
 },
 "nbformat": 4,
 "nbformat_minor": 4
}
