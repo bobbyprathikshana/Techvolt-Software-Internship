{
 "cells": [
  {
   "cell_type": "markdown",
   "metadata": {},
   "source": [
    "# Importing the Libraries"
   ]
  },
  {
   "cell_type": "code",
   "execution_count": 1,
   "metadata": {},
   "outputs": [],
   "source": [
    "import pandas as pd\n",
    "import numpy as np\n",
    "import warnings\n",
    "from scipy.stats import mode\n",
    "import datetime\n",
    "from sklearn.preprocessing import StandardScaler,PolynomialFeatures, LabelEncoder\n",
    "from sklearn import model_selection\n",
    "from sklearn.model_selection import train_test_split\n",
    "from sklearn.model_selection import GridSearchCV\n",
    "from sklearn import svm\n",
    "from sklearn.neighbors import KNeighborsRegressor\n",
    "from sklearn.tree import DecisionTreeRegressor\n",
    "from sklearn.ensemble import GradientBoostingRegressor\n",
    "from sklearn.linear_model import LinearRegression\n",
    "from sklearn.linear_model import Ridge\n",
    "from sklearn.linear_model import Lasso\n",
    "from sklearn.metrics import r2_score\n",
    "from sklearn.metrics import mean_squared_error\n",
    "from math import sqrt\n",
    "from mpl_toolkits.mplot3d import Axes3D\n",
    "from sklearn import tree\n",
    "import matplotlib.pyplot as plt\n",
    "import seaborn as sns\n",
    "\n",
    "%matplotlib inline"
   ]
  },
  {
   "cell_type": "code",
   "execution_count": 2,
   "metadata": {},
   "outputs": [],
   "source": [
    "plt.rcParams[\"figure.figsize\"] = (10,7)"
   ]
  },
  {
   "cell_type": "markdown",
   "metadata": {},
   "source": [
    "# Loading the Dataset"
   ]
  },
  {
   "cell_type": "code",
   "execution_count": 3,
   "metadata": {},
   "outputs": [],
   "source": [
    "train=pd.read_csv('Train.csv')\n",
    "test=pd.read_csv('Test.csv')"
   ]
  },
  {
   "cell_type": "code",
   "execution_count": 4,
   "metadata": {},
   "outputs": [],
   "source": [
    "train['source'] = 'train'\n",
    "test['source'] = 'test'\n",
    "\n",
    "# combining the test and train datasets\n",
    "data = pd.concat([train, test], ignore_index=True)\n"
   ]
  },
  {
   "cell_type": "markdown",
   "metadata": {},
   "source": [
    "# Understanding the dataset"
   ]
  },
  {
   "cell_type": "code",
   "execution_count": 5,
   "metadata": {},
   "outputs": [
    {
     "data": {
      "text/html": [
       "<div>\n",
       "<style scoped>\n",
       "    .dataframe tbody tr th:only-of-type {\n",
       "        vertical-align: middle;\n",
       "    }\n",
       "\n",
       "    .dataframe tbody tr th {\n",
       "        vertical-align: top;\n",
       "    }\n",
       "\n",
       "    .dataframe thead th {\n",
       "        text-align: right;\n",
       "    }\n",
       "</style>\n",
       "<table border=\"1\" class=\"dataframe\">\n",
       "  <thead>\n",
       "    <tr style=\"text-align: right;\">\n",
       "      <th></th>\n",
       "      <th>ID</th>\n",
       "      <th>Tag</th>\n",
       "      <th>Reputation</th>\n",
       "      <th>Answers</th>\n",
       "      <th>Username</th>\n",
       "      <th>Views</th>\n",
       "      <th>Upvotes</th>\n",
       "      <th>source</th>\n",
       "    </tr>\n",
       "  </thead>\n",
       "  <tbody>\n",
       "    <tr>\n",
       "      <th>0</th>\n",
       "      <td>52664</td>\n",
       "      <td>a</td>\n",
       "      <td>3942.0</td>\n",
       "      <td>2.0</td>\n",
       "      <td>155623</td>\n",
       "      <td>7855.0</td>\n",
       "      <td>42.0</td>\n",
       "      <td>train</td>\n",
       "    </tr>\n",
       "    <tr>\n",
       "      <th>1</th>\n",
       "      <td>327662</td>\n",
       "      <td>a</td>\n",
       "      <td>26046.0</td>\n",
       "      <td>12.0</td>\n",
       "      <td>21781</td>\n",
       "      <td>55801.0</td>\n",
       "      <td>1175.0</td>\n",
       "      <td>train</td>\n",
       "    </tr>\n",
       "    <tr>\n",
       "      <th>2</th>\n",
       "      <td>468453</td>\n",
       "      <td>c</td>\n",
       "      <td>1358.0</td>\n",
       "      <td>4.0</td>\n",
       "      <td>56177</td>\n",
       "      <td>8067.0</td>\n",
       "      <td>60.0</td>\n",
       "      <td>train</td>\n",
       "    </tr>\n",
       "    <tr>\n",
       "      <th>3</th>\n",
       "      <td>96996</td>\n",
       "      <td>a</td>\n",
       "      <td>264.0</td>\n",
       "      <td>3.0</td>\n",
       "      <td>168793</td>\n",
       "      <td>27064.0</td>\n",
       "      <td>9.0</td>\n",
       "      <td>train</td>\n",
       "    </tr>\n",
       "    <tr>\n",
       "      <th>4</th>\n",
       "      <td>131465</td>\n",
       "      <td>c</td>\n",
       "      <td>4271.0</td>\n",
       "      <td>4.0</td>\n",
       "      <td>112223</td>\n",
       "      <td>13986.0</td>\n",
       "      <td>83.0</td>\n",
       "      <td>train</td>\n",
       "    </tr>\n",
       "  </tbody>\n",
       "</table>\n",
       "</div>"
      ],
      "text/plain": [
       "       ID Tag  Reputation  Answers  Username    Views  Upvotes source\n",
       "0   52664   a      3942.0      2.0    155623   7855.0     42.0  train\n",
       "1  327662   a     26046.0     12.0     21781  55801.0   1175.0  train\n",
       "2  468453   c      1358.0      4.0     56177   8067.0     60.0  train\n",
       "3   96996   a       264.0      3.0    168793  27064.0      9.0  train\n",
       "4  131465   c      4271.0      4.0    112223  13986.0     83.0  train"
      ]
     },
     "execution_count": 5,
     "metadata": {},
     "output_type": "execute_result"
    }
   ],
   "source": [
    "train.head()"
   ]
  },
  {
   "cell_type": "code",
   "execution_count": 6,
   "metadata": {},
   "outputs": [
    {
     "data": {
      "text/html": [
       "<div>\n",
       "<style scoped>\n",
       "    .dataframe tbody tr th:only-of-type {\n",
       "        vertical-align: middle;\n",
       "    }\n",
       "\n",
       "    .dataframe tbody tr th {\n",
       "        vertical-align: top;\n",
       "    }\n",
       "\n",
       "    .dataframe thead th {\n",
       "        text-align: right;\n",
       "    }\n",
       "</style>\n",
       "<table border=\"1\" class=\"dataframe\">\n",
       "  <thead>\n",
       "    <tr style=\"text-align: right;\">\n",
       "      <th></th>\n",
       "      <th>ID</th>\n",
       "      <th>Tag</th>\n",
       "      <th>Reputation</th>\n",
       "      <th>Answers</th>\n",
       "      <th>Username</th>\n",
       "      <th>Views</th>\n",
       "      <th>source</th>\n",
       "    </tr>\n",
       "  </thead>\n",
       "  <tbody>\n",
       "    <tr>\n",
       "      <th>0</th>\n",
       "      <td>366953</td>\n",
       "      <td>a</td>\n",
       "      <td>5645.0</td>\n",
       "      <td>3.0</td>\n",
       "      <td>50652</td>\n",
       "      <td>33200.0</td>\n",
       "      <td>test</td>\n",
       "    </tr>\n",
       "    <tr>\n",
       "      <th>1</th>\n",
       "      <td>71864</td>\n",
       "      <td>c</td>\n",
       "      <td>24511.0</td>\n",
       "      <td>6.0</td>\n",
       "      <td>37685</td>\n",
       "      <td>2730.0</td>\n",
       "      <td>test</td>\n",
       "    </tr>\n",
       "    <tr>\n",
       "      <th>2</th>\n",
       "      <td>141692</td>\n",
       "      <td>i</td>\n",
       "      <td>927.0</td>\n",
       "      <td>1.0</td>\n",
       "      <td>135293</td>\n",
       "      <td>21167.0</td>\n",
       "      <td>test</td>\n",
       "    </tr>\n",
       "    <tr>\n",
       "      <th>3</th>\n",
       "      <td>316833</td>\n",
       "      <td>i</td>\n",
       "      <td>21.0</td>\n",
       "      <td>6.0</td>\n",
       "      <td>166998</td>\n",
       "      <td>18528.0</td>\n",
       "      <td>test</td>\n",
       "    </tr>\n",
       "    <tr>\n",
       "      <th>4</th>\n",
       "      <td>440445</td>\n",
       "      <td>i</td>\n",
       "      <td>4475.0</td>\n",
       "      <td>10.0</td>\n",
       "      <td>53504</td>\n",
       "      <td>57240.0</td>\n",
       "      <td>test</td>\n",
       "    </tr>\n",
       "  </tbody>\n",
       "</table>\n",
       "</div>"
      ],
      "text/plain": [
       "       ID Tag  Reputation  Answers  Username    Views source\n",
       "0  366953   a      5645.0      3.0     50652  33200.0   test\n",
       "1   71864   c     24511.0      6.0     37685   2730.0   test\n",
       "2  141692   i       927.0      1.0    135293  21167.0   test\n",
       "3  316833   i        21.0      6.0    166998  18528.0   test\n",
       "4  440445   i      4475.0     10.0     53504  57240.0   test"
      ]
     },
     "execution_count": 6,
     "metadata": {},
     "output_type": "execute_result"
    }
   ],
   "source": [
    "test.head()"
   ]
  },
  {
   "cell_type": "code",
   "execution_count": 7,
   "metadata": {},
   "outputs": [
    {
     "data": {
      "text/html": [
       "<div>\n",
       "<style scoped>\n",
       "    .dataframe tbody tr th:only-of-type {\n",
       "        vertical-align: middle;\n",
       "    }\n",
       "\n",
       "    .dataframe tbody tr th {\n",
       "        vertical-align: top;\n",
       "    }\n",
       "\n",
       "    .dataframe thead th {\n",
       "        text-align: right;\n",
       "    }\n",
       "</style>\n",
       "<table border=\"1\" class=\"dataframe\">\n",
       "  <thead>\n",
       "    <tr style=\"text-align: right;\">\n",
       "      <th></th>\n",
       "      <th>ID</th>\n",
       "      <th>Tag</th>\n",
       "      <th>Reputation</th>\n",
       "      <th>Answers</th>\n",
       "      <th>Username</th>\n",
       "      <th>Views</th>\n",
       "      <th>Upvotes</th>\n",
       "      <th>source</th>\n",
       "    </tr>\n",
       "  </thead>\n",
       "  <tbody>\n",
       "    <tr>\n",
       "      <th>0</th>\n",
       "      <td>52664</td>\n",
       "      <td>a</td>\n",
       "      <td>3942.0</td>\n",
       "      <td>2.0</td>\n",
       "      <td>155623</td>\n",
       "      <td>7855.0</td>\n",
       "      <td>42.0</td>\n",
       "      <td>train</td>\n",
       "    </tr>\n",
       "    <tr>\n",
       "      <th>1</th>\n",
       "      <td>327662</td>\n",
       "      <td>a</td>\n",
       "      <td>26046.0</td>\n",
       "      <td>12.0</td>\n",
       "      <td>21781</td>\n",
       "      <td>55801.0</td>\n",
       "      <td>1175.0</td>\n",
       "      <td>train</td>\n",
       "    </tr>\n",
       "    <tr>\n",
       "      <th>2</th>\n",
       "      <td>468453</td>\n",
       "      <td>c</td>\n",
       "      <td>1358.0</td>\n",
       "      <td>4.0</td>\n",
       "      <td>56177</td>\n",
       "      <td>8067.0</td>\n",
       "      <td>60.0</td>\n",
       "      <td>train</td>\n",
       "    </tr>\n",
       "    <tr>\n",
       "      <th>3</th>\n",
       "      <td>96996</td>\n",
       "      <td>a</td>\n",
       "      <td>264.0</td>\n",
       "      <td>3.0</td>\n",
       "      <td>168793</td>\n",
       "      <td>27064.0</td>\n",
       "      <td>9.0</td>\n",
       "      <td>train</td>\n",
       "    </tr>\n",
       "    <tr>\n",
       "      <th>4</th>\n",
       "      <td>131465</td>\n",
       "      <td>c</td>\n",
       "      <td>4271.0</td>\n",
       "      <td>4.0</td>\n",
       "      <td>112223</td>\n",
       "      <td>13986.0</td>\n",
       "      <td>83.0</td>\n",
       "      <td>train</td>\n",
       "    </tr>\n",
       "  </tbody>\n",
       "</table>\n",
       "</div>"
      ],
      "text/plain": [
       "       ID Tag  Reputation  Answers  Username    Views  Upvotes source\n",
       "0   52664   a      3942.0      2.0    155623   7855.0     42.0  train\n",
       "1  327662   a     26046.0     12.0     21781  55801.0   1175.0  train\n",
       "2  468453   c      1358.0      4.0     56177   8067.0     60.0  train\n",
       "3   96996   a       264.0      3.0    168793  27064.0      9.0  train\n",
       "4  131465   c      4271.0      4.0    112223  13986.0     83.0  train"
      ]
     },
     "execution_count": 7,
     "metadata": {},
     "output_type": "execute_result"
    }
   ],
   "source": [
    "data.head()"
   ]
  },
  {
   "cell_type": "code",
   "execution_count": 8,
   "metadata": {},
   "outputs": [
    {
     "name": "stdout",
     "output_type": "stream",
     "text": [
      "<class 'pandas.core.frame.DataFrame'>\n",
      "RangeIndex: 330045 entries, 0 to 330044\n",
      "Data columns (total 8 columns):\n",
      " #   Column      Non-Null Count   Dtype  \n",
      "---  ------      --------------   -----  \n",
      " 0   ID          330045 non-null  int64  \n",
      " 1   Tag         330045 non-null  object \n",
      " 2   Reputation  330045 non-null  float64\n",
      " 3   Answers     330045 non-null  float64\n",
      " 4   Username    330045 non-null  int64  \n",
      " 5   Views       330045 non-null  float64\n",
      " 6   Upvotes     330045 non-null  float64\n",
      " 7   source      330045 non-null  object \n",
      "dtypes: float64(4), int64(2), object(2)\n",
      "memory usage: 20.1+ MB\n"
     ]
    }
   ],
   "source": [
    "train.info()"
   ]
  },
  {
   "cell_type": "raw",
   "metadata": {},
   "source": [
    "Inference:\n",
    "1. The dataset contains 7 columns out of which 6 are inpendent variables and upvotes is the dependent variable.\n",
    "2. The dataset is clean and does not contain any missing values.\n",
    "3. Tag is the only categorical variable and needs to be encoded."
   ]
  },
  {
   "cell_type": "code",
   "execution_count": 9,
   "metadata": {},
   "outputs": [
    {
     "data": {
      "text/html": [
       "<div>\n",
       "<style scoped>\n",
       "    .dataframe tbody tr th:only-of-type {\n",
       "        vertical-align: middle;\n",
       "    }\n",
       "\n",
       "    .dataframe tbody tr th {\n",
       "        vertical-align: top;\n",
       "    }\n",
       "\n",
       "    .dataframe thead th {\n",
       "        text-align: right;\n",
       "    }\n",
       "</style>\n",
       "<table border=\"1\" class=\"dataframe\">\n",
       "  <thead>\n",
       "    <tr style=\"text-align: right;\">\n",
       "      <th></th>\n",
       "      <th>ID</th>\n",
       "      <th>Reputation</th>\n",
       "      <th>Answers</th>\n",
       "      <th>Username</th>\n",
       "      <th>Views</th>\n",
       "      <th>Upvotes</th>\n",
       "    </tr>\n",
       "  </thead>\n",
       "  <tbody>\n",
       "    <tr>\n",
       "      <th>count</th>\n",
       "      <td>330045.000000</td>\n",
       "      <td>3.300450e+05</td>\n",
       "      <td>330045.000000</td>\n",
       "      <td>330045.000000</td>\n",
       "      <td>3.300450e+05</td>\n",
       "      <td>330045.000000</td>\n",
       "    </tr>\n",
       "    <tr>\n",
       "      <th>mean</th>\n",
       "      <td>235748.682789</td>\n",
       "      <td>7.773147e+03</td>\n",
       "      <td>3.917672</td>\n",
       "      <td>81442.888803</td>\n",
       "      <td>2.964507e+04</td>\n",
       "      <td>337.505358</td>\n",
       "    </tr>\n",
       "    <tr>\n",
       "      <th>std</th>\n",
       "      <td>136039.418471</td>\n",
       "      <td>2.706141e+04</td>\n",
       "      <td>3.579515</td>\n",
       "      <td>49215.100730</td>\n",
       "      <td>8.095646e+04</td>\n",
       "      <td>3592.441135</td>\n",
       "    </tr>\n",
       "    <tr>\n",
       "      <th>min</th>\n",
       "      <td>1.000000</td>\n",
       "      <td>0.000000e+00</td>\n",
       "      <td>0.000000</td>\n",
       "      <td>0.000000</td>\n",
       "      <td>9.000000e+00</td>\n",
       "      <td>0.000000</td>\n",
       "    </tr>\n",
       "    <tr>\n",
       "      <th>25%</th>\n",
       "      <td>117909.000000</td>\n",
       "      <td>2.820000e+02</td>\n",
       "      <td>2.000000</td>\n",
       "      <td>39808.000000</td>\n",
       "      <td>2.594000e+03</td>\n",
       "      <td>8.000000</td>\n",
       "    </tr>\n",
       "    <tr>\n",
       "      <th>50%</th>\n",
       "      <td>235699.000000</td>\n",
       "      <td>1.236000e+03</td>\n",
       "      <td>3.000000</td>\n",
       "      <td>79010.000000</td>\n",
       "      <td>8.954000e+03</td>\n",
       "      <td>28.000000</td>\n",
       "    </tr>\n",
       "    <tr>\n",
       "      <th>75%</th>\n",
       "      <td>353620.000000</td>\n",
       "      <td>5.118000e+03</td>\n",
       "      <td>5.000000</td>\n",
       "      <td>122559.000000</td>\n",
       "      <td>2.687000e+04</td>\n",
       "      <td>107.000000</td>\n",
       "    </tr>\n",
       "    <tr>\n",
       "      <th>max</th>\n",
       "      <td>471493.000000</td>\n",
       "      <td>1.042428e+06</td>\n",
       "      <td>76.000000</td>\n",
       "      <td>175738.000000</td>\n",
       "      <td>5.231058e+06</td>\n",
       "      <td>615278.000000</td>\n",
       "    </tr>\n",
       "  </tbody>\n",
       "</table>\n",
       "</div>"
      ],
      "text/plain": [
       "                  ID    Reputation        Answers       Username  \\\n",
       "count  330045.000000  3.300450e+05  330045.000000  330045.000000   \n",
       "mean   235748.682789  7.773147e+03       3.917672   81442.888803   \n",
       "std    136039.418471  2.706141e+04       3.579515   49215.100730   \n",
       "min         1.000000  0.000000e+00       0.000000       0.000000   \n",
       "25%    117909.000000  2.820000e+02       2.000000   39808.000000   \n",
       "50%    235699.000000  1.236000e+03       3.000000   79010.000000   \n",
       "75%    353620.000000  5.118000e+03       5.000000  122559.000000   \n",
       "max    471493.000000  1.042428e+06      76.000000  175738.000000   \n",
       "\n",
       "              Views        Upvotes  \n",
       "count  3.300450e+05  330045.000000  \n",
       "mean   2.964507e+04     337.505358  \n",
       "std    8.095646e+04    3592.441135  \n",
       "min    9.000000e+00       0.000000  \n",
       "25%    2.594000e+03       8.000000  \n",
       "50%    8.954000e+03      28.000000  \n",
       "75%    2.687000e+04     107.000000  \n",
       "max    5.231058e+06  615278.000000  "
      ]
     },
     "execution_count": 9,
     "metadata": {},
     "output_type": "execute_result"
    }
   ],
   "source": [
    "train.describe()"
   ]
  },
  {
   "cell_type": "raw",
   "metadata": {},
   "source": [
    "inference:\n",
    "1. There are questions with 0 upvotes.\n",
    "2. There are question authors with a least reputation score of 0.\n",
    "3. Maximum of 76 answers have been recorded for a particular question.\n",
    "4. Maximum of 615,278.00 upvotes and 5,231,058.00 views have been recorded for a few questions.\n",
    "5. The average of upvotes obtained by all the questions is just 337.51 and requires further inference for better understanding."
   ]
  },
  {
   "cell_type": "markdown",
   "metadata": {},
   "source": [
    "# Exploratory Data Analysis"
   ]
  },
  {
   "cell_type": "code",
   "execution_count": 10,
   "metadata": {},
   "outputs": [
    {
     "data": {
      "text/plain": [
       "Text(0.5, 1, 'Fig:0.1 Correlation Plot')"
      ]
     },
     "execution_count": 10,
     "metadata": {},
     "output_type": "execute_result"
    },
    {
     "data": {
      "image/png": "[encoded data removed]",
      "text/plain": [
       "<Figure size 720x504 with 2 Axes>"
      ]
     },
     "metadata": {
      "needs_background": "light"
     },
     "output_type": "display_data"
    }
   ],
   "source": [
    "#correlation plot\n",
    "sns.heatmap(data.corr(),annot=True,cmap='Greens')\n",
    "plt.title(\"Fig:0.1 Correlation Plot\")"
   ]
  },
  {
   "cell_type": "raw",
   "metadata": {},
   "source": [
    "Inference:\n",
    "1. Views is the most correlated feature with the target variable upvotes.\n",
    "2. This is followed by reputation and answers.\n",
    "3. Views and Answers shows a good correlation of .5\n",
    "4. ID and Username are the least correlated features with Upvotes and can be excluded from the predictor variables."
   ]
  },
  {
   "cell_type": "code",
   "execution_count": 11,
   "metadata": {},
   "outputs": [
    {
     "data": {
      "text/plain": [
       "Text(0.5, 1.0, 'Fig:1.1 Distribution Plot of Reputation')"
      ]
     },
     "execution_count": 11,
     "metadata": {},
     "output_type": "execute_result"
    },
    {
     "data": {
      "image/png": "[encoded data removed]",
      "text/plain": [
       "<Figure size 720x504 with 1 Axes>"
      ]
     },
     "metadata": {
      "needs_background": "light"
     },
     "output_type": "display_data"
    }
   ],
   "source": [
    "#finding the distribution of reputation values\n",
    "sns.distplot(train['Reputation'],color='green')\n",
    "plt.title(\"Fig:1.1 Distribution Plot of Reputation\")"
   ]
  },
  {
   "cell_type": "code",
   "execution_count": 12,
   "metadata": {},
   "outputs": [
    {
     "data": {
      "text/plain": [
       "Text(0.5, 1.0, 'Fig:1.2 Distribution Plot of Answers')"
      ]
     },
     "execution_count": 12,
     "metadata": {},
     "output_type": "execute_result"
    },
    {
     "data": {
      "image/png": "[encoded data removed]",
      "text/plain": [
       "<Figure size 720x504 with 1 Axes>"
      ]
     },
     "metadata": {
      "needs_background": "light"
     },
     "output_type": "display_data"
    }
   ],
   "source": [
    "#finding the distribution of number of answers\n",
    "sns.distplot(train['Answers'],color='green')\n",
    "plt.title(\"Fig:1.2 Distribution Plot of Answers\")"
   ]
  },
  {
   "cell_type": "code",
   "execution_count": 13,
   "metadata": {},
   "outputs": [
    {
     "data": {
      "text/plain": [
       "Text(0.5, 1.0, 'Fig:1.3 Distribution Plot of Views')"
      ]
     },
     "execution_count": 13,
     "metadata": {},
     "output_type": "execute_result"
    },
    {
     "data": {
      "image/png": "[encoded data removed]",
      "text/plain": [
       "<Figure size 720x504 with 1 Axes>"
      ]
     },
     "metadata": {
      "needs_background": "light"
     },
     "output_type": "display_data"
    }
   ],
   "source": [
    "#finding the distribution of number of views\n",
    "sns.distplot(train['Views'],color='green')\n",
    "plt.title(\"Fig:1.3 Distribution Plot of Views\")"
   ]
  },
  {
   "cell_type": "raw",
   "metadata": {},
   "source": [
    "Inference:\n",
    "1. Most of the values in Reputation, answers and views columns lies in he range of 0 - 10000, 0 - 10, 0 - 100000 respectively.\n",
    "2. Most of the questions posted by authors didn't have any value and didn't contribute much.\n",
    "3. Only a very less number of questions marks a significant value in getting more upvotes."
   ]
  },
  {
   "cell_type": "code",
   "execution_count": 14,
   "metadata": {},
   "outputs": [],
   "source": [
    "pd.options.display.float_format = \"{:,.2f}\".format"
   ]
  },
  {
   "cell_type": "code",
   "execution_count": 15,
   "metadata": {},
   "outputs": [
    {
     "name": "stdout",
     "output_type": "stream",
     "text": [
      "ID 330045\n",
      "Tag 10\n",
      "Reputation 16527\n",
      "Answers 63\n",
      "Username 141802\n",
      "Views 82137\n",
      "Upvotes 7239\n",
      "source 1\n"
     ]
    }
   ],
   "source": [
    "#number of unique values in each of the columns\n",
    "for i in train.columns:\n",
    "    print(i,train[i].nunique())"
   ]
  },
  {
   "cell_type": "raw",
   "metadata": {},
   "source": [
    "Inference:\n",
    "1. Tag is a categorical variable and the total number of questions is divided into 10 categories.\n",
    "2. There are only 141802 unique authors and there could be many authors who should have posted more than 1 question."
   ]
  },
  {
   "cell_type": "code",
   "execution_count": 16,
   "metadata": {},
   "outputs": [
    {
     "data": {
      "text/plain": [
       "Username\n",
       "4118     797\n",
       "17878    608\n",
       "45704    483\n",
       "23223    413\n",
       "6697     408\n",
       "62142    408\n",
       "94185    391\n",
       "59362    355\n",
       "61217    337\n",
       "41953    328\n",
       "dtype: int64"
      ]
     },
     "execution_count": 16,
     "metadata": {},
     "output_type": "execute_result"
    },
    {
     "data": {
      "image/png": "[encoded data removed]",
      "text/plain": [
       "<Figure size 720x504 with 1 Axes>"
      ]
     },
     "metadata": {
      "needs_background": "light"
     },
     "output_type": "display_data"
    }
   ],
   "source": [
    "#plotting the top 10 authors with max questions\n",
    "user_size=train.groupby('Username').size().nlargest(10,)\n",
    "user_size.plot(kind='bar',color='green')\n",
    "plt.title(\"Fig:2.1 Plot of Top 10 authors with maximum questions\")\n",
    "plt.ylabel(\"Count of questions\")\n",
    "user_size"
   ]
  },
  {
   "cell_type": "raw",
   "metadata": {},
   "source": [
    "Inference:\n",
    "1. Maximum of 797 questions have been posted by a single author followed by 608 questions posted by another author."
   ]
  },
  {
   "cell_type": "code",
   "execution_count": 17,
   "metadata": {},
   "outputs": [],
   "source": [
    "#top users and their contribution to total upvotes\n",
    "def user_tab(end_range,count):\n",
    "    username_table=pd.DataFrame(columns=['Top Users','Contribution to upvotes(%)'])\n",
    "    for i in range(0,end_range,count):\n",
    "        username_group=train.groupby('Username').sum()\n",
    "        username_graph=username_group.nlargest(i,['Upvotes'])\n",
    "        num=username_graph['Upvotes'].sum()\n",
    "        tot=train['Upvotes'].sum()\n",
    "        acc=(num/tot)*100\n",
    "        username_table=username_table.append({'Top Users':i,'Contribution to upvotes(%)':acc},ignore_index=True)\n",
    "    return username_table\n"
   ]
  },
  {
   "cell_type": "code",
   "execution_count": 18,
   "metadata": {},
   "outputs": [
    {
     "data": {
      "text/html": [
       "<div>\n",
       "<style scoped>\n",
       "    .dataframe tbody tr th:only-of-type {\n",
       "        vertical-align: middle;\n",
       "    }\n",
       "\n",
       "    .dataframe tbody tr th {\n",
       "        vertical-align: top;\n",
       "    }\n",
       "\n",
       "    .dataframe thead th {\n",
       "        text-align: right;\n",
       "    }\n",
       "</style>\n",
       "<table border=\"1\" class=\"dataframe\">\n",
       "  <thead>\n",
       "    <tr style=\"text-align: right;\">\n",
       "      <th></th>\n",
       "      <th>Top Users</th>\n",
       "      <th>Contribution to upvotes(%)</th>\n",
       "    </tr>\n",
       "  </thead>\n",
       "  <tbody>\n",
       "    <tr>\n",
       "      <th>0</th>\n",
       "      <td>0.00</td>\n",
       "      <td>0.00</td>\n",
       "    </tr>\n",
       "    <tr>\n",
       "      <th>1</th>\n",
       "      <td>25.00</td>\n",
       "      <td>16.26</td>\n",
       "    </tr>\n",
       "    <tr>\n",
       "      <th>2</th>\n",
       "      <td>50.00</td>\n",
       "      <td>23.47</td>\n",
       "    </tr>\n",
       "    <tr>\n",
       "      <th>3</th>\n",
       "      <td>75.00</td>\n",
       "      <td>27.60</td>\n",
       "    </tr>\n",
       "    <tr>\n",
       "      <th>4</th>\n",
       "      <td>100.00</td>\n",
       "      <td>30.79</td>\n",
       "    </tr>\n",
       "    <tr>\n",
       "      <th>5</th>\n",
       "      <td>125.00</td>\n",
       "      <td>33.45</td>\n",
       "    </tr>\n",
       "    <tr>\n",
       "      <th>6</th>\n",
       "      <td>150.00</td>\n",
       "      <td>35.74</td>\n",
       "    </tr>\n",
       "    <tr>\n",
       "      <th>7</th>\n",
       "      <td>175.00</td>\n",
       "      <td>37.80</td>\n",
       "    </tr>\n",
       "    <tr>\n",
       "      <th>8</th>\n",
       "      <td>200.00</td>\n",
       "      <td>39.63</td>\n",
       "    </tr>\n",
       "    <tr>\n",
       "      <th>9</th>\n",
       "      <td>225.00</td>\n",
       "      <td>41.28</td>\n",
       "    </tr>\n",
       "    <tr>\n",
       "      <th>10</th>\n",
       "      <td>250.00</td>\n",
       "      <td>42.76</td>\n",
       "    </tr>\n",
       "    <tr>\n",
       "      <th>11</th>\n",
       "      <td>275.00</td>\n",
       "      <td>44.13</td>\n",
       "    </tr>\n",
       "    <tr>\n",
       "      <th>12</th>\n",
       "      <td>300.00</td>\n",
       "      <td>45.40</td>\n",
       "    </tr>\n",
       "    <tr>\n",
       "      <th>13</th>\n",
       "      <td>325.00</td>\n",
       "      <td>46.57</td>\n",
       "    </tr>\n",
       "    <tr>\n",
       "      <th>14</th>\n",
       "      <td>350.00</td>\n",
       "      <td>47.68</td>\n",
       "    </tr>\n",
       "    <tr>\n",
       "      <th>15</th>\n",
       "      <td>375.00</td>\n",
       "      <td>48.73</td>\n",
       "    </tr>\n",
       "    <tr>\n",
       "      <th>16</th>\n",
       "      <td>400.00</td>\n",
       "      <td>49.74</td>\n",
       "    </tr>\n",
       "    <tr>\n",
       "      <th>17</th>\n",
       "      <td>425.00</td>\n",
       "      <td>50.69</td>\n",
       "    </tr>\n",
       "    <tr>\n",
       "      <th>18</th>\n",
       "      <td>450.00</td>\n",
       "      <td>51.60</td>\n",
       "    </tr>\n",
       "    <tr>\n",
       "      <th>19</th>\n",
       "      <td>475.00</td>\n",
       "      <td>52.45</td>\n",
       "    </tr>\n",
       "  </tbody>\n",
       "</table>\n",
       "</div>"
      ],
      "text/plain": [
       "    Top Users  Contribution to upvotes(%)\n",
       "0        0.00                        0.00\n",
       "1       25.00                       16.26\n",
       "2       50.00                       23.47\n",
       "3       75.00                       27.60\n",
       "4      100.00                       30.79\n",
       "5      125.00                       33.45\n",
       "6      150.00                       35.74\n",
       "7      175.00                       37.80\n",
       "8      200.00                       39.63\n",
       "9      225.00                       41.28\n",
       "10     250.00                       42.76\n",
       "11     275.00                       44.13\n",
       "12     300.00                       45.40\n",
       "13     325.00                       46.57\n",
       "14     350.00                       47.68\n",
       "15     375.00                       48.73\n",
       "16     400.00                       49.74\n",
       "17     425.00                       50.69\n",
       "18     450.00                       51.60\n",
       "19     475.00                       52.45"
      ]
     },
     "execution_count": 18,
     "metadata": {},
     "output_type": "execute_result"
    }
   ],
   "source": [
    "user_tab(500,25)"
   ]
  },
  {
   "cell_type": "code",
   "execution_count": 19,
   "metadata": {},
   "outputs": [
    {
     "data": {
      "text/html": [
       "<div>\n",
       "<style scoped>\n",
       "    .dataframe tbody tr th:only-of-type {\n",
       "        vertical-align: middle;\n",
       "    }\n",
       "\n",
       "    .dataframe tbody tr th {\n",
       "        vertical-align: top;\n",
       "    }\n",
       "\n",
       "    .dataframe thead th {\n",
       "        text-align: right;\n",
       "    }\n",
       "</style>\n",
       "<table border=\"1\" class=\"dataframe\">\n",
       "  <thead>\n",
       "    <tr style=\"text-align: right;\">\n",
       "      <th></th>\n",
       "      <th>Top Users</th>\n",
       "      <th>Contribution to upvotes(%)</th>\n",
       "    </tr>\n",
       "  </thead>\n",
       "  <tbody>\n",
       "    <tr>\n",
       "      <th>0</th>\n",
       "      <td>0.00</td>\n",
       "      <td>0.00</td>\n",
       "    </tr>\n",
       "    <tr>\n",
       "      <th>1</th>\n",
       "      <td>2,000.00</td>\n",
       "      <td>73.94</td>\n",
       "    </tr>\n",
       "    <tr>\n",
       "      <th>2</th>\n",
       "      <td>4,000.00</td>\n",
       "      <td>82.39</td>\n",
       "    </tr>\n",
       "    <tr>\n",
       "      <th>3</th>\n",
       "      <td>6,000.00</td>\n",
       "      <td>86.60</td>\n",
       "    </tr>\n",
       "    <tr>\n",
       "      <th>4</th>\n",
       "      <td>8,000.00</td>\n",
       "      <td>89.21</td>\n",
       "    </tr>\n",
       "    <tr>\n",
       "      <th>5</th>\n",
       "      <td>10,000.00</td>\n",
       "      <td>91.00</td>\n",
       "    </tr>\n",
       "    <tr>\n",
       "      <th>6</th>\n",
       "      <td>12,000.00</td>\n",
       "      <td>92.31</td>\n",
       "    </tr>\n",
       "    <tr>\n",
       "      <th>7</th>\n",
       "      <td>14,000.00</td>\n",
       "      <td>93.33</td>\n",
       "    </tr>\n",
       "    <tr>\n",
       "      <th>8</th>\n",
       "      <td>16,000.00</td>\n",
       "      <td>94.14</td>\n",
       "    </tr>\n",
       "    <tr>\n",
       "      <th>9</th>\n",
       "      <td>18,000.00</td>\n",
       "      <td>94.80</td>\n",
       "    </tr>\n",
       "    <tr>\n",
       "      <th>10</th>\n",
       "      <td>20,000.00</td>\n",
       "      <td>95.36</td>\n",
       "    </tr>\n",
       "    <tr>\n",
       "      <th>11</th>\n",
       "      <td>22,000.00</td>\n",
       "      <td>95.83</td>\n",
       "    </tr>\n",
       "    <tr>\n",
       "      <th>12</th>\n",
       "      <td>24,000.00</td>\n",
       "      <td>96.24</td>\n",
       "    </tr>\n",
       "  </tbody>\n",
       "</table>\n",
       "</div>"
      ],
      "text/plain": [
       "    Top Users  Contribution to upvotes(%)\n",
       "0        0.00                        0.00\n",
       "1    2,000.00                       73.94\n",
       "2    4,000.00                       82.39\n",
       "3    6,000.00                       86.60\n",
       "4    8,000.00                       89.21\n",
       "5   10,000.00                       91.00\n",
       "6   12,000.00                       92.31\n",
       "7   14,000.00                       93.33\n",
       "8   16,000.00                       94.14\n",
       "9   18,000.00                       94.80\n",
       "10  20,000.00                       95.36\n",
       "11  22,000.00                       95.83\n",
       "12  24,000.00                       96.24"
      ]
     },
     "execution_count": 19,
     "metadata": {},
     "output_type": "execute_result"
    }
   ],
   "source": [
    "user_tab(25000,2000)"
   ]
  },
  {
   "cell_type": "code",
   "execution_count": 20,
   "metadata": {},
   "outputs": [
    {
     "data": {
      "text/html": [
       "<div>\n",
       "<style scoped>\n",
       "    .dataframe tbody tr th:only-of-type {\n",
       "        vertical-align: middle;\n",
       "    }\n",
       "\n",
       "    .dataframe tbody tr th {\n",
       "        vertical-align: top;\n",
       "    }\n",
       "\n",
       "    .dataframe thead th {\n",
       "        text-align: right;\n",
       "    }\n",
       "</style>\n",
       "<table border=\"1\" class=\"dataframe\">\n",
       "  <thead>\n",
       "    <tr style=\"text-align: right;\">\n",
       "      <th></th>\n",
       "      <th>Top Users</th>\n",
       "      <th>Contribution to upvotes(%)</th>\n",
       "    </tr>\n",
       "  </thead>\n",
       "  <tbody>\n",
       "    <tr>\n",
       "      <th>0</th>\n",
       "      <td>0.00</td>\n",
       "      <td>0.00</td>\n",
       "    </tr>\n",
       "    <tr>\n",
       "      <th>1</th>\n",
       "      <td>10,000.00</td>\n",
       "      <td>91.00</td>\n",
       "    </tr>\n",
       "    <tr>\n",
       "      <th>2</th>\n",
       "      <td>20,000.00</td>\n",
       "      <td>95.36</td>\n",
       "    </tr>\n",
       "    <tr>\n",
       "      <th>3</th>\n",
       "      <td>30,000.00</td>\n",
       "      <td>97.16</td>\n",
       "    </tr>\n",
       "    <tr>\n",
       "      <th>4</th>\n",
       "      <td>40,000.00</td>\n",
       "      <td>98.14</td>\n",
       "    </tr>\n",
       "    <tr>\n",
       "      <th>5</th>\n",
       "      <td>50,000.00</td>\n",
       "      <td>98.75</td>\n",
       "    </tr>\n",
       "    <tr>\n",
       "      <th>6</th>\n",
       "      <td>60,000.00</td>\n",
       "      <td>99.15</td>\n",
       "    </tr>\n",
       "    <tr>\n",
       "      <th>7</th>\n",
       "      <td>70,000.00</td>\n",
       "      <td>99.43</td>\n",
       "    </tr>\n",
       "    <tr>\n",
       "      <th>8</th>\n",
       "      <td>80,000.00</td>\n",
       "      <td>99.62</td>\n",
       "    </tr>\n",
       "  </tbody>\n",
       "</table>\n",
       "</div>"
      ],
      "text/plain": [
       "   Top Users  Contribution to upvotes(%)\n",
       "0       0.00                        0.00\n",
       "1  10,000.00                       91.00\n",
       "2  20,000.00                       95.36\n",
       "3  30,000.00                       97.16\n",
       "4  40,000.00                       98.14\n",
       "5  50,000.00                       98.75\n",
       "6  60,000.00                       99.15\n",
       "7  70,000.00                       99.43\n",
       "8  80,000.00                       99.62"
      ]
     },
     "execution_count": 20,
     "metadata": {},
     "output_type": "execute_result"
    }
   ],
   "source": [
    "user_tab(90000,10000)"
   ]
  },
  {
   "cell_type": "raw",
   "metadata": {},
   "source": [
    "Inference:\n",
    "1. The top 50 authors alone contribute to over 25% of the total upvotes registered.\n",
    "2. The next 25% (50%) of the total upvotes is contributed by the top 400 authors.\n",
    "3. Nearly 95% of the total upvotes is contributed by the top 20000 authors alone.\n",
    "4. So there are almost 122000 authors who contribute to just 5% of the total upvotes.\n",
    "5. And there are 81000 authors among them who do not contribute anything at all."
   ]
  },
  {
   "cell_type": "code",
   "execution_count": 21,
   "metadata": {},
   "outputs": [
    {
     "data": {
      "text/plain": [
       "Text(0, 0.5, 'Average Upvotes per Question')"
      ]
     },
     "execution_count": 21,
     "metadata": {},
     "output_type": "execute_result"
    },
    {
     "data": {
      "image/png": "[encoded data removed]",
      "text/plain": [
       "<Figure size 720x504 with 1 Axes>"
      ]
     },
     "metadata": {
      "needs_background": "light"
     },
     "output_type": "display_data"
    }
   ],
   "source": [
    "# table containing values of average upvotes per question obtained in each tag\n",
    "tag_group=train.groupby('Tag')\n",
    "tag_upvote_sum=tag_group['Upvotes'].sum()\n",
    "tag_count=tag_group.size()\n",
    "tot_upvote_per_question=tag_upvote_sum/tag_count\n",
    "tot_upvote_per_question\n",
    "tag_table=pd.DataFrame(tot_upvote_per_question)\n",
    "tag_table=tag_table.rename(columns={0: 'Upvotes per question'}).sort_values('Upvotes per question',ascending=False)\n",
    "tag_table.plot(kind='bar',color='green')\n",
    "plt.title(\"Fig:3.1 Plot of Average Upvotes per Question obtained in each tag\")\n",
    "plt.ylabel(\"Average Upvotes per Question\")"
   ]
  },
  {
   "cell_type": "raw",
   "metadata": {},
   "source": [
    "Inference:\n",
    "1. j tag has the maximum average of upvotes per question of 540.36\n",
    "2. This is followed by p tag which has an average upvotes per question of 407.35 and then by h tag.\n",
    "3. r tag has the least average upvotes per question."
   ]
  },
  {
   "cell_type": "code",
   "execution_count": 22,
   "metadata": {},
   "outputs": [],
   "source": [
    "tag_table['T.upvotes']=tag_upvote_sum\n",
    "tag_table['T.reputation']=tag_group['Reputation'].sum()\n",
    "tag_table['T.answers']=tag_group['Answers'].sum()\n",
    "tag_table['T.views']=tag_group['Views'].sum()\n",
    "tag_table['T.questions']=tag_count\n",
    "\n",
    "tag_table['% upvotes']=(tag_table['T.upvotes']/tag_table['T.upvotes'].sum())*100\n",
    "tag_table['% reputation']=(tag_table['T.reputation']/tag_table['T.reputation'].sum())*100\n",
    "tag_table['% answers']=(tag_table['T.answers']/tag_table['T.answers'].sum())*100\n",
    "tag_table['% views']=(tag_table['T.views']/tag_table['T.views'].sum())*100\n",
    "tag_table['% questions']=(tag_table['T.questions']/tag_table['T.questions'].sum())*100"
   ]
  },
  {
   "cell_type": "code",
   "execution_count": 23,
   "metadata": {},
   "outputs": [],
   "source": [
    "top_upvotes=train.nlargest(1000,['Upvotes'])\n",
    "top_users=top_upvotes.groupby('Tag')\n",
    "top_questions_count=top_users['Username'].size()\n",
    "tag_table['Top questions count']=top_questions_count\n",
    "tag_table['% top questions']=(tag_table['Top questions count']/tag_table['Top questions count'].sum())*100"
   ]
  },
  {
   "cell_type": "code",
   "execution_count": 24,
   "metadata": {},
   "outputs": [],
   "source": [
    "tag_table.drop(['Top questions count','T.questions','T.views','T.answers','T.reputation','T.upvotes'],axis=1,inplace=True)"
   ]
  },
  {
   "cell_type": "code",
   "execution_count": 25,
   "metadata": {},
   "outputs": [
    {
     "data": {
      "text/html": [
       "<div>\n",
       "<style scoped>\n",
       "    .dataframe tbody tr th:only-of-type {\n",
       "        vertical-align: middle;\n",
       "    }\n",
       "\n",
       "    .dataframe tbody tr th {\n",
       "        vertical-align: top;\n",
       "    }\n",
       "\n",
       "    .dataframe thead th {\n",
       "        text-align: right;\n",
       "    }\n",
       "</style>\n",
       "<table border=\"1\" class=\"dataframe\">\n",
       "  <thead>\n",
       "    <tr style=\"text-align: right;\">\n",
       "      <th></th>\n",
       "      <th>Upvotes per question</th>\n",
       "      <th>% upvotes</th>\n",
       "      <th>% reputation</th>\n",
       "      <th>% answers</th>\n",
       "      <th>% views</th>\n",
       "      <th>% questions</th>\n",
       "      <th>% top questions</th>\n",
       "    </tr>\n",
       "    <tr>\n",
       "      <th>Tag</th>\n",
       "      <th></th>\n",
       "      <th></th>\n",
       "      <th></th>\n",
       "      <th></th>\n",
       "      <th></th>\n",
       "      <th></th>\n",
       "      <th></th>\n",
       "    </tr>\n",
       "  </thead>\n",
       "  <tbody>\n",
       "    <tr>\n",
       "      <th>j</th>\n",
       "      <td>540.36</td>\n",
       "      <td>35.04</td>\n",
       "      <td>23.33</td>\n",
       "      <td>24.29</td>\n",
       "      <td>31.96</td>\n",
       "      <td>21.89</td>\n",
       "      <td>37.10</td>\n",
       "    </tr>\n",
       "    <tr>\n",
       "      <th>c</th>\n",
       "      <td>327.57</td>\n",
       "      <td>21.31</td>\n",
       "      <td>29.84</td>\n",
       "      <td>22.68</td>\n",
       "      <td>19.81</td>\n",
       "      <td>21.95</td>\n",
       "      <td>17.50</td>\n",
       "    </tr>\n",
       "    <tr>\n",
       "      <th>p</th>\n",
       "      <td>407.35</td>\n",
       "      <td>15.87</td>\n",
       "      <td>13.64</td>\n",
       "      <td>13.35</td>\n",
       "      <td>14.72</td>\n",
       "      <td>13.15</td>\n",
       "      <td>19.70</td>\n",
       "    </tr>\n",
       "    <tr>\n",
       "      <th>a</th>\n",
       "      <td>316.46</td>\n",
       "      <td>9.00</td>\n",
       "      <td>7.49</td>\n",
       "      <td>10.44</td>\n",
       "      <td>10.30</td>\n",
       "      <td>9.60</td>\n",
       "      <td>9.30</td>\n",
       "    </tr>\n",
       "    <tr>\n",
       "      <th>h</th>\n",
       "      <td>384.72</td>\n",
       "      <td>7.10</td>\n",
       "      <td>5.60</td>\n",
       "      <td>6.01</td>\n",
       "      <td>7.14</td>\n",
       "      <td>6.23</td>\n",
       "      <td>7.90</td>\n",
       "    </tr>\n",
       "    <tr>\n",
       "      <th>s</th>\n",
       "      <td>237.03</td>\n",
       "      <td>4.96</td>\n",
       "      <td>5.95</td>\n",
       "      <td>6.50</td>\n",
       "      <td>6.15</td>\n",
       "      <td>7.07</td>\n",
       "      <td>5.40</td>\n",
       "    </tr>\n",
       "    <tr>\n",
       "      <th>i</th>\n",
       "      <td>117.39</td>\n",
       "      <td>3.41</td>\n",
       "      <td>6.62</td>\n",
       "      <td>9.22</td>\n",
       "      <td>5.23</td>\n",
       "      <td>9.82</td>\n",
       "      <td>1.50</td>\n",
       "    </tr>\n",
       "    <tr>\n",
       "      <th>o</th>\n",
       "      <td>112.16</td>\n",
       "      <td>1.46</td>\n",
       "      <td>3.21</td>\n",
       "      <td>3.80</td>\n",
       "      <td>2.01</td>\n",
       "      <td>4.41</td>\n",
       "      <td>0.50</td>\n",
       "    </tr>\n",
       "    <tr>\n",
       "      <th>x</th>\n",
       "      <td>151.26</td>\n",
       "      <td>0.95</td>\n",
       "      <td>1.76</td>\n",
       "      <td>1.49</td>\n",
       "      <td>1.15</td>\n",
       "      <td>2.11</td>\n",
       "      <td>0.80</td>\n",
       "    </tr>\n",
       "    <tr>\n",
       "      <th>r</th>\n",
       "      <td>79.03</td>\n",
       "      <td>0.88</td>\n",
       "      <td>2.57</td>\n",
       "      <td>2.22</td>\n",
       "      <td>1.53</td>\n",
       "      <td>3.77</td>\n",
       "      <td>0.30</td>\n",
       "    </tr>\n",
       "  </tbody>\n",
       "</table>\n",
       "</div>"
      ],
      "text/plain": [
       "     Upvotes per question  % upvotes  % reputation  % answers  % views  \\\n",
       "Tag                                                                      \n",
       "j                  540.36      35.04         23.33      24.29    31.96   \n",
       "c                  327.57      21.31         29.84      22.68    19.81   \n",
       "p                  407.35      15.87         13.64      13.35    14.72   \n",
       "a                  316.46       9.00          7.49      10.44    10.30   \n",
       "h                  384.72       7.10          5.60       6.01     7.14   \n",
       "s                  237.03       4.96          5.95       6.50     6.15   \n",
       "i                  117.39       3.41          6.62       9.22     5.23   \n",
       "o                  112.16       1.46          3.21       3.80     2.01   \n",
       "x                  151.26       0.95          1.76       1.49     1.15   \n",
       "r                   79.03       0.88          2.57       2.22     1.53   \n",
       "\n",
       "     % questions  % top questions  \n",
       "Tag                                \n",
       "j          21.89            37.10  \n",
       "c          21.95            17.50  \n",
       "p          13.15            19.70  \n",
       "a           9.60             9.30  \n",
       "h           6.23             7.90  \n",
       "s           7.07             5.40  \n",
       "i           9.82             1.50  \n",
       "o           4.41             0.50  \n",
       "x           2.11             0.80  \n",
       "r           3.77             0.30  "
      ]
     },
     "execution_count": 25,
     "metadata": {},
     "output_type": "execute_result"
    }
   ],
   "source": [
    "tag_table.sort_values(\"% upvotes\",ascending=False)"
   ]
  },
  {
   "cell_type": "code",
   "execution_count": 26,
   "metadata": {},
   "outputs": [
    {
     "data": {
      "text/plain": [
       "Text(0.5, 1.0, 'Fig:3.2 Plot of Percentage of upvotes obtained under each tag')"
      ]
     },
     "execution_count": 26,
     "metadata": {},
     "output_type": "execute_result"
    },
    {
     "data": {
      "image/png": "[encoded data removed]",
      "text/plain": [
       "<Figure size 864x720 with 1 Axes>"
      ]
     },
     "metadata": {},
     "output_type": "display_data"
    }
   ],
   "source": [
    "plt.rcParams[\"figure.figsize\"] = (12,10)\n",
    "tag_table['% upvotes'].sort_values(ascending=True).plot.pie(subplots=True,autopct='%1.1f%%',\n",
    "         startangle=90)\n",
    "plt.title(\"Fig:3.2 Plot of Percentage of upvotes obtained under each tag\")"
   ]
  },
  {
   "cell_type": "raw",
   "metadata": {},
   "source": [
    "Inference:\n",
    "1. It is evident from the above 2 graphs that j is the best performing tag.\n",
    "2. j tag has the most number of upvotes amoung all the tags.\n",
    "3. This is followed by c and p tags.\n",
    "4. It is surprising to see that h tag that accounts for only 7.1% of the total upvotes is the tag having third most number of average upvotes per question.\n",
    "5. h tag has a good scope of getting more upvotes when more questions are posted. \n",
    "6. Tags j, c and p together contribute to nearly 70% of total upvotes."
   ]
  },
  {
   "cell_type": "code",
   "execution_count": 27,
   "metadata": {},
   "outputs": [
    {
     "data": {
      "image/png": "[encoded data removed]",
      "text/plain": [
       "<Figure size 720x504 with 1 Axes>"
      ]
     },
     "metadata": {
      "needs_background": "light"
     },
     "output_type": "display_data"
    }
   ],
   "source": [
    "plt.rcParams[\"figure.figsize\"] = (10,7)\n",
    "barWidth = 0.25\n",
    "# Set position of bar on X axis\n",
    "r1 = np.arange(len(tag_table['% questions']))\n",
    "r2 = [x + barWidth for x in r1]\n",
    " \n",
    "# Make the plot\n",
    "\n",
    "plt.bar(r1, tag_table['% questions'], color='orange', width=barWidth, edgecolor='white', label='% questions')\n",
    "plt.bar(r2, tag_table['% top questions'], color='green', width=barWidth, edgecolor='white', label='% top questions')\n",
    "# Add xticks on the middle of the group bars\n",
    "plt.xlabel('Tag')\n",
    "plt.xticks([r + barWidth for r in range(len(tag_table['% questions']))], ['j', 'p', 'h', 'c', 'a','s','x','i','o','r'])\n",
    " \n",
    "\n",
    "# Create legend & Show graphic\n",
    "plt.legend()\n",
    "plt.title(\"Fig:3.3 Plot of Percentage of Questions under each tag\")\n",
    "plt.show()\n",
    "\n"
   ]
  },
  {
   "cell_type": "raw",
   "metadata": {},
   "source": [
    "Inference:\n",
    "1. Though c tag has the highest percentage of questions , it accounts for only 17.5% of questions in the top 1000 questions.\n",
    "2. j tag has the highest occurrance of questions in the top 1000 questions with maximum upvotes.\n",
    "2. p tag has the second highest occurance of questions in the top 1000 questions with maximum upvotes."
   ]
  },
  {
   "cell_type": "markdown",
   "metadata": {},
   "source": [
    "# Data Preprocessing-Categorical Data Encoding and Feature Scaling"
   ]
  },
  {
   "cell_type": "code",
   "execution_count": 28,
   "metadata": {},
   "outputs": [
    {
     "data": {
      "text/html": [
       "<div>\n",
       "<style scoped>\n",
       "    .dataframe tbody tr th:only-of-type {\n",
       "        vertical-align: middle;\n",
       "    }\n",
       "\n",
       "    .dataframe tbody tr th {\n",
       "        vertical-align: top;\n",
       "    }\n",
       "\n",
       "    .dataframe thead th {\n",
       "        text-align: right;\n",
       "    }\n",
       "</style>\n",
       "<table border=\"1\" class=\"dataframe\">\n",
       "  <thead>\n",
       "    <tr style=\"text-align: right;\">\n",
       "      <th></th>\n",
       "      <th>ID</th>\n",
       "      <th>Reputation</th>\n",
       "      <th>Answers</th>\n",
       "      <th>Username</th>\n",
       "      <th>Views</th>\n",
       "      <th>Upvotes</th>\n",
       "      <th>source</th>\n",
       "      <th>Tag_a</th>\n",
       "      <th>Tag_c</th>\n",
       "      <th>Tag_h</th>\n",
       "      <th>Tag_i</th>\n",
       "      <th>Tag_j</th>\n",
       "      <th>Tag_o</th>\n",
       "      <th>Tag_p</th>\n",
       "      <th>Tag_r</th>\n",
       "      <th>Tag_s</th>\n",
       "      <th>Tag_x</th>\n",
       "    </tr>\n",
       "  </thead>\n",
       "  <tbody>\n",
       "    <tr>\n",
       "      <th>0</th>\n",
       "      <td>52664</td>\n",
       "      <td>3,942.00</td>\n",
       "      <td>2.00</td>\n",
       "      <td>155623</td>\n",
       "      <td>7,855.00</td>\n",
       "      <td>42.00</td>\n",
       "      <td>train</td>\n",
       "      <td>1</td>\n",
       "      <td>0</td>\n",
       "      <td>0</td>\n",
       "      <td>0</td>\n",
       "      <td>0</td>\n",
       "      <td>0</td>\n",
       "      <td>0</td>\n",
       "      <td>0</td>\n",
       "      <td>0</td>\n",
       "      <td>0</td>\n",
       "    </tr>\n",
       "    <tr>\n",
       "      <th>1</th>\n",
       "      <td>327662</td>\n",
       "      <td>26,046.00</td>\n",
       "      <td>12.00</td>\n",
       "      <td>21781</td>\n",
       "      <td>55,801.00</td>\n",
       "      <td>1,175.00</td>\n",
       "      <td>train</td>\n",
       "      <td>1</td>\n",
       "      <td>0</td>\n",
       "      <td>0</td>\n",
       "      <td>0</td>\n",
       "      <td>0</td>\n",
       "      <td>0</td>\n",
       "      <td>0</td>\n",
       "      <td>0</td>\n",
       "      <td>0</td>\n",
       "      <td>0</td>\n",
       "    </tr>\n",
       "    <tr>\n",
       "      <th>2</th>\n",
       "      <td>468453</td>\n",
       "      <td>1,358.00</td>\n",
       "      <td>4.00</td>\n",
       "      <td>56177</td>\n",
       "      <td>8,067.00</td>\n",
       "      <td>60.00</td>\n",
       "      <td>train</td>\n",
       "      <td>0</td>\n",
       "      <td>1</td>\n",
       "      <td>0</td>\n",
       "      <td>0</td>\n",
       "      <td>0</td>\n",
       "      <td>0</td>\n",
       "      <td>0</td>\n",
       "      <td>0</td>\n",
       "      <td>0</td>\n",
       "      <td>0</td>\n",
       "    </tr>\n",
       "    <tr>\n",
       "      <th>3</th>\n",
       "      <td>96996</td>\n",
       "      <td>264.00</td>\n",
       "      <td>3.00</td>\n",
       "      <td>168793</td>\n",
       "      <td>27,064.00</td>\n",
       "      <td>9.00</td>\n",
       "      <td>train</td>\n",
       "      <td>1</td>\n",
       "      <td>0</td>\n",
       "      <td>0</td>\n",
       "      <td>0</td>\n",
       "      <td>0</td>\n",
       "      <td>0</td>\n",
       "      <td>0</td>\n",
       "      <td>0</td>\n",
       "      <td>0</td>\n",
       "      <td>0</td>\n",
       "    </tr>\n",
       "    <tr>\n",
       "      <th>4</th>\n",
       "      <td>131465</td>\n",
       "      <td>4,271.00</td>\n",
       "      <td>4.00</td>\n",
       "      <td>112223</td>\n",
       "      <td>13,986.00</td>\n",
       "      <td>83.00</td>\n",
       "      <td>train</td>\n",
       "      <td>0</td>\n",
       "      <td>1</td>\n",
       "      <td>0</td>\n",
       "      <td>0</td>\n",
       "      <td>0</td>\n",
       "      <td>0</td>\n",
       "      <td>0</td>\n",
       "      <td>0</td>\n",
       "      <td>0</td>\n",
       "      <td>0</td>\n",
       "    </tr>\n",
       "  </tbody>\n",
       "</table>\n",
       "</div>"
      ],
      "text/plain": [
       "       ID  Reputation  Answers  Username     Views  Upvotes source  Tag_a  \\\n",
       "0   52664    3,942.00     2.00    155623  7,855.00    42.00  train      1   \n",
       "1  327662   26,046.00    12.00     21781 55,801.00 1,175.00  train      1   \n",
       "2  468453    1,358.00     4.00     56177  8,067.00    60.00  train      0   \n",
       "3   96996      264.00     3.00    168793 27,064.00     9.00  train      1   \n",
       "4  131465    4,271.00     4.00    112223 13,986.00    83.00  train      0   \n",
       "\n",
       "   Tag_c  Tag_h  Tag_i  Tag_j  Tag_o  Tag_p  Tag_r  Tag_s  Tag_x  \n",
       "0      0      0      0      0      0      0      0      0      0  \n",
       "1      0      0      0      0      0      0      0      0      0  \n",
       "2      1      0      0      0      0      0      0      0      0  \n",
       "3      0      0      0      0      0      0      0      0      0  \n",
       "4      1      0      0      0      0      0      0      0      0  "
      ]
     },
     "execution_count": 28,
     "metadata": {},
     "output_type": "execute_result"
    }
   ],
   "source": [
    "# encoding categorical data\n",
    "data = pd.get_dummies(data, columns=['Tag'])\n",
    "data.head()"
   ]
  },
  {
   "cell_type": "code",
   "execution_count": 29,
   "metadata": {},
   "outputs": [
    {
     "data": {
      "text/html": [
       "<div>\n",
       "<style scoped>\n",
       "    .dataframe tbody tr th:only-of-type {\n",
       "        vertical-align: middle;\n",
       "    }\n",
       "\n",
       "    .dataframe tbody tr th {\n",
       "        vertical-align: top;\n",
       "    }\n",
       "\n",
       "    .dataframe thead th {\n",
       "        text-align: right;\n",
       "    }\n",
       "</style>\n",
       "<table border=\"1\" class=\"dataframe\">\n",
       "  <thead>\n",
       "    <tr style=\"text-align: right;\">\n",
       "      <th></th>\n",
       "      <th>ID</th>\n",
       "      <th>Reputation</th>\n",
       "      <th>Answers</th>\n",
       "      <th>Username</th>\n",
       "      <th>Views</th>\n",
       "      <th>Upvotes</th>\n",
       "      <th>source</th>\n",
       "      <th>Tag_a</th>\n",
       "      <th>Tag_c</th>\n",
       "      <th>Tag_h</th>\n",
       "      <th>...</th>\n",
       "      <th>Tag_j</th>\n",
       "      <th>Tag_o</th>\n",
       "      <th>Tag_p</th>\n",
       "      <th>Tag_r</th>\n",
       "      <th>Tag_s</th>\n",
       "      <th>Tag_x</th>\n",
       "      <th>3</th>\n",
       "      <th>4</th>\n",
       "      <th>5</th>\n",
       "      <th>6</th>\n",
       "    </tr>\n",
       "  </thead>\n",
       "  <tbody>\n",
       "    <tr>\n",
       "      <th>0</th>\n",
       "      <td>52664</td>\n",
       "      <td>3,942.00</td>\n",
       "      <td>2.00</td>\n",
       "      <td>155623</td>\n",
       "      <td>7,855.00</td>\n",
       "      <td>42.00</td>\n",
       "      <td>train</td>\n",
       "      <td>1</td>\n",
       "      <td>0</td>\n",
       "      <td>0</td>\n",
       "      <td>...</td>\n",
       "      <td>0</td>\n",
       "      <td>0</td>\n",
       "      <td>0</td>\n",
       "      <td>0</td>\n",
       "      <td>0</td>\n",
       "      <td>0</td>\n",
       "      <td>7,884.00</td>\n",
       "      <td>30,964,410.00</td>\n",
       "      <td>15,710.00</td>\n",
       "      <td>61,928,820.00</td>\n",
       "    </tr>\n",
       "    <tr>\n",
       "      <th>1</th>\n",
       "      <td>327662</td>\n",
       "      <td>26,046.00</td>\n",
       "      <td>12.00</td>\n",
       "      <td>21781</td>\n",
       "      <td>55,801.00</td>\n",
       "      <td>1,175.00</td>\n",
       "      <td>train</td>\n",
       "      <td>1</td>\n",
       "      <td>0</td>\n",
       "      <td>0</td>\n",
       "      <td>...</td>\n",
       "      <td>0</td>\n",
       "      <td>0</td>\n",
       "      <td>0</td>\n",
       "      <td>0</td>\n",
       "      <td>0</td>\n",
       "      <td>0</td>\n",
       "      <td>312,552.00</td>\n",
       "      <td>1,453,392,846.00</td>\n",
       "      <td>669,612.00</td>\n",
       "      <td>17,440,714,152.00</td>\n",
       "    </tr>\n",
       "    <tr>\n",
       "      <th>2</th>\n",
       "      <td>468453</td>\n",
       "      <td>1,358.00</td>\n",
       "      <td>4.00</td>\n",
       "      <td>56177</td>\n",
       "      <td>8,067.00</td>\n",
       "      <td>60.00</td>\n",
       "      <td>train</td>\n",
       "      <td>0</td>\n",
       "      <td>1</td>\n",
       "      <td>0</td>\n",
       "      <td>...</td>\n",
       "      <td>0</td>\n",
       "      <td>0</td>\n",
       "      <td>0</td>\n",
       "      <td>0</td>\n",
       "      <td>0</td>\n",
       "      <td>0</td>\n",
       "      <td>5,432.00</td>\n",
       "      <td>10,954,986.00</td>\n",
       "      <td>32,268.00</td>\n",
       "      <td>43,819,944.00</td>\n",
       "    </tr>\n",
       "    <tr>\n",
       "      <th>3</th>\n",
       "      <td>96996</td>\n",
       "      <td>264.00</td>\n",
       "      <td>3.00</td>\n",
       "      <td>168793</td>\n",
       "      <td>27,064.00</td>\n",
       "      <td>9.00</td>\n",
       "      <td>train</td>\n",
       "      <td>1</td>\n",
       "      <td>0</td>\n",
       "      <td>0</td>\n",
       "      <td>...</td>\n",
       "      <td>0</td>\n",
       "      <td>0</td>\n",
       "      <td>0</td>\n",
       "      <td>0</td>\n",
       "      <td>0</td>\n",
       "      <td>0</td>\n",
       "      <td>792.00</td>\n",
       "      <td>7,144,896.00</td>\n",
       "      <td>81,192.00</td>\n",
       "      <td>21,434,688.00</td>\n",
       "    </tr>\n",
       "    <tr>\n",
       "      <th>4</th>\n",
       "      <td>131465</td>\n",
       "      <td>4,271.00</td>\n",
       "      <td>4.00</td>\n",
       "      <td>112223</td>\n",
       "      <td>13,986.00</td>\n",
       "      <td>83.00</td>\n",
       "      <td>train</td>\n",
       "      <td>0</td>\n",
       "      <td>1</td>\n",
       "      <td>0</td>\n",
       "      <td>...</td>\n",
       "      <td>0</td>\n",
       "      <td>0</td>\n",
       "      <td>0</td>\n",
       "      <td>0</td>\n",
       "      <td>0</td>\n",
       "      <td>0</td>\n",
       "      <td>17,084.00</td>\n",
       "      <td>59,734,206.00</td>\n",
       "      <td>55,944.00</td>\n",
       "      <td>238,936,824.00</td>\n",
       "    </tr>\n",
       "  </tbody>\n",
       "</table>\n",
       "<p>5 rows × 21 columns</p>\n",
       "</div>"
      ],
      "text/plain": [
       "       ID  Reputation  Answers  Username     Views  Upvotes source  Tag_a  \\\n",
       "0   52664    3,942.00     2.00    155623  7,855.00    42.00  train      1   \n",
       "1  327662   26,046.00    12.00     21781 55,801.00 1,175.00  train      1   \n",
       "2  468453    1,358.00     4.00     56177  8,067.00    60.00  train      0   \n",
       "3   96996      264.00     3.00    168793 27,064.00     9.00  train      1   \n",
       "4  131465    4,271.00     4.00    112223 13,986.00    83.00  train      0   \n",
       "\n",
       "   Tag_c  Tag_h  ...  Tag_j  Tag_o  Tag_p  Tag_r  Tag_s  Tag_x          3  \\\n",
       "0      0      0  ...      0      0      0      0      0      0   7,884.00   \n",
       "1      0      0  ...      0      0      0      0      0      0 312,552.00   \n",
       "2      1      0  ...      0      0      0      0      0      0   5,432.00   \n",
       "3      0      0  ...      0      0      0      0      0      0     792.00   \n",
       "4      1      0  ...      0      0      0      0      0      0  17,084.00   \n",
       "\n",
       "                 4          5                 6  \n",
       "0    30,964,410.00  15,710.00     61,928,820.00  \n",
       "1 1,453,392,846.00 669,612.00 17,440,714,152.00  \n",
       "2    10,954,986.00  32,268.00     43,819,944.00  \n",
       "3     7,144,896.00  81,192.00     21,434,688.00  \n",
       "4    59,734,206.00  55,944.00    238,936,824.00  \n",
       "\n",
       "[5 rows x 21 columns]"
      ]
     },
     "execution_count": 29,
     "metadata": {},
     "output_type": "execute_result"
    }
   ],
   "source": [
    "num_features=['Reputation', 'Answers', 'Views']\n",
    "# Getting polynomial features and selecting only newly created features\n",
    "poly=PolynomialFeatures(degree=3,interaction_only=True,include_bias=False)\n",
    "poly_data=pd.DataFrame(poly.fit_transform(data[num_features])).loc[:,len(num_features):]\n",
    "data=data.join(poly_data)\n",
    "data.head()"
   ]
  },
  {
   "cell_type": "code",
   "execution_count": 30,
   "metadata": {},
   "outputs": [],
   "source": [
    "data.drop(['Reputation', 'Answers', 'Views','Tag_i','Tag_o','Tag_r','Tag_x','Tag_s'],axis=1,inplace=True)"
   ]
  },
  {
   "cell_type": "code",
   "execution_count": 31,
   "metadata": {},
   "outputs": [
    {
     "data": {
      "text/html": [
       "<div>\n",
       "<style scoped>\n",
       "    .dataframe tbody tr th:only-of-type {\n",
       "        vertical-align: middle;\n",
       "    }\n",
       "\n",
       "    .dataframe tbody tr th {\n",
       "        vertical-align: top;\n",
       "    }\n",
       "\n",
       "    .dataframe thead th {\n",
       "        text-align: right;\n",
       "    }\n",
       "</style>\n",
       "<table border=\"1\" class=\"dataframe\">\n",
       "  <thead>\n",
       "    <tr style=\"text-align: right;\">\n",
       "      <th></th>\n",
       "      <th>ID</th>\n",
       "      <th>Username</th>\n",
       "      <th>Upvotes</th>\n",
       "      <th>source</th>\n",
       "      <th>Tag_a</th>\n",
       "      <th>Tag_c</th>\n",
       "      <th>Tag_h</th>\n",
       "      <th>Tag_j</th>\n",
       "      <th>Tag_p</th>\n",
       "      <th>Reputation_Answers</th>\n",
       "      <th>Reputation_Views</th>\n",
       "      <th>Answers_Views</th>\n",
       "      <th>Reputation_Answers_Views</th>\n",
       "    </tr>\n",
       "  </thead>\n",
       "  <tbody>\n",
       "    <tr>\n",
       "      <th>0</th>\n",
       "      <td>52664</td>\n",
       "      <td>155623</td>\n",
       "      <td>42.00</td>\n",
       "      <td>train</td>\n",
       "      <td>1</td>\n",
       "      <td>0</td>\n",
       "      <td>0</td>\n",
       "      <td>0</td>\n",
       "      <td>0</td>\n",
       "      <td>7,884.00</td>\n",
       "      <td>30,964,410.00</td>\n",
       "      <td>15,710.00</td>\n",
       "      <td>61,928,820.00</td>\n",
       "    </tr>\n",
       "    <tr>\n",
       "      <th>1</th>\n",
       "      <td>327662</td>\n",
       "      <td>21781</td>\n",
       "      <td>1,175.00</td>\n",
       "      <td>train</td>\n",
       "      <td>1</td>\n",
       "      <td>0</td>\n",
       "      <td>0</td>\n",
       "      <td>0</td>\n",
       "      <td>0</td>\n",
       "      <td>312,552.00</td>\n",
       "      <td>1,453,392,846.00</td>\n",
       "      <td>669,612.00</td>\n",
       "      <td>17,440,714,152.00</td>\n",
       "    </tr>\n",
       "    <tr>\n",
       "      <th>2</th>\n",
       "      <td>468453</td>\n",
       "      <td>56177</td>\n",
       "      <td>60.00</td>\n",
       "      <td>train</td>\n",
       "      <td>0</td>\n",
       "      <td>1</td>\n",
       "      <td>0</td>\n",
       "      <td>0</td>\n",
       "      <td>0</td>\n",
       "      <td>5,432.00</td>\n",
       "      <td>10,954,986.00</td>\n",
       "      <td>32,268.00</td>\n",
       "      <td>43,819,944.00</td>\n",
       "    </tr>\n",
       "    <tr>\n",
       "      <th>3</th>\n",
       "      <td>96996</td>\n",
       "      <td>168793</td>\n",
       "      <td>9.00</td>\n",
       "      <td>train</td>\n",
       "      <td>1</td>\n",
       "      <td>0</td>\n",
       "      <td>0</td>\n",
       "      <td>0</td>\n",
       "      <td>0</td>\n",
       "      <td>792.00</td>\n",
       "      <td>7,144,896.00</td>\n",
       "      <td>81,192.00</td>\n",
       "      <td>21,434,688.00</td>\n",
       "    </tr>\n",
       "    <tr>\n",
       "      <th>4</th>\n",
       "      <td>131465</td>\n",
       "      <td>112223</td>\n",
       "      <td>83.00</td>\n",
       "      <td>train</td>\n",
       "      <td>0</td>\n",
       "      <td>1</td>\n",
       "      <td>0</td>\n",
       "      <td>0</td>\n",
       "      <td>0</td>\n",
       "      <td>17,084.00</td>\n",
       "      <td>59,734,206.00</td>\n",
       "      <td>55,944.00</td>\n",
       "      <td>238,936,824.00</td>\n",
       "    </tr>\n",
       "  </tbody>\n",
       "</table>\n",
       "</div>"
      ],
      "text/plain": [
       "       ID  Username  Upvotes source  Tag_a  Tag_c  Tag_h  Tag_j  Tag_p  \\\n",
       "0   52664    155623    42.00  train      1      0      0      0      0   \n",
       "1  327662     21781 1,175.00  train      1      0      0      0      0   \n",
       "2  468453     56177    60.00  train      0      1      0      0      0   \n",
       "3   96996    168793     9.00  train      1      0      0      0      0   \n",
       "4  131465    112223    83.00  train      0      1      0      0      0   \n",
       "\n",
       "   Reputation_Answers  Reputation_Views  Answers_Views  \\\n",
       "0            7,884.00     30,964,410.00      15,710.00   \n",
       "1          312,552.00  1,453,392,846.00     669,612.00   \n",
       "2            5,432.00     10,954,986.00      32,268.00   \n",
       "3              792.00      7,144,896.00      81,192.00   \n",
       "4           17,084.00     59,734,206.00      55,944.00   \n",
       "\n",
       "   Reputation_Answers_Views  \n",
       "0             61,928,820.00  \n",
       "1         17,440,714,152.00  \n",
       "2             43,819,944.00  \n",
       "3             21,434,688.00  \n",
       "4            238,936,824.00  "
      ]
     },
     "execution_count": 31,
     "metadata": {},
     "output_type": "execute_result"
    }
   ],
   "source": [
    "#renaming columns\n",
    "data= data.rename(columns={3: 'Reputation_Answers',4:'Reputation_Views',5:'Answers_Views',6:'Reputation_Answers_Views'})\n",
    "data.head()"
   ]
  },
  {
   "cell_type": "code",
   "execution_count": 32,
   "metadata": {},
   "outputs": [],
   "source": [
    "data.drop(['Reputation_Answers_Views','Username','Reputation_Answers'],axis=1,inplace=True)"
   ]
  },
  {
   "cell_type": "code",
   "execution_count": 33,
   "metadata": {},
   "outputs": [],
   "source": [
    "warnings.filterwarnings('ignore')\n",
    "\n",
    "# Divide into test and train datasets\n",
    "train = data.loc[data['source']==\"train\"]\n",
    "test = data.loc[data['source']==\"test\"]\n",
    "\n",
    "# Drop unnecessary columns\n",
    "train.drop(['source','ID'],axis=1,inplace=True)\n",
    "test.drop(['Upvotes','source'],axis=1,inplace=True)\n",
    "trainX = train.drop(['Upvotes'], axis=1)\n",
    "\n",
    "trainY = train.Upvotes"
   ]
  },
  {
   "cell_type": "code",
   "execution_count": 34,
   "metadata": {},
   "outputs": [
    {
     "data": {
      "text/html": [
       "<div>\n",
       "<style scoped>\n",
       "    .dataframe tbody tr th:only-of-type {\n",
       "        vertical-align: middle;\n",
       "    }\n",
       "\n",
       "    .dataframe tbody tr th {\n",
       "        vertical-align: top;\n",
       "    }\n",
       "\n",
       "    .dataframe thead th {\n",
       "        text-align: right;\n",
       "    }\n",
       "</style>\n",
       "<table border=\"1\" class=\"dataframe\">\n",
       "  <thead>\n",
       "    <tr style=\"text-align: right;\">\n",
       "      <th></th>\n",
       "      <th>Independent Variables</th>\n",
       "    </tr>\n",
       "  </thead>\n",
       "  <tbody>\n",
       "    <tr>\n",
       "      <th>0</th>\n",
       "      <td>Tag_a</td>\n",
       "    </tr>\n",
       "    <tr>\n",
       "      <th>1</th>\n",
       "      <td>Tag_c</td>\n",
       "    </tr>\n",
       "    <tr>\n",
       "      <th>2</th>\n",
       "      <td>Tag_h</td>\n",
       "    </tr>\n",
       "    <tr>\n",
       "      <th>3</th>\n",
       "      <td>Tag_j</td>\n",
       "    </tr>\n",
       "    <tr>\n",
       "      <th>4</th>\n",
       "      <td>Tag_p</td>\n",
       "    </tr>\n",
       "    <tr>\n",
       "      <th>5</th>\n",
       "      <td>Reputation_Views</td>\n",
       "    </tr>\n",
       "    <tr>\n",
       "      <th>6</th>\n",
       "      <td>Answers_Views</td>\n",
       "    </tr>\n",
       "  </tbody>\n",
       "</table>\n",
       "</div>"
      ],
      "text/plain": [
       "  Independent Variables\n",
       "0                 Tag_a\n",
       "1                 Tag_c\n",
       "2                 Tag_h\n",
       "3                 Tag_j\n",
       "4                 Tag_p\n",
       "5      Reputation_Views\n",
       "6         Answers_Views"
      ]
     },
     "execution_count": 34,
     "metadata": {},
     "output_type": "execute_result"
    }
   ],
   "source": [
    "# creating a dataframe consisting of column names\n",
    "xcol_names=list(trainX.columns)\n",
    "xcol_names=pd.DataFrame(xcol_names,columns=['Independent Variables'])\n",
    "xcol_names"
   ]
  },
  {
   "cell_type": "code",
   "execution_count": 35,
   "metadata": {},
   "outputs": [],
   "source": [
    "# normalizing the variables\n",
    "trainY = trainY.values.reshape(len(trainY),1)\n",
    "\n",
    "sc_X = StandardScaler()\n",
    "sc_y = StandardScaler()\n",
    "X = sc_X.fit_transform(trainX)\n",
    "y = sc_y.fit_transform(trainY)\n"
   ]
  },
  {
   "cell_type": "code",
   "execution_count": 36,
   "metadata": {},
   "outputs": [
    {
     "data": {
      "text/html": [
       "<div>\n",
       "<style scoped>\n",
       "    .dataframe tbody tr th:only-of-type {\n",
       "        vertical-align: middle;\n",
       "    }\n",
       "\n",
       "    .dataframe tbody tr th {\n",
       "        vertical-align: top;\n",
       "    }\n",
       "\n",
       "    .dataframe thead th {\n",
       "        text-align: right;\n",
       "    }\n",
       "</style>\n",
       "<table border=\"1\" class=\"dataframe\">\n",
       "  <thead>\n",
       "    <tr style=\"text-align: right;\">\n",
       "      <th></th>\n",
       "      <th>0</th>\n",
       "      <th>1</th>\n",
       "      <th>2</th>\n",
       "      <th>3</th>\n",
       "      <th>4</th>\n",
       "      <th>5</th>\n",
       "      <th>6</th>\n",
       "    </tr>\n",
       "  </thead>\n",
       "  <tbody>\n",
       "    <tr>\n",
       "      <th>0</th>\n",
       "      <td>3.07</td>\n",
       "      <td>-0.53</td>\n",
       "      <td>-0.26</td>\n",
       "      <td>-0.53</td>\n",
       "      <td>-0.39</td>\n",
       "      <td>-0.08</td>\n",
       "      <td>-0.13</td>\n",
       "    </tr>\n",
       "    <tr>\n",
       "      <th>1</th>\n",
       "      <td>3.07</td>\n",
       "      <td>-0.53</td>\n",
       "      <td>-0.26</td>\n",
       "      <td>-0.53</td>\n",
       "      <td>-0.39</td>\n",
       "      <td>0.33</td>\n",
       "      <td>0.22</td>\n",
       "    </tr>\n",
       "    <tr>\n",
       "      <th>2</th>\n",
       "      <td>-0.33</td>\n",
       "      <td>1.89</td>\n",
       "      <td>-0.26</td>\n",
       "      <td>-0.53</td>\n",
       "      <td>-0.39</td>\n",
       "      <td>-0.09</td>\n",
       "      <td>-0.12</td>\n",
       "    </tr>\n",
       "    <tr>\n",
       "      <th>3</th>\n",
       "      <td>3.07</td>\n",
       "      <td>-0.53</td>\n",
       "      <td>-0.26</td>\n",
       "      <td>-0.53</td>\n",
       "      <td>-0.39</td>\n",
       "      <td>-0.09</td>\n",
       "      <td>-0.10</td>\n",
       "    </tr>\n",
       "    <tr>\n",
       "      <th>4</th>\n",
       "      <td>-0.33</td>\n",
       "      <td>1.89</td>\n",
       "      <td>-0.26</td>\n",
       "      <td>-0.53</td>\n",
       "      <td>-0.39</td>\n",
       "      <td>-0.07</td>\n",
       "      <td>-0.11</td>\n",
       "    </tr>\n",
       "  </tbody>\n",
       "</table>\n",
       "</div>"
      ],
      "text/plain": [
       "      0     1     2     3     4     5     6\n",
       "0  3.07 -0.53 -0.26 -0.53 -0.39 -0.08 -0.13\n",
       "1  3.07 -0.53 -0.26 -0.53 -0.39  0.33  0.22\n",
       "2 -0.33  1.89 -0.26 -0.53 -0.39 -0.09 -0.12\n",
       "3  3.07 -0.53 -0.26 -0.53 -0.39 -0.09 -0.10\n",
       "4 -0.33  1.89 -0.26 -0.53 -0.39 -0.07 -0.11"
      ]
     },
     "execution_count": 36,
     "metadata": {},
     "output_type": "execute_result"
    }
   ],
   "source": [
    "# creating dataframes of x and y datasets\n",
    "X=pd.DataFrame(data=X)\n",
    "y=pd.DataFrame(data=y)\n",
    "X.head()\n"
   ]
  },
  {
   "cell_type": "markdown",
   "metadata": {},
   "source": [
    "# Model Building"
   ]
  },
  {
   "cell_type": "code",
   "execution_count": 37,
   "metadata": {},
   "outputs": [],
   "source": [
    "# splitting the dataset into training and test set\n",
    "x_train, x_test, y_train, y_test = train_test_split(X,y, test_size = 0.3, random_state =1)"
   ]
  },
  {
   "cell_type": "code",
   "execution_count": 38,
   "metadata": {},
   "outputs": [],
   "source": [
    "plt.rcParams[\"figure.figsize\"] = (10,7)"
   ]
  },
  {
   "cell_type": "code",
   "execution_count": 39,
   "metadata": {},
   "outputs": [
    {
     "data": {
      "text/plain": [
       "array([[-0.09129278],\n",
       "       [-0.09120195],\n",
       "       [-0.08795795],\n",
       "       ...,\n",
       "       [ 0.02096249],\n",
       "       [-0.08408258],\n",
       "       [-0.04819839]])"
      ]
     },
     "execution_count": 39,
     "metadata": {},
     "output_type": "execute_result"
    }
   ],
   "source": [
    "# linear regression model\n",
    "reg = LinearRegression()\n",
    "reg.fit(x_train,y_train)\n",
    "y_pred=reg.predict(x_test)\n",
    "y_pred"
   ]
  },
  {
   "cell_type": "code",
   "execution_count": 40,
   "metadata": {},
   "outputs": [
    {
     "data": {
      "text/plain": [
       "array([[1.45384875e-03, 1.97292655e-03, 8.72979688e-04, 2.44010481e-03,\n",
       "        1.12859005e-03, 9.37120494e-01, 3.27733333e-02]])"
      ]
     },
     "execution_count": 40,
     "metadata": {},
     "output_type": "execute_result"
    }
   ],
   "source": [
    "# coefficients of linear regression model\n",
    "reg.coef_"
   ]
  },
  {
   "cell_type": "code",
   "execution_count": 41,
   "metadata": {},
   "outputs": [],
   "source": [
    "# creating a dataframe of linear regression model coefficients\n",
    "coef_lin=pd.DataFrame(data=reg.coef_)\n",
    "coef_lin=coef_lin.values.reshape(7,1)"
   ]
  },
  {
   "cell_type": "code",
   "execution_count": 42,
   "metadata": {},
   "outputs": [
    {
     "data": {
      "text/plain": [
       "array([0.00022035])"
      ]
     },
     "execution_count": 42,
     "metadata": {},
     "output_type": "execute_result"
    }
   ],
   "source": [
    "# intercept of linear regression model\n",
    "reg.intercept_"
   ]
  },
  {
   "cell_type": "code",
   "execution_count": 43,
   "metadata": {},
   "outputs": [
    {
     "name": "stdout",
     "output_type": "stream",
     "text": [
      "0.20792882786008243 93.06988642818217\n"
     ]
    }
   ],
   "source": [
    "# computing rmse and r square values linear regression model\n",
    "rmse=np.sqrt(mean_squared_error(y_test,y_pred))\n",
    "r2=r2_score(y_test,y_pred)*100\n",
    "print(rmse,r2)        "
   ]
  },
  {
   "cell_type": "code",
   "execution_count": 44,
   "metadata": {},
   "outputs": [
    {
     "data": {
      "image/png": "[encoded data removed]",
      "text/plain": [
       "<Figure size 720x504 with 1 Axes>"
      ]
     },
     "metadata": {
      "needs_background": "light"
     },
     "output_type": "display_data"
    }
   ],
   "source": [
    "# residual plot linear regression model\n",
    "y_pred=y_pred.reshape(99014 ,1)\n",
    "x=[i for i in range(1,len(y_pred)+1)]\n",
    "x_plot = plt.scatter(x,(y_pred-y_test),c='green')\n",
    "plt.plot(x,[0]*len(y_pred),c='orange')\n",
    "plt.title(\"Fig:4.1 Residual Plot of Linear Regression\")\n",
    "plt.xlabel(\"Predicted Values\")\n",
    "plt.ylabel(\"Residuals\")\n",
    "plt.show()"
   ]
  },
  {
   "cell_type": "raw",
   "metadata": {},
   "source": [
    "The residual plot of linear regression model indicates that it is a good model as the residuals are clustered in and around the center and there doesn't exist any significant drift."
   ]
  },
  {
   "cell_type": "code",
   "execution_count": 45,
   "metadata": {},
   "outputs": [],
   "source": [
    "# ridge regression model\n",
    "ridgereg=Ridge(alpha=50)\n",
    "ridgereg.fit(x_train,y_train)\n",
    "pred1=ridgereg.predict(x_test)"
   ]
  },
  {
   "cell_type": "code",
   "execution_count": 46,
   "metadata": {},
   "outputs": [
    {
     "data": {
      "text/plain": [
       "array([[1.45313065e-03, 1.97418832e-03, 8.73791867e-04, 2.44206850e-03,\n",
       "        1.13030174e-03, 9.36899334e-01, 3.28760391e-02]])"
      ]
     },
     "execution_count": 46,
     "metadata": {},
     "output_type": "execute_result"
    }
   ],
   "source": [
    "# coefficients of ridge regression model\n",
    "ridgereg.coef_"
   ]
  },
  {
   "cell_type": "code",
   "execution_count": 47,
   "metadata": {},
   "outputs": [],
   "source": [
    "# creating a dataframe of ridge regression model coefficients\n",
    "coef_ridge=pd.DataFrame(data=ridgereg.coef_)\n",
    "coef_ridge=coef_ridge.values.reshape(7,1)"
   ]
  },
  {
   "cell_type": "code",
   "execution_count": 48,
   "metadata": {},
   "outputs": [
    {
     "data": {
      "text/plain": [
       "array([0.00022075])"
      ]
     },
     "execution_count": 48,
     "metadata": {},
     "output_type": "execute_result"
    }
   ],
   "source": [
    "# intercept of ridge regression model\n",
    "ridgereg.intercept_"
   ]
  },
  {
   "cell_type": "code",
   "execution_count": 49,
   "metadata": {},
   "outputs": [
    {
     "name": "stdout",
     "output_type": "stream",
     "text": [
      "0.20792882786008243 93.06988642818217\n"
     ]
    }
   ],
   "source": [
    "# computing rmse and r square values of ridge regression model\n",
    "rmse_1=np.sqrt(mean_squared_error(y_test,pred1))\n",
    "r2_1=r2_score(y_test,pred1)*100\n",
    "print(rmse,r2)"
   ]
  },
  {
   "cell_type": "code",
   "execution_count": 50,
   "metadata": {},
   "outputs": [
    {
     "data": {
      "image/png": "[encoded data removed]",
      "text/plain": [
       "<Figure size 720x504 with 1 Axes>"
      ]
     },
     "metadata": {
      "needs_background": "light"
     },
     "output_type": "display_data"
    }
   ],
   "source": [
    "# residual plot f ridge regression model\n",
    "x1=[i for i in range(1,len(pred1)+1)]\n",
    "x1_plot = plt.scatter(x1,(pred1-y_test),c='green')\n",
    "plt.plot(x1,[0]*len(pred1),c='orange')\n",
    "plt.title(\"Fig:4.2 Residual Plot of Ridge Regression\")\n",
    "plt.xlabel(\"Predicted Values\")\n",
    "plt.ylabel(\"Residuals\")\n",
    "plt.show()"
   ]
  },
  {
   "cell_type": "raw",
   "metadata": {},
   "source": [
    "The residual plot of ridge regression model indicates that it is a good model as the residuals are mostly clustered around the center and there  doesn't exist any significant drift."
   ]
  },
  {
   "cell_type": "code",
   "execution_count": 51,
   "metadata": {},
   "outputs": [
    {
     "data": {
      "text/plain": [
       "array([-0.08634694, -0.08627707, -0.08636227, ...,  0.01987799,\n",
       "       -0.07918369, -0.04692982])"
      ]
     },
     "execution_count": 51,
     "metadata": {},
     "output_type": "execute_result"
    }
   ],
   "source": [
    "# lasso regression\n",
    "lassoreg=Lasso(alpha=0.01,normalize=False)\n",
    "lassoreg.fit(x_train,y_train)\n",
    "pred2=lassoreg.predict(x_test)\n",
    "pred2"
   ]
  },
  {
   "cell_type": "code",
   "execution_count": 52,
   "metadata": {},
   "outputs": [
    {
     "data": {
      "text/plain": [
       "array([0.        , 0.        , 0.        , 0.        , 0.        ,\n",
       "       0.93156334, 0.02580882])"
      ]
     },
     "execution_count": 52,
     "metadata": {},
     "output_type": "execute_result"
    }
   ],
   "source": [
    "# coefficients of lasso regression model\n",
    "lassoreg.coef_"
   ]
  },
  {
   "cell_type": "code",
   "execution_count": 53,
   "metadata": {},
   "outputs": [
    {
     "data": {
      "text/plain": [
       "array([[0.        ],\n",
       "       [0.        ],\n",
       "       [0.        ],\n",
       "       [0.        ],\n",
       "       [0.        ],\n",
       "       [0.93156334],\n",
       "       [0.02580882]])"
      ]
     },
     "execution_count": 53,
     "metadata": {},
     "output_type": "execute_result"
    }
   ],
   "source": [
    "# creating a dataframe of lasso regression model coefficients\n",
    "coef_lasso=pd.DataFrame(data=lassoreg.coef_)\n",
    "coef_lasso=coef_lasso.values.reshape(7,1)\n",
    "coef_lasso"
   ]
  },
  {
   "cell_type": "code",
   "execution_count": 54,
   "metadata": {},
   "outputs": [
    {
     "data": {
      "text/plain": [
       "array([0.00023325])"
      ]
     },
     "execution_count": 54,
     "metadata": {},
     "output_type": "execute_result"
    }
   ],
   "source": [
    "# intercept of lasso regression model\n",
    "lassoreg.intercept_"
   ]
  },
  {
   "cell_type": "code",
   "execution_count": 55,
   "metadata": {},
   "outputs": [
    {
     "name": "stdout",
     "output_type": "stream",
     "text": [
      "0.20753941323126152 93.09581992230234\n"
     ]
    }
   ],
   "source": [
    "# computing rmse and r square values of lasso regression model\n",
    "rmse_2=np.sqrt(mean_squared_error(y_test,pred2))\n",
    "r2_2=r2_score(y_test,pred2)*100\n",
    "print(rmse_2,r2_2)"
   ]
  },
  {
   "cell_type": "code",
   "execution_count": 56,
   "metadata": {},
   "outputs": [
    {
     "data": {
      "image/png": "[encoded data removed]",
      "text/plain": [
       "<Figure size 720x504 with 1 Axes>"
      ]
     },
     "metadata": {
      "needs_background": "light"
     },
     "output_type": "display_data"
    }
   ],
   "source": [
    "# residual plot of lasso regression model\n",
    "pred2=pred2.reshape(len(pred2),1)\n",
    "x2=[i for i in range(1,len(pred2)+1)]\n",
    "x2_plot = plt.scatter(x2,(pred2-y_test),c='g')\n",
    "plt.plot(x2,[0]*len(pred2),c='orange')\n",
    "plt.title(\"Fig:4.3 Residual Plot of Lasso Regression\")\n",
    "plt.xlabel(\"Predicted Values\")\n",
    "plt.ylabel(\"Residuals\")\n",
    "plt.show()"
   ]
  },
  {
   "cell_type": "raw",
   "metadata": {},
   "source": [
    "The residual plot of lasso regression model indicates that it is a good model as the residuals are mostly clustered around the center and there  doesn't exist any significant drift."
   ]
  },
  {
   "cell_type": "code",
   "execution_count": 57,
   "metadata": {},
   "outputs": [
    {
     "name": "stdout",
     "output_type": "stream",
     "text": [
      "0.24016260504416553 90.75468500125419\n"
     ]
    }
   ],
   "source": [
    "#K Nearest Regressor\n",
    "neigh = KNeighborsRegressor(n_neighbors=18)\n",
    "neigh.fit(x_train,y_train)\n",
    "pred3=neigh.predict(x_test)\n",
    "pred3\n",
    "# computing rmse and r square values of k nearest regression model\n",
    "rmse_3=np.sqrt(mean_squared_error(y_test,pred3))\n",
    "r2_3=r2_score(y_test,pred3)*100\n",
    "print(rmse_3,r2_3)"
   ]
  },
  {
   "cell_type": "code",
   "execution_count": 58,
   "metadata": {},
   "outputs": [
    {
     "name": "stdout",
     "output_type": "stream",
     "text": [
      "0.3248167276135222 83.0882825287581\n"
     ]
    }
   ],
   "source": [
    "#Decision Tree Regressor\n",
    "dt = DecisionTreeRegressor(criterion='mse',random_state=0,max_depth=5,min_samples_split=3,min_samples_leaf=6,\n",
    "                           min_weight_fraction_leaf=0.0,max_features='auto',max_leaf_nodes=15)\n",
    "dt.fit(x_train, y_train)\n",
    "\n",
    "pred4=dt.predict(x_test)\n",
    "pred4\n",
    "# computing rmse and r square values of decision tree regression model\n",
    "rmse_4=np.sqrt(mean_squared_error(y_test,pred4))\n",
    "r2_4=r2_score(y_test,pred4)*100\n",
    "print(rmse_4,r2_4)"
   ]
  },
  {
   "cell_type": "code",
   "execution_count": 59,
   "metadata": {},
   "outputs": [
    {
     "data": {
      "image/png": "[encoded data removed]",
      "text/plain": [
       "<Figure size 1224x1008 with 1 Axes>"
      ]
     },
     "metadata": {
      "needs_background": "light"
     },
     "output_type": "display_data"
    }
   ],
   "source": [
    "# plotting decision regressor tree\n",
    "cols=list(trainX.columns.values)\n",
    "plt.rcParams[\"figure.figsize\"] = (17,14)\n",
    "tree.plot_tree(dt.fit(trainX,trainY),feature_names=cols,filled=True,precision=3,proportion=True,rounded=True,)\n",
    "plt.title(\"Fig:5.1 Decision tree Regressor graph\")\n",
    "plt.show()"
   ]
  },
  {
   "cell_type": "code",
   "execution_count": 60,
   "metadata": {},
   "outputs": [
    {
     "name": "stdout",
     "output_type": "stream",
     "text": [
      "0.29078475112706687 86.4464145667577\n"
     ]
    }
   ],
   "source": [
    "# Gradient Boosting Regressor\n",
    "gra_reg =  GradientBoostingRegressor(n_estimators=20,criterion='mse',random_state=1)\n",
    "gra_reg.fit(x_train, y_train)\n",
    "pred5 = gra_reg.predict(x_test)\n",
    "# computing rmse and r square values of Gradient Boosting regression model\n",
    "rmse_5=np.sqrt(mean_squared_error(y_test,pred5))\n",
    "r2_5=r2_score(y_test,pred5)*100\n",
    "print(rmse_5,r2_5)"
   ]
  },
  {
   "cell_type": "markdown",
   "metadata": {},
   "source": [
    "# Feature Importance"
   ]
  },
  {
   "cell_type": "code",
   "execution_count": 61,
   "metadata": {},
   "outputs": [
    {
     "data": {
      "text/html": [
       "<div>\n",
       "<style scoped>\n",
       "    .dataframe tbody tr th:only-of-type {\n",
       "        vertical-align: middle;\n",
       "    }\n",
       "\n",
       "    .dataframe tbody tr th {\n",
       "        vertical-align: top;\n",
       "    }\n",
       "\n",
       "    .dataframe thead th {\n",
       "        text-align: right;\n",
       "    }\n",
       "</style>\n",
       "<table border=\"1\" class=\"dataframe\">\n",
       "  <thead>\n",
       "    <tr style=\"text-align: right;\">\n",
       "      <th></th>\n",
       "      <th>metrics</th>\n",
       "      <th>Linear reg</th>\n",
       "      <th>Ridge reg</th>\n",
       "      <th>Lasso reg</th>\n",
       "      <th>K Nearest reg</th>\n",
       "      <th>Decision Tree reg</th>\n",
       "      <th>Gradient boositng reg</th>\n",
       "    </tr>\n",
       "  </thead>\n",
       "  <tbody>\n",
       "    <tr>\n",
       "      <th>0</th>\n",
       "      <td>RMSE</td>\n",
       "      <td>0.21</td>\n",
       "      <td>0.21</td>\n",
       "      <td>0.21</td>\n",
       "      <td>0.24</td>\n",
       "      <td>0.32</td>\n",
       "      <td>0.29</td>\n",
       "    </tr>\n",
       "    <tr>\n",
       "      <th>1</th>\n",
       "      <td>R-SQUARE</td>\n",
       "      <td>93.07</td>\n",
       "      <td>93.07</td>\n",
       "      <td>93.10</td>\n",
       "      <td>90.75</td>\n",
       "      <td>83.09</td>\n",
       "      <td>86.45</td>\n",
       "    </tr>\n",
       "  </tbody>\n",
       "</table>\n",
       "</div>"
      ],
      "text/plain": [
       "     metrics  Linear reg  Ridge reg  Lasso reg  K Nearest reg  \\\n",
       "0      RMSE         0.21       0.21       0.21           0.24   \n",
       "1  R-SQUARE        93.07      93.07      93.10          90.75   \n",
       "\n",
       "   Decision Tree reg  Gradient boositng reg  \n",
       "0               0.32                   0.29  \n",
       "1              83.09                  86.45  "
      ]
     },
     "execution_count": 61,
     "metadata": {},
     "output_type": "execute_result"
    }
   ],
   "source": [
    "# creating a dataframe consisting of rmse and r square values\n",
    "metrics_df=pd.DataFrame(columns=['metrics','Linear reg','Ridge reg','Lasso reg','K Nearest reg','Decision Tree reg','Gradient boositng reg'])\n",
    "metrics_df=metrics_df.append({'metrics':\"RMSE \", 'Linear reg':rmse, 'Ridge reg':rmse_1, 'Lasso reg':rmse_2,'K Nearest reg':rmse_3,'Decision Tree reg':rmse_4,'Gradient boositng reg':rmse_5}, ignore_index=True)\n",
    "metrics_df=metrics_df.append({'metrics': \"R-SQUARE \", 'Linear reg':r2, 'Ridge reg':r2_1, 'Lasso reg':r2_2,'K Nearest reg':r2_3,'Decision Tree reg':r2_4,'Gradient boositng reg':r2_5}, ignore_index=True)\n",
    "metrics_df"
   ]
  },
  {
   "cell_type": "raw",
   "metadata": {},
   "source": [
    "Lasso regression model of alpha 0.01 produces the least RMSE value and the highest R square value. Hence it is considered to be the best model to predict the test data upvotes."
   ]
  },
  {
   "cell_type": "code",
   "execution_count": 62,
   "metadata": {},
   "outputs": [
    {
     "data": {
      "text/html": [
       "<div>\n",
       "<style scoped>\n",
       "    .dataframe tbody tr th:only-of-type {\n",
       "        vertical-align: middle;\n",
       "    }\n",
       "\n",
       "    .dataframe tbody tr th {\n",
       "        vertical-align: top;\n",
       "    }\n",
       "\n",
       "    .dataframe thead th {\n",
       "        text-align: right;\n",
       "    }\n",
       "</style>\n",
       "<table border=\"1\" class=\"dataframe\">\n",
       "  <thead>\n",
       "    <tr style=\"text-align: right;\">\n",
       "      <th></th>\n",
       "      <th>Linear reg</th>\n",
       "      <th>Ridge reg</th>\n",
       "      <th>Lasso reg</th>\n",
       "      <th>Independent Variables</th>\n",
       "    </tr>\n",
       "  </thead>\n",
       "  <tbody>\n",
       "    <tr>\n",
       "      <th>5</th>\n",
       "      <td>[0.9371204943837568]</td>\n",
       "      <td>[0.9368993337104093]</td>\n",
       "      <td>[0.9315633376476539]</td>\n",
       "      <td>Reputation_Views</td>\n",
       "    </tr>\n",
       "    <tr>\n",
       "      <th>6</th>\n",
       "      <td>[0.03277333331590616]</td>\n",
       "      <td>[0.03287603914192135]</td>\n",
       "      <td>[0.02580881936901728]</td>\n",
       "      <td>Answers_Views</td>\n",
       "    </tr>\n",
       "    <tr>\n",
       "      <th>0</th>\n",
       "      <td>[0.0014538487532552032]</td>\n",
       "      <td>[0.001453130650572904]</td>\n",
       "      <td>[0.0]</td>\n",
       "      <td>Tag_a</td>\n",
       "    </tr>\n",
       "    <tr>\n",
       "      <th>1</th>\n",
       "      <td>[0.0019729265519431265]</td>\n",
       "      <td>[0.0019741883202302303]</td>\n",
       "      <td>[0.0]</td>\n",
       "      <td>Tag_c</td>\n",
       "    </tr>\n",
       "    <tr>\n",
       "      <th>2</th>\n",
       "      <td>[0.0008729796875749335]</td>\n",
       "      <td>[0.0008737918667821021]</td>\n",
       "      <td>[0.0]</td>\n",
       "      <td>Tag_h</td>\n",
       "    </tr>\n",
       "    <tr>\n",
       "      <th>3</th>\n",
       "      <td>[0.0024401048068484416]</td>\n",
       "      <td>[0.002442068503523971]</td>\n",
       "      <td>[0.0]</td>\n",
       "      <td>Tag_j</td>\n",
       "    </tr>\n",
       "    <tr>\n",
       "      <th>4</th>\n",
       "      <td>[0.0011285900506202316]</td>\n",
       "      <td>[0.0011303017428781793]</td>\n",
       "      <td>[0.0]</td>\n",
       "      <td>Tag_p</td>\n",
       "    </tr>\n",
       "  </tbody>\n",
       "</table>\n",
       "</div>"
      ],
      "text/plain": [
       "                Linear reg                Ridge reg              Lasso reg  \\\n",
       "5     [0.9371204943837568]     [0.9368993337104093]   [0.9315633376476539]   \n",
       "6    [0.03277333331590616]    [0.03287603914192135]  [0.02580881936901728]   \n",
       "0  [0.0014538487532552032]   [0.001453130650572904]                  [0.0]   \n",
       "1  [0.0019729265519431265]  [0.0019741883202302303]                  [0.0]   \n",
       "2  [0.0008729796875749335]  [0.0008737918667821021]                  [0.0]   \n",
       "3  [0.0024401048068484416]   [0.002442068503523971]                  [0.0]   \n",
       "4  [0.0011285900506202316]  [0.0011303017428781793]                  [0.0]   \n",
       "\n",
       "  Independent Variables  \n",
       "5      Reputation_Views  \n",
       "6         Answers_Views  \n",
       "0                 Tag_a  \n",
       "1                 Tag_c  \n",
       "2                 Tag_h  \n",
       "3                 Tag_j  \n",
       "4                 Tag_p  "
      ]
     },
     "execution_count": 62,
     "metadata": {},
     "output_type": "execute_result"
    }
   ],
   "source": [
    "# creating a dataframe to display the feature's importance\n",
    "feature_df=pd.DataFrame(columns=['Linear reg','Ridge reg','Lasso reg'])\n",
    "for i in range(7):\n",
    "    feature_df=feature_df.append({'Linear reg':coef_lin[i], 'Ridge reg':coef_ridge[i], 'Lasso reg':coef_lasso[i]}, ignore_index=True)\n",
    "\n",
    "data_join=feature_df.join(xcol_names, lsuffix=\"_left\", rsuffix=\"_right\").sort_values('Lasso reg', axis=0, ascending=False)\n",
    "data_join"
   ]
  },
  {
   "cell_type": "code",
   "execution_count": 63,
   "metadata": {},
   "outputs": [],
   "source": [
    "plt.rcParams[\"figure.figsize\"] = (8,6)"
   ]
  },
  {
   "cell_type": "code",
   "execution_count": 64,
   "metadata": {},
   "outputs": [
    {
     "data": {
      "image/png": "[encoded data removed]",
      "text/plain": [
       "<Figure size 576x432 with 1 Axes>"
      ]
     },
     "metadata": {
      "needs_background": "light"
     },
     "output_type": "display_data"
    }
   ],
   "source": [
    "# plotting model coefficients of linear regression model\n",
    "coef_graph =pd.Series(coef_lin.ravel(), xcol_names).sort_values(ascending=False)\n",
    "coef_graph.plot(kind='bar', title='Fig:6.1 Model Coefficients of Linear Regression Model',color='green')\n",
    "plt.xlabel(\"Independent Variables\")\n",
    "plt.ylabel(\"Coefficients\")\n",
    "plt.show()"
   ]
  },
  {
   "cell_type": "code",
   "execution_count": 65,
   "metadata": {},
   "outputs": [
    {
     "data": {
      "image/png": "[encoded data removed]",
      "text/plain": [
       "<Figure size 576x432 with 1 Axes>"
      ]
     },
     "metadata": {
      "needs_background": "light"
     },
     "output_type": "display_data"
    }
   ],
   "source": [
    "# plotting model coefficients of ridge regression model\n",
    "coef_graph1 =pd.Series(coef_ridge.ravel(), xcol_names).sort_values(ascending=False)\n",
    "coef_graph1.plot(kind='bar', title='Fig:6.2 Model Coefficients of Ridge Regression Model',color='green')\n",
    "plt.xlabel(\"Independent Variables\")\n",
    "plt.ylabel(\"Coefficients\")\n",
    "plt.show()"
   ]
  },
  {
   "cell_type": "code",
   "execution_count": 66,
   "metadata": {},
   "outputs": [
    {
     "data": {
      "image/png": "[encoded data removed]",
      "text/plain": [
       "<Figure size 576x432 with 1 Axes>"
      ]
     },
     "metadata": {
      "needs_background": "light"
     },
     "output_type": "display_data"
    }
   ],
   "source": [
    "# plotting model coefficients of lasso regression model\n",
    "coef_graph2 =pd.Series(coef_lasso.ravel(), xcol_names).sort_values(ascending=False)\n",
    "coef_graph2.plot(kind='bar', title='Fig:6.3 Model Coefficients of Lasso Regression Model',color='green')\n",
    "plt.xlabel(\"Independent Variables\")\n",
    "plt.ylabel(\"Coefficients\")\n",
    "plt.show()"
   ]
  },
  {
   "cell_type": "raw",
   "metadata": {},
   "source": [
    "Inference:\n",
    "1. All the 3 models gave a similar weightage of around 0.94 to the Reputation_Views feature .\n",
    "2. So, Reputation_Views becomes the most important feature followed by Answers_views.\n",
    "3. All other features have a very less significance.\n",
    "4. Linear and ridge regression models produced the weighages for tags j, c, a, p, h as inferred from the EDA."
   ]
  },
  {
   "cell_type": "markdown",
   "metadata": {},
   "source": [
    "# Predicting Test Data"
   ]
  },
  {
   "cell_type": "code",
   "execution_count": 67,
   "metadata": {},
   "outputs": [
    {
     "name": "stdout",
     "output_type": "stream",
     "text": [
      "[[202.45620417]\n",
      " [ 83.7538304 ]\n",
      " [ 38.83746167]\n",
      " ...\n",
      " [ 55.58219464]\n",
      " [ 22.24520646]\n",
      " [ 28.21543556]]\n"
     ]
    }
   ],
   "source": [
    "# fitting the best model on test \n",
    "test1 = pd.DataFrame(test)\n",
    "test_data = test1.drop(['ID'], axis=1)\n",
    "test_ID=test1.ID\n",
    "testX = sc_X.fit_transform(test_data)\n",
    "Test=pd.DataFrame(data=testX)\n",
    "Test.head()\n",
    "pred_test=((sc_y.inverse_transform(lassoreg.predict((np.array(Test))))))\n",
    "print(pred_test.reshape(len(pred_test),1))"
   ]
  },
  {
   "cell_type": "code",
   "execution_count": 68,
   "metadata": {},
   "outputs": [],
   "source": [
    "test_ID = pd.DataFrame(test_ID)\n",
    "test_ID.reset_index(inplace=True)\n",
    "\n",
    "test_df = pd.DataFrame(pred_test)\n",
    "test_df= test_df.rename(columns={0: 'Upvotes'})\n",
    "test_df_join=pd.DataFrame({\"ID\":test_ID.ID,\"Upvotes\":test_df.Upvotes})\n",
    "test_df_join.to_csv('upvotes1.csv',index=False)"
   ]
  }
 ],
 "metadata": {
  "kernelspec": {
   "display_name": "Python 3",
   "language": "python",
   "name": "python3"
  },
  "language_info": {
   "codemirror_mode": {
    "name": "ipython",
    "version": 3
   },
   "file_extension": ".py",
   "mimetype": "text/x-python",
   "name": "python",
   "nbconvert_exporter": "python",
   "pygments_lexer": "ipython3",
   "version": "3.8.5"
  }
 },
 "nbformat": 4,
 "nbformat_minor": 4
}
